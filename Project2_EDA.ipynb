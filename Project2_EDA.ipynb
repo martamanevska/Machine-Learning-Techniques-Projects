{
 "cells": [
  {
   "cell_type": "markdown",
   "metadata": {
    "id": "j-5cGoBta2qP"
   },
   "source": [
    "# Project 2 - Classification\n",
    "## Predict customers likely to respond to a marketing campaign\n",
    "### This notebook uses the *campaign.xlsx* dataset\n",
    "\n",
    "(c) Nuno António 2022 - Rev. 1.0"
   ]
  },
  {
   "cell_type": "markdown",
   "metadata": {},
   "source": [
    "## Group E"
   ]
  },
  {
   "cell_type": "markdown",
   "metadata": {},
   "source": [
    "- 20220033 Yramaia Guimarães\n",
    "- 20221104 Antonina Filatova\n",
    "- 20220056 Marta Manevska\n",
    "- 20220044 Ludovico Toscano"
   ]
  },
  {
   "cell_type": "markdown",
   "metadata": {},
   "source": [
    "## Introduction:"
   ]
  },
  {
   "cell_type": "markdown",
   "metadata": {},
   "source": [
    "The project was developed considering the following notebooks:"
   ]
  },
  {
   "cell_type": "markdown",
   "metadata": {},
   "source": [
    "- **1. Project2_EDA**: contains the exploration, data cleaning and feature engeneering. At the end of this notebook there is the comparison of the models and the conclusion of the project;\n",
    "- **2. Project2 SVM**;\n",
    "- **3. Project2 Neural Network**;\n",
    "- **4. Project2 Logistic Regression**;\n",
    "- **5. Project2 Naïve Bayes**;\n",
    "- **6. Project2 K-Nearest Neighbor**;\n",
    "- **7. Project2 Decision tree**;"
   ]
  },
  {
   "cell_type": "markdown",
   "metadata": {
    "id": "S8ILwIuJa2qR"
   },
   "source": [
    "## Dataset description\n",
    "\n",
    "- **AcceptedCmp1** - 1 if customer accepted the offer in the 1st campaign, 0 otherwise \n",
    "- **AcceptedCmp2** - 1 if customer accepted the offer in the 2nd campaign, 0 otherwise \n",
    "- **AcceptedCmp3** - 1 if customer accepted the offer in the 3rd campaign, 0 otherwise \n",
    "- **AcceptedCmp4** - 1 if customer accepted the offer in the 4th campaign, 0 otherwise \n",
    "- **AcceptedCmp5** - 1 if customer accepted the offer in the 5th campaign, 0 otherwise \n",
    "- **Response (target)** - 1 if customer accepted the offer in the last campaign, 0 otherwise \n",
    "- **Complain** - 1 if customer complained in the last 2 years\n",
    "- **DtCustomer** - date of customer’s enrolment with the company\n",
    "- **Education** - customer’s level of education\n",
    "- **Marital** - customer’s marital status\n",
    "- **Kidhome** - number of small children in customer’s household\n",
    "- **Teenhome** - number of teenagers in customer’s household\n",
    "- **Income** - customer’s yearly household income\n",
    "- **MntFishProducts** - amount spent on fish products in the last 2 years\n",
    "- **MntMeatProducts** - amount spent on meat products in the last 2 years\n",
    "- **MntFruits** - amount spent on fruits products in the last 2 years\n",
    "- **MntSweetProducts** - amount spent on sweet products in the last 2 years\n",
    "- **MntWines** - amount spent on wine products in the last 2 years\n",
    "- **MntGoldProds** - amount spent on gold products in the last 2 years\n",
    "- **NumDealsPurchases** - number of purchases made with discount\n",
    "- **NumCatalogPurchases** - number of purchases made using catalogue\n",
    "- **NumStorePurchases** - number of purchases made directly in stores\n",
    "- **NumWebPurchases** - number of purchases made through company’s web site\n",
    "- **NumWebVisitsMonth** - number of visits to company’s web site in the last month\n",
    "- **Recency** - number of days since the last purchase"
   ]
  },
  {
   "cell_type": "markdown",
   "metadata": {
    "id": "BjG5sPYva2qS"
   },
   "source": [
    "[Link to the original dataset](https://github.com/ifood/ifood-data-business-analyst-test)  \n",
    "[A complete solution](https://github.com/mgermy/project_model_cluster)  \n",
    "[A smaller one](https://github.com/nailson/ifood-data-business-analyst-test)  \n",
    "[Here you can find the discussion on kaggle](https://www.kaggle.com/datasets/jackdaoud/marketing-data?select=ifood_df.csv)"
   ]
  },
  {
   "cell_type": "markdown",
   "metadata": {
    "id": "I6Zh7zQUa2qS"
   },
   "source": [
    "We can notice that we can build a monetary feature summing all the features related to monetary, and we can also built a frequency feature summing all the purchases features and then dividing by the dt_customer.  \n",
    "Maybe can make sense after this engineering is done to make some percentage features, like the percentage spent in one category compared to the total and also the pecentage of purchases done compared to the total."
   ]
  },
  {
   "cell_type": "markdown",
   "metadata": {
    "id": "Ihy99WXMa2qS"
   },
   "source": [
    "## Initializations and data loading"
   ]
  },
  {
   "cell_type": "code",
   "execution_count": 1,
   "metadata": {
    "id": "wkoSgmbga2qS"
   },
   "outputs": [],
   "source": [
    "# Installing the necessary packages:\n",
    "# Packages\n",
    "import numpy as np\n",
    "import pandas as pd\n",
    "import matplotlib.pyplot as plt\n",
    "import seaborn as sns #visualizations"
   ]
  },
  {
   "cell_type": "code",
   "execution_count": null,
   "metadata": {
    "id": "LaQD4Zu8a2qT"
   },
   "outputs": [],
   "source": [
    "# Formating that will be applied in all of the notebook\n",
    "subPlots_Title_fontSize = 12\n",
    "subPlots_xAxis_fontSize = 15\n",
    "subPlots_yAxis_fontSize = 10\n",
    "subPlots_label_fontSize = 12\n",
    "heatmaps_text_fontSize = 12\n",
    "\n",
    "plots_Title_fontSize = 14\n",
    "plots_Title_textColour = 'black'\n",
    "\n",
    "plots_Legend_fontSize = 12\n",
    "plots_Legend_textColour = 'black'\n",
    "\n",
    "# increase the number of columns to display\n",
    "pd.set_option('display.max_columns', 500)"
   ]
  },
  {
   "cell_type": "code",
   "execution_count": null,
   "metadata": {
    "id": "P4jiGSoca2qT",
    "outputId": "fdf9372a-6893-408e-928b-96474e466ed0"
   },
   "outputs": [
    {
     "data": {
      "text/html": [
       "<div>\n",
       "<style scoped>\n",
       "    .dataframe tbody tr th:only-of-type {\n",
       "        vertical-align: middle;\n",
       "    }\n",
       "\n",
       "    .dataframe tbody tr th {\n",
       "        vertical-align: top;\n",
       "    }\n",
       "\n",
       "    .dataframe thead th {\n",
       "        text-align: right;\n",
       "    }\n",
       "</style>\n",
       "<table border=\"1\" class=\"dataframe\">\n",
       "  <thead>\n",
       "    <tr style=\"text-align: right;\">\n",
       "      <th></th>\n",
       "      <th>count</th>\n",
       "      <th>unique</th>\n",
       "      <th>top</th>\n",
       "      <th>freq</th>\n",
       "      <th>mean</th>\n",
       "      <th>std</th>\n",
       "      <th>min</th>\n",
       "      <th>25%</th>\n",
       "      <th>50%</th>\n",
       "      <th>75%</th>\n",
       "      <th>max</th>\n",
       "    </tr>\n",
       "  </thead>\n",
       "  <tbody>\n",
       "    <tr>\n",
       "      <th>ID</th>\n",
       "      <td>2240.0</td>\n",
       "      <td>NaN</td>\n",
       "      <td>NaN</td>\n",
       "      <td>NaN</td>\n",
       "      <td>5592.159821</td>\n",
       "      <td>3246.662198</td>\n",
       "      <td>0.0</td>\n",
       "      <td>2828.25</td>\n",
       "      <td>5458.5</td>\n",
       "      <td>8427.75</td>\n",
       "      <td>11191.0</td>\n",
       "    </tr>\n",
       "    <tr>\n",
       "      <th>Year_Birth</th>\n",
       "      <td>2240.0</td>\n",
       "      <td>NaN</td>\n",
       "      <td>NaN</td>\n",
       "      <td>NaN</td>\n",
       "      <td>1968.805804</td>\n",
       "      <td>11.984069</td>\n",
       "      <td>1893.0</td>\n",
       "      <td>1959.0</td>\n",
       "      <td>1970.0</td>\n",
       "      <td>1977.0</td>\n",
       "      <td>1996.0</td>\n",
       "    </tr>\n",
       "    <tr>\n",
       "      <th>Education</th>\n",
       "      <td>2240</td>\n",
       "      <td>5</td>\n",
       "      <td>Graduation</td>\n",
       "      <td>1127</td>\n",
       "      <td>NaN</td>\n",
       "      <td>NaN</td>\n",
       "      <td>NaN</td>\n",
       "      <td>NaN</td>\n",
       "      <td>NaN</td>\n",
       "      <td>NaN</td>\n",
       "      <td>NaN</td>\n",
       "    </tr>\n",
       "    <tr>\n",
       "      <th>Marital_Status</th>\n",
       "      <td>2240</td>\n",
       "      <td>8</td>\n",
       "      <td>Married</td>\n",
       "      <td>864</td>\n",
       "      <td>NaN</td>\n",
       "      <td>NaN</td>\n",
       "      <td>NaN</td>\n",
       "      <td>NaN</td>\n",
       "      <td>NaN</td>\n",
       "      <td>NaN</td>\n",
       "      <td>NaN</td>\n",
       "    </tr>\n",
       "    <tr>\n",
       "      <th>Income</th>\n",
       "      <td>2216.0</td>\n",
       "      <td>NaN</td>\n",
       "      <td>NaN</td>\n",
       "      <td>NaN</td>\n",
       "      <td>52247.251354</td>\n",
       "      <td>25173.076661</td>\n",
       "      <td>1730.0</td>\n",
       "      <td>35303.0</td>\n",
       "      <td>51381.5</td>\n",
       "      <td>68522.0</td>\n",
       "      <td>666666.0</td>\n",
       "    </tr>\n",
       "    <tr>\n",
       "      <th>Kidhome</th>\n",
       "      <td>2240.0</td>\n",
       "      <td>NaN</td>\n",
       "      <td>NaN</td>\n",
       "      <td>NaN</td>\n",
       "      <td>0.444196</td>\n",
       "      <td>0.538398</td>\n",
       "      <td>0.0</td>\n",
       "      <td>0.0</td>\n",
       "      <td>0.0</td>\n",
       "      <td>1.0</td>\n",
       "      <td>2.0</td>\n",
       "    </tr>\n",
       "    <tr>\n",
       "      <th>Teenhome</th>\n",
       "      <td>2240.0</td>\n",
       "      <td>NaN</td>\n",
       "      <td>NaN</td>\n",
       "      <td>NaN</td>\n",
       "      <td>0.50625</td>\n",
       "      <td>0.544538</td>\n",
       "      <td>0.0</td>\n",
       "      <td>0.0</td>\n",
       "      <td>0.0</td>\n",
       "      <td>1.0</td>\n",
       "      <td>2.0</td>\n",
       "    </tr>\n",
       "    <tr>\n",
       "      <th>Dt_Customer</th>\n",
       "      <td>2240</td>\n",
       "      <td>665</td>\n",
       "      <td>2012-08-31</td>\n",
       "      <td>12</td>\n",
       "      <td>NaN</td>\n",
       "      <td>NaN</td>\n",
       "      <td>NaN</td>\n",
       "      <td>NaN</td>\n",
       "      <td>NaN</td>\n",
       "      <td>NaN</td>\n",
       "      <td>NaN</td>\n",
       "    </tr>\n",
       "    <tr>\n",
       "      <th>Recency</th>\n",
       "      <td>2240.0</td>\n",
       "      <td>NaN</td>\n",
       "      <td>NaN</td>\n",
       "      <td>NaN</td>\n",
       "      <td>49.109375</td>\n",
       "      <td>28.962453</td>\n",
       "      <td>0.0</td>\n",
       "      <td>24.0</td>\n",
       "      <td>49.0</td>\n",
       "      <td>74.0</td>\n",
       "      <td>99.0</td>\n",
       "    </tr>\n",
       "    <tr>\n",
       "      <th>MntWines</th>\n",
       "      <td>2237.0</td>\n",
       "      <td>NaN</td>\n",
       "      <td>NaN</td>\n",
       "      <td>NaN</td>\n",
       "      <td>303.838623</td>\n",
       "      <td>336.576209</td>\n",
       "      <td>0.0</td>\n",
       "      <td>24.0</td>\n",
       "      <td>173.0</td>\n",
       "      <td>504.0</td>\n",
       "      <td>1493.0</td>\n",
       "    </tr>\n",
       "    <tr>\n",
       "      <th>MntFruits</th>\n",
       "      <td>2238.0</td>\n",
       "      <td>NaN</td>\n",
       "      <td>NaN</td>\n",
       "      <td>NaN</td>\n",
       "      <td>26.252011</td>\n",
       "      <td>39.699755</td>\n",
       "      <td>0.0</td>\n",
       "      <td>1.0</td>\n",
       "      <td>8.0</td>\n",
       "      <td>33.0</td>\n",
       "      <td>199.0</td>\n",
       "    </tr>\n",
       "    <tr>\n",
       "      <th>MntMeatProducts</th>\n",
       "      <td>2240.0</td>\n",
       "      <td>NaN</td>\n",
       "      <td>NaN</td>\n",
       "      <td>NaN</td>\n",
       "      <td>166.95</td>\n",
       "      <td>225.715373</td>\n",
       "      <td>0.0</td>\n",
       "      <td>16.0</td>\n",
       "      <td>67.0</td>\n",
       "      <td>232.0</td>\n",
       "      <td>1725.0</td>\n",
       "    </tr>\n",
       "    <tr>\n",
       "      <th>MntFishProducts</th>\n",
       "      <td>2240.0</td>\n",
       "      <td>NaN</td>\n",
       "      <td>NaN</td>\n",
       "      <td>NaN</td>\n",
       "      <td>37.523661</td>\n",
       "      <td>54.630198</td>\n",
       "      <td>-1.0</td>\n",
       "      <td>3.0</td>\n",
       "      <td>12.0</td>\n",
       "      <td>50.0</td>\n",
       "      <td>259.0</td>\n",
       "    </tr>\n",
       "    <tr>\n",
       "      <th>MntSweetProducts</th>\n",
       "      <td>2240.0</td>\n",
       "      <td>NaN</td>\n",
       "      <td>NaN</td>\n",
       "      <td>NaN</td>\n",
       "      <td>11634.152232</td>\n",
       "      <td>497378.604745</td>\n",
       "      <td>0.0</td>\n",
       "      <td>1.0</td>\n",
       "      <td>8.0</td>\n",
       "      <td>33.25</td>\n",
       "      <td>23423444.0</td>\n",
       "    </tr>\n",
       "    <tr>\n",
       "      <th>MntGoldProds</th>\n",
       "      <td>2187.0</td>\n",
       "      <td>NaN</td>\n",
       "      <td>NaN</td>\n",
       "      <td>NaN</td>\n",
       "      <td>44.596251</td>\n",
       "      <td>52.419487</td>\n",
       "      <td>0.0</td>\n",
       "      <td>9.0</td>\n",
       "      <td>25.0</td>\n",
       "      <td>57.0</td>\n",
       "      <td>362.0</td>\n",
       "    </tr>\n",
       "    <tr>\n",
       "      <th>NumDealsPurchases</th>\n",
       "      <td>2240.0</td>\n",
       "      <td>NaN</td>\n",
       "      <td>NaN</td>\n",
       "      <td>NaN</td>\n",
       "      <td>2.325</td>\n",
       "      <td>1.932238</td>\n",
       "      <td>0.0</td>\n",
       "      <td>1.0</td>\n",
       "      <td>2.0</td>\n",
       "      <td>3.0</td>\n",
       "      <td>15.0</td>\n",
       "    </tr>\n",
       "    <tr>\n",
       "      <th>NumWebPurchases</th>\n",
       "      <td>2240.0</td>\n",
       "      <td>NaN</td>\n",
       "      <td>NaN</td>\n",
       "      <td>NaN</td>\n",
       "      <td>4.084821</td>\n",
       "      <td>2.778714</td>\n",
       "      <td>0.0</td>\n",
       "      <td>2.0</td>\n",
       "      <td>4.0</td>\n",
       "      <td>6.0</td>\n",
       "      <td>27.0</td>\n",
       "    </tr>\n",
       "    <tr>\n",
       "      <th>NumCatalogPurchases</th>\n",
       "      <td>2240.0</td>\n",
       "      <td>NaN</td>\n",
       "      <td>NaN</td>\n",
       "      <td>NaN</td>\n",
       "      <td>2.662054</td>\n",
       "      <td>2.923101</td>\n",
       "      <td>0.0</td>\n",
       "      <td>0.0</td>\n",
       "      <td>2.0</td>\n",
       "      <td>4.0</td>\n",
       "      <td>28.0</td>\n",
       "    </tr>\n",
       "    <tr>\n",
       "      <th>NumStorePurchases</th>\n",
       "      <td>2240.0</td>\n",
       "      <td>NaN</td>\n",
       "      <td>NaN</td>\n",
       "      <td>NaN</td>\n",
       "      <td>5.790179</td>\n",
       "      <td>3.250958</td>\n",
       "      <td>0.0</td>\n",
       "      <td>3.0</td>\n",
       "      <td>5.0</td>\n",
       "      <td>8.0</td>\n",
       "      <td>13.0</td>\n",
       "    </tr>\n",
       "    <tr>\n",
       "      <th>NumWebVisitsMonth</th>\n",
       "      <td>2240.0</td>\n",
       "      <td>NaN</td>\n",
       "      <td>NaN</td>\n",
       "      <td>NaN</td>\n",
       "      <td>5.316518</td>\n",
       "      <td>2.426645</td>\n",
       "      <td>0.0</td>\n",
       "      <td>3.0</td>\n",
       "      <td>6.0</td>\n",
       "      <td>7.0</td>\n",
       "      <td>20.0</td>\n",
       "    </tr>\n",
       "    <tr>\n",
       "      <th>AcceptedCmp3</th>\n",
       "      <td>2240.0</td>\n",
       "      <td>NaN</td>\n",
       "      <td>NaN</td>\n",
       "      <td>NaN</td>\n",
       "      <td>0.072768</td>\n",
       "      <td>0.259813</td>\n",
       "      <td>0.0</td>\n",
       "      <td>0.0</td>\n",
       "      <td>0.0</td>\n",
       "      <td>0.0</td>\n",
       "      <td>1.0</td>\n",
       "    </tr>\n",
       "    <tr>\n",
       "      <th>AcceptedCmp4</th>\n",
       "      <td>2240.0</td>\n",
       "      <td>NaN</td>\n",
       "      <td>NaN</td>\n",
       "      <td>NaN</td>\n",
       "      <td>0.074554</td>\n",
       "      <td>0.262728</td>\n",
       "      <td>0.0</td>\n",
       "      <td>0.0</td>\n",
       "      <td>0.0</td>\n",
       "      <td>0.0</td>\n",
       "      <td>1.0</td>\n",
       "    </tr>\n",
       "    <tr>\n",
       "      <th>AcceptedCmp5</th>\n",
       "      <td>2240.0</td>\n",
       "      <td>NaN</td>\n",
       "      <td>NaN</td>\n",
       "      <td>NaN</td>\n",
       "      <td>0.072768</td>\n",
       "      <td>0.259813</td>\n",
       "      <td>0.0</td>\n",
       "      <td>0.0</td>\n",
       "      <td>0.0</td>\n",
       "      <td>0.0</td>\n",
       "      <td>1.0</td>\n",
       "    </tr>\n",
       "    <tr>\n",
       "      <th>AcceptedCmp1</th>\n",
       "      <td>2240.0</td>\n",
       "      <td>NaN</td>\n",
       "      <td>NaN</td>\n",
       "      <td>NaN</td>\n",
       "      <td>0.064286</td>\n",
       "      <td>0.245316</td>\n",
       "      <td>0.0</td>\n",
       "      <td>0.0</td>\n",
       "      <td>0.0</td>\n",
       "      <td>0.0</td>\n",
       "      <td>1.0</td>\n",
       "    </tr>\n",
       "    <tr>\n",
       "      <th>AcceptedCmp2</th>\n",
       "      <td>2240.0</td>\n",
       "      <td>NaN</td>\n",
       "      <td>NaN</td>\n",
       "      <td>NaN</td>\n",
       "      <td>0.013393</td>\n",
       "      <td>0.114976</td>\n",
       "      <td>0.0</td>\n",
       "      <td>0.0</td>\n",
       "      <td>0.0</td>\n",
       "      <td>0.0</td>\n",
       "      <td>1.0</td>\n",
       "    </tr>\n",
       "    <tr>\n",
       "      <th>Complain</th>\n",
       "      <td>2240.0</td>\n",
       "      <td>NaN</td>\n",
       "      <td>NaN</td>\n",
       "      <td>NaN</td>\n",
       "      <td>0.009375</td>\n",
       "      <td>0.096391</td>\n",
       "      <td>0.0</td>\n",
       "      <td>0.0</td>\n",
       "      <td>0.0</td>\n",
       "      <td>0.0</td>\n",
       "      <td>1.0</td>\n",
       "    </tr>\n",
       "    <tr>\n",
       "      <th>Z_CostContact</th>\n",
       "      <td>2240.0</td>\n",
       "      <td>NaN</td>\n",
       "      <td>NaN</td>\n",
       "      <td>NaN</td>\n",
       "      <td>3.0</td>\n",
       "      <td>0.0</td>\n",
       "      <td>3.0</td>\n",
       "      <td>3.0</td>\n",
       "      <td>3.0</td>\n",
       "      <td>3.0</td>\n",
       "      <td>3.0</td>\n",
       "    </tr>\n",
       "    <tr>\n",
       "      <th>Z_Revenue</th>\n",
       "      <td>2240.0</td>\n",
       "      <td>NaN</td>\n",
       "      <td>NaN</td>\n",
       "      <td>NaN</td>\n",
       "      <td>11.0</td>\n",
       "      <td>0.0</td>\n",
       "      <td>11.0</td>\n",
       "      <td>11.0</td>\n",
       "      <td>11.0</td>\n",
       "      <td>11.0</td>\n",
       "      <td>11.0</td>\n",
       "    </tr>\n",
       "    <tr>\n",
       "      <th>Response</th>\n",
       "      <td>2240.0</td>\n",
       "      <td>NaN</td>\n",
       "      <td>NaN</td>\n",
       "      <td>NaN</td>\n",
       "      <td>0.149107</td>\n",
       "      <td>0.356274</td>\n",
       "      <td>0.0</td>\n",
       "      <td>0.0</td>\n",
       "      <td>0.0</td>\n",
       "      <td>0.0</td>\n",
       "      <td>1.0</td>\n",
       "    </tr>\n",
       "  </tbody>\n",
       "</table>\n",
       "</div>"
      ],
      "text/plain": [
       "                      count unique         top  freq          mean  \\\n",
       "ID                   2240.0    NaN         NaN   NaN   5592.159821   \n",
       "Year_Birth           2240.0    NaN         NaN   NaN   1968.805804   \n",
       "Education              2240      5  Graduation  1127           NaN   \n",
       "Marital_Status         2240      8     Married   864           NaN   \n",
       "Income               2216.0    NaN         NaN   NaN  52247.251354   \n",
       "Kidhome              2240.0    NaN         NaN   NaN      0.444196   \n",
       "Teenhome             2240.0    NaN         NaN   NaN       0.50625   \n",
       "Dt_Customer            2240    665  2012-08-31    12           NaN   \n",
       "Recency              2240.0    NaN         NaN   NaN     49.109375   \n",
       "MntWines             2237.0    NaN         NaN   NaN    303.838623   \n",
       "MntFruits            2238.0    NaN         NaN   NaN     26.252011   \n",
       "MntMeatProducts      2240.0    NaN         NaN   NaN        166.95   \n",
       "MntFishProducts      2240.0    NaN         NaN   NaN     37.523661   \n",
       "MntSweetProducts     2240.0    NaN         NaN   NaN  11634.152232   \n",
       "MntGoldProds         2187.0    NaN         NaN   NaN     44.596251   \n",
       "NumDealsPurchases    2240.0    NaN         NaN   NaN         2.325   \n",
       "NumWebPurchases      2240.0    NaN         NaN   NaN      4.084821   \n",
       "NumCatalogPurchases  2240.0    NaN         NaN   NaN      2.662054   \n",
       "NumStorePurchases    2240.0    NaN         NaN   NaN      5.790179   \n",
       "NumWebVisitsMonth    2240.0    NaN         NaN   NaN      5.316518   \n",
       "AcceptedCmp3         2240.0    NaN         NaN   NaN      0.072768   \n",
       "AcceptedCmp4         2240.0    NaN         NaN   NaN      0.074554   \n",
       "AcceptedCmp5         2240.0    NaN         NaN   NaN      0.072768   \n",
       "AcceptedCmp1         2240.0    NaN         NaN   NaN      0.064286   \n",
       "AcceptedCmp2         2240.0    NaN         NaN   NaN      0.013393   \n",
       "Complain             2240.0    NaN         NaN   NaN      0.009375   \n",
       "Z_CostContact        2240.0    NaN         NaN   NaN           3.0   \n",
       "Z_Revenue            2240.0    NaN         NaN   NaN          11.0   \n",
       "Response             2240.0    NaN         NaN   NaN      0.149107   \n",
       "\n",
       "                               std     min      25%      50%      75%  \\\n",
       "ID                     3246.662198     0.0  2828.25   5458.5  8427.75   \n",
       "Year_Birth               11.984069  1893.0   1959.0   1970.0   1977.0   \n",
       "Education                      NaN     NaN      NaN      NaN      NaN   \n",
       "Marital_Status                 NaN     NaN      NaN      NaN      NaN   \n",
       "Income                25173.076661  1730.0  35303.0  51381.5  68522.0   \n",
       "Kidhome                   0.538398     0.0      0.0      0.0      1.0   \n",
       "Teenhome                  0.544538     0.0      0.0      0.0      1.0   \n",
       "Dt_Customer                    NaN     NaN      NaN      NaN      NaN   \n",
       "Recency                  28.962453     0.0     24.0     49.0     74.0   \n",
       "MntWines                336.576209     0.0     24.0    173.0    504.0   \n",
       "MntFruits                39.699755     0.0      1.0      8.0     33.0   \n",
       "MntMeatProducts         225.715373     0.0     16.0     67.0    232.0   \n",
       "MntFishProducts          54.630198    -1.0      3.0     12.0     50.0   \n",
       "MntSweetProducts     497378.604745     0.0      1.0      8.0    33.25   \n",
       "MntGoldProds             52.419487     0.0      9.0     25.0     57.0   \n",
       "NumDealsPurchases         1.932238     0.0      1.0      2.0      3.0   \n",
       "NumWebPurchases           2.778714     0.0      2.0      4.0      6.0   \n",
       "NumCatalogPurchases       2.923101     0.0      0.0      2.0      4.0   \n",
       "NumStorePurchases         3.250958     0.0      3.0      5.0      8.0   \n",
       "NumWebVisitsMonth         2.426645     0.0      3.0      6.0      7.0   \n",
       "AcceptedCmp3              0.259813     0.0      0.0      0.0      0.0   \n",
       "AcceptedCmp4              0.262728     0.0      0.0      0.0      0.0   \n",
       "AcceptedCmp5              0.259813     0.0      0.0      0.0      0.0   \n",
       "AcceptedCmp1              0.245316     0.0      0.0      0.0      0.0   \n",
       "AcceptedCmp2              0.114976     0.0      0.0      0.0      0.0   \n",
       "Complain                  0.096391     0.0      0.0      0.0      0.0   \n",
       "Z_CostContact                  0.0     3.0      3.0      3.0      3.0   \n",
       "Z_Revenue                      0.0    11.0     11.0     11.0     11.0   \n",
       "Response                  0.356274     0.0      0.0      0.0      0.0   \n",
       "\n",
       "                            max  \n",
       "ID                      11191.0  \n",
       "Year_Birth               1996.0  \n",
       "Education                   NaN  \n",
       "Marital_Status              NaN  \n",
       "Income                 666666.0  \n",
       "Kidhome                     2.0  \n",
       "Teenhome                    2.0  \n",
       "Dt_Customer                 NaN  \n",
       "Recency                    99.0  \n",
       "MntWines                 1493.0  \n",
       "MntFruits                 199.0  \n",
       "MntMeatProducts          1725.0  \n",
       "MntFishProducts           259.0  \n",
       "MntSweetProducts     23423444.0  \n",
       "MntGoldProds              362.0  \n",
       "NumDealsPurchases          15.0  \n",
       "NumWebPurchases            27.0  \n",
       "NumCatalogPurchases        28.0  \n",
       "NumStorePurchases          13.0  \n",
       "NumWebVisitsMonth          20.0  \n",
       "AcceptedCmp3                1.0  \n",
       "AcceptedCmp4                1.0  \n",
       "AcceptedCmp5                1.0  \n",
       "AcceptedCmp1                1.0  \n",
       "AcceptedCmp2                1.0  \n",
       "Complain                    1.0  \n",
       "Z_CostContact               3.0  \n",
       "Z_Revenue                  11.0  \n",
       "Response                    1.0  "
      ]
     },
     "execution_count": 148,
     "metadata": {},
     "output_type": "execute_result"
    }
   ],
   "source": [
    "# Loading the dataset and visualizing summary statistics\n",
    "ds = pd.read_excel('campaign.xlsx', engine='openpyxl')\n",
    "ds.describe(datetime_is_numeric=True, include='all').T"
   ]
  },
  {
   "cell_type": "markdown",
   "metadata": {
    "id": "MowRQKEGa2qU"
   },
   "source": [
    "- We can notice that some Z_CostContact and Z-Revenue have a constant value, so they don't bring any information and they can be deleted. \n",
    "- Variables ID and year_birth are not listed on the work description. For the task the column ID doesn't provide any information, so it's deleted. \n",
    "- We can also see that MntFishProducts has negative values like -1, since this is monetary value it is supposed to be removed."
   ]
  },
  {
   "cell_type": "code",
   "execution_count": null,
   "metadata": {
    "id": "IdhUXMYKa2qU",
    "outputId": "1051ceb9-280a-465a-db1f-49db89d4c319"
   },
   "outputs": [
    {
     "data": {
      "text/html": [
       "<div>\n",
       "<style scoped>\n",
       "    .dataframe tbody tr th:only-of-type {\n",
       "        vertical-align: middle;\n",
       "    }\n",
       "\n",
       "    .dataframe tbody tr th {\n",
       "        vertical-align: top;\n",
       "    }\n",
       "\n",
       "    .dataframe thead th {\n",
       "        text-align: right;\n",
       "    }\n",
       "</style>\n",
       "<table border=\"1\" class=\"dataframe\">\n",
       "  <thead>\n",
       "    <tr style=\"text-align: right;\">\n",
       "      <th></th>\n",
       "      <th>ID</th>\n",
       "      <th>Year_Birth</th>\n",
       "      <th>Education</th>\n",
       "      <th>Marital_Status</th>\n",
       "      <th>Income</th>\n",
       "      <th>Kidhome</th>\n",
       "      <th>Teenhome</th>\n",
       "      <th>Dt_Customer</th>\n",
       "      <th>Recency</th>\n",
       "      <th>MntWines</th>\n",
       "      <th>MntFruits</th>\n",
       "      <th>MntMeatProducts</th>\n",
       "      <th>MntFishProducts</th>\n",
       "      <th>MntSweetProducts</th>\n",
       "      <th>MntGoldProds</th>\n",
       "      <th>NumDealsPurchases</th>\n",
       "      <th>NumWebPurchases</th>\n",
       "      <th>NumCatalogPurchases</th>\n",
       "      <th>NumStorePurchases</th>\n",
       "      <th>NumWebVisitsMonth</th>\n",
       "      <th>AcceptedCmp3</th>\n",
       "      <th>AcceptedCmp4</th>\n",
       "      <th>AcceptedCmp5</th>\n",
       "      <th>AcceptedCmp1</th>\n",
       "      <th>AcceptedCmp2</th>\n",
       "      <th>Complain</th>\n",
       "      <th>Z_CostContact</th>\n",
       "      <th>Z_Revenue</th>\n",
       "      <th>Response</th>\n",
       "    </tr>\n",
       "  </thead>\n",
       "  <tbody>\n",
       "    <tr>\n",
       "      <th>0</th>\n",
       "      <td>5524</td>\n",
       "      <td>1957</td>\n",
       "      <td>Graduation</td>\n",
       "      <td>Single</td>\n",
       "      <td>58138.0</td>\n",
       "      <td>0</td>\n",
       "      <td>0</td>\n",
       "      <td>2012-09-04</td>\n",
       "      <td>58</td>\n",
       "      <td>635.0</td>\n",
       "      <td>88.0</td>\n",
       "      <td>546</td>\n",
       "      <td>172</td>\n",
       "      <td>88</td>\n",
       "      <td>88.0</td>\n",
       "      <td>3</td>\n",
       "      <td>8</td>\n",
       "      <td>10</td>\n",
       "      <td>4</td>\n",
       "      <td>7</td>\n",
       "      <td>0</td>\n",
       "      <td>0</td>\n",
       "      <td>0</td>\n",
       "      <td>0</td>\n",
       "      <td>0</td>\n",
       "      <td>0</td>\n",
       "      <td>3</td>\n",
       "      <td>11</td>\n",
       "      <td>1</td>\n",
       "    </tr>\n",
       "    <tr>\n",
       "      <th>1</th>\n",
       "      <td>2174</td>\n",
       "      <td>1954</td>\n",
       "      <td>Graduation</td>\n",
       "      <td>Single</td>\n",
       "      <td>46344.0</td>\n",
       "      <td>1</td>\n",
       "      <td>1</td>\n",
       "      <td>2014-03-08</td>\n",
       "      <td>38</td>\n",
       "      <td>11.0</td>\n",
       "      <td>1.0</td>\n",
       "      <td>6</td>\n",
       "      <td>2</td>\n",
       "      <td>1</td>\n",
       "      <td>6.0</td>\n",
       "      <td>2</td>\n",
       "      <td>1</td>\n",
       "      <td>1</td>\n",
       "      <td>2</td>\n",
       "      <td>5</td>\n",
       "      <td>0</td>\n",
       "      <td>0</td>\n",
       "      <td>0</td>\n",
       "      <td>0</td>\n",
       "      <td>0</td>\n",
       "      <td>0</td>\n",
       "      <td>3</td>\n",
       "      <td>11</td>\n",
       "      <td>0</td>\n",
       "    </tr>\n",
       "    <tr>\n",
       "      <th>2</th>\n",
       "      <td>4141</td>\n",
       "      <td>1965</td>\n",
       "      <td>Graduation</td>\n",
       "      <td>Together</td>\n",
       "      <td>71613.0</td>\n",
       "      <td>0</td>\n",
       "      <td>0</td>\n",
       "      <td>2013-08-21</td>\n",
       "      <td>26</td>\n",
       "      <td>426.0</td>\n",
       "      <td>49.0</td>\n",
       "      <td>127</td>\n",
       "      <td>111</td>\n",
       "      <td>21</td>\n",
       "      <td>42.0</td>\n",
       "      <td>1</td>\n",
       "      <td>8</td>\n",
       "      <td>2</td>\n",
       "      <td>10</td>\n",
       "      <td>4</td>\n",
       "      <td>0</td>\n",
       "      <td>0</td>\n",
       "      <td>0</td>\n",
       "      <td>0</td>\n",
       "      <td>0</td>\n",
       "      <td>0</td>\n",
       "      <td>3</td>\n",
       "      <td>11</td>\n",
       "      <td>0</td>\n",
       "    </tr>\n",
       "    <tr>\n",
       "      <th>3</th>\n",
       "      <td>6182</td>\n",
       "      <td>1984</td>\n",
       "      <td>Graduation</td>\n",
       "      <td>Together</td>\n",
       "      <td>26646.0</td>\n",
       "      <td>1</td>\n",
       "      <td>0</td>\n",
       "      <td>2014-02-10</td>\n",
       "      <td>26</td>\n",
       "      <td>11.0</td>\n",
       "      <td>4.0</td>\n",
       "      <td>20</td>\n",
       "      <td>10</td>\n",
       "      <td>3</td>\n",
       "      <td>5.0</td>\n",
       "      <td>2</td>\n",
       "      <td>2</td>\n",
       "      <td>0</td>\n",
       "      <td>4</td>\n",
       "      <td>6</td>\n",
       "      <td>0</td>\n",
       "      <td>0</td>\n",
       "      <td>0</td>\n",
       "      <td>0</td>\n",
       "      <td>0</td>\n",
       "      <td>0</td>\n",
       "      <td>3</td>\n",
       "      <td>11</td>\n",
       "      <td>0</td>\n",
       "    </tr>\n",
       "    <tr>\n",
       "      <th>4</th>\n",
       "      <td>5324</td>\n",
       "      <td>1981</td>\n",
       "      <td>PhD</td>\n",
       "      <td>Married</td>\n",
       "      <td>58293.0</td>\n",
       "      <td>1</td>\n",
       "      <td>0</td>\n",
       "      <td>2014-01-19</td>\n",
       "      <td>94</td>\n",
       "      <td>173.0</td>\n",
       "      <td>43.0</td>\n",
       "      <td>118</td>\n",
       "      <td>46</td>\n",
       "      <td>27</td>\n",
       "      <td>15.0</td>\n",
       "      <td>5</td>\n",
       "      <td>5</td>\n",
       "      <td>3</td>\n",
       "      <td>6</td>\n",
       "      <td>5</td>\n",
       "      <td>0</td>\n",
       "      <td>0</td>\n",
       "      <td>0</td>\n",
       "      <td>0</td>\n",
       "      <td>0</td>\n",
       "      <td>0</td>\n",
       "      <td>3</td>\n",
       "      <td>11</td>\n",
       "      <td>0</td>\n",
       "    </tr>\n",
       "  </tbody>\n",
       "</table>\n",
       "</div>"
      ],
      "text/plain": [
       "     ID  Year_Birth   Education Marital_Status   Income  Kidhome  Teenhome  \\\n",
       "0  5524        1957  Graduation         Single  58138.0        0         0   \n",
       "1  2174        1954  Graduation         Single  46344.0        1         1   \n",
       "2  4141        1965  Graduation       Together  71613.0        0         0   \n",
       "3  6182        1984  Graduation       Together  26646.0        1         0   \n",
       "4  5324        1981         PhD        Married  58293.0        1         0   \n",
       "\n",
       "  Dt_Customer  Recency  MntWines  MntFruits  MntMeatProducts  MntFishProducts  \\\n",
       "0  2012-09-04       58     635.0       88.0              546              172   \n",
       "1  2014-03-08       38      11.0        1.0                6                2   \n",
       "2  2013-08-21       26     426.0       49.0              127              111   \n",
       "3  2014-02-10       26      11.0        4.0               20               10   \n",
       "4  2014-01-19       94     173.0       43.0              118               46   \n",
       "\n",
       "   MntSweetProducts  MntGoldProds  NumDealsPurchases  NumWebPurchases  \\\n",
       "0                88          88.0                  3                8   \n",
       "1                 1           6.0                  2                1   \n",
       "2                21          42.0                  1                8   \n",
       "3                 3           5.0                  2                2   \n",
       "4                27          15.0                  5                5   \n",
       "\n",
       "   NumCatalogPurchases  NumStorePurchases  NumWebVisitsMonth  AcceptedCmp3  \\\n",
       "0                   10                  4                  7             0   \n",
       "1                    1                  2                  5             0   \n",
       "2                    2                 10                  4             0   \n",
       "3                    0                  4                  6             0   \n",
       "4                    3                  6                  5             0   \n",
       "\n",
       "   AcceptedCmp4  AcceptedCmp5  AcceptedCmp1  AcceptedCmp2  Complain  \\\n",
       "0             0             0             0             0         0   \n",
       "1             0             0             0             0         0   \n",
       "2             0             0             0             0         0   \n",
       "3             0             0             0             0         0   \n",
       "4             0             0             0             0         0   \n",
       "\n",
       "   Z_CostContact  Z_Revenue  Response  \n",
       "0              3         11         1  \n",
       "1              3         11         0  \n",
       "2              3         11         0  \n",
       "3              3         11         0  \n",
       "4              3         11         0  "
      ]
     },
     "execution_count": 149,
     "metadata": {},
     "output_type": "execute_result"
    }
   ],
   "source": [
    "# Show top rows\n",
    "ds.head()"
   ]
  },
  {
   "cell_type": "code",
   "execution_count": null,
   "metadata": {
    "id": "B7at-agFa2qV",
    "outputId": "66f4b09e-5229-4504-b919-de09df4450a0"
   },
   "outputs": [
    {
     "name": "stdout",
     "output_type": "stream",
     "text": [
      "<class 'pandas.core.frame.DataFrame'>\n",
      "RangeIndex: 2240 entries, 0 to 2239\n",
      "Data columns (total 29 columns):\n",
      " #   Column               Non-Null Count  Dtype  \n",
      "---  ------               --------------  -----  \n",
      " 0   ID                   2240 non-null   int64  \n",
      " 1   Year_Birth           2240 non-null   int64  \n",
      " 2   Education            2240 non-null   object \n",
      " 3   Marital_Status       2240 non-null   object \n",
      " 4   Income               2216 non-null   float64\n",
      " 5   Kidhome              2240 non-null   int64  \n",
      " 6   Teenhome             2240 non-null   int64  \n",
      " 7   Dt_Customer          2240 non-null   object \n",
      " 8   Recency              2240 non-null   int64  \n",
      " 9   MntWines             2237 non-null   float64\n",
      " 10  MntFruits            2238 non-null   float64\n",
      " 11  MntMeatProducts      2240 non-null   int64  \n",
      " 12  MntFishProducts      2240 non-null   int64  \n",
      " 13  MntSweetProducts     2240 non-null   int64  \n",
      " 14  MntGoldProds         2187 non-null   float64\n",
      " 15  NumDealsPurchases    2240 non-null   int64  \n",
      " 16  NumWebPurchases      2240 non-null   int64  \n",
      " 17  NumCatalogPurchases  2240 non-null   int64  \n",
      " 18  NumStorePurchases    2240 non-null   int64  \n",
      " 19  NumWebVisitsMonth    2240 non-null   int64  \n",
      " 20  AcceptedCmp3         2240 non-null   int64  \n",
      " 21  AcceptedCmp4         2240 non-null   int64  \n",
      " 22  AcceptedCmp5         2240 non-null   int64  \n",
      " 23  AcceptedCmp1         2240 non-null   int64  \n",
      " 24  AcceptedCmp2         2240 non-null   int64  \n",
      " 25  Complain             2240 non-null   int64  \n",
      " 26  Z_CostContact        2240 non-null   int64  \n",
      " 27  Z_Revenue            2240 non-null   int64  \n",
      " 28  Response             2240 non-null   int64  \n",
      "dtypes: float64(4), int64(22), object(3)\n",
      "memory usage: 507.6+ KB\n"
     ]
    }
   ],
   "source": [
    "ds.info()"
   ]
  },
  {
   "cell_type": "markdown",
   "metadata": {
    "id": "UuxlJs5fa2qV"
   },
   "source": [
    "Here we have some features that are either 0 or 1, that can be changed to uint8 in order to save a little bit of memory. Then we have some float64 that are float because of how numpy works, when you have a NaN the colum is automatically forced to float64. "
   ]
  },
  {
   "cell_type": "code",
   "execution_count": null,
   "metadata": {
    "id": "6lkqTU58a2qV",
    "outputId": "8c432198-3cf4-4f72-f630-7d0cff52c59b"
   },
   "outputs": [
    {
     "name": "stdout",
     "output_type": "stream",
     "text": [
      "ID                      0\n",
      "Year_Birth              0\n",
      "Education               0\n",
      "Marital_Status          0\n",
      "Income                 24\n",
      "Kidhome                 0\n",
      "Teenhome                0\n",
      "Dt_Customer             0\n",
      "Recency                 0\n",
      "MntWines                3\n",
      "MntFruits               2\n",
      "MntMeatProducts         0\n",
      "MntFishProducts         0\n",
      "MntSweetProducts        0\n",
      "MntGoldProds           53\n",
      "NumDealsPurchases       0\n",
      "NumWebPurchases         0\n",
      "NumCatalogPurchases     0\n",
      "NumStorePurchases       0\n",
      "NumWebVisitsMonth       0\n",
      "AcceptedCmp3            0\n",
      "AcceptedCmp4            0\n",
      "AcceptedCmp5            0\n",
      "AcceptedCmp1            0\n",
      "AcceptedCmp2            0\n",
      "Complain                0\n",
      "Z_CostContact           0\n",
      "Z_Revenue               0\n",
      "Response                0\n",
      "dtype: int64\n"
     ]
    }
   ],
   "source": [
    "# Check missing values\n",
    "print(ds.isnull().sum())"
   ]
  },
  {
   "cell_type": "code",
   "execution_count": null,
   "metadata": {
    "id": "x6sABTZMa2qV"
   },
   "outputs": [],
   "source": [
    "# droping all the rows with a null values since they are only a few of the total\n",
    "ds.dropna(inplace=True)"
   ]
  },
  {
   "cell_type": "code",
   "execution_count": null,
   "metadata": {
    "id": "yjgnaZnXa2qW"
   },
   "outputs": [],
   "source": [
    "# Removing columns that we don't need\n",
    "ds.drop(columns=['ID', 'Z_CostContact','Z_Revenue'], inplace=True)\n",
    "\n",
    "# Changing data type in order to save some memory, a good practice not really needed in this case but a good practice\n",
    "ds['AcceptedCmp1'] = ds['AcceptedCmp1'].astype('uint8')\n",
    "ds['AcceptedCmp2'] = ds['AcceptedCmp2'].astype('uint8')\n",
    "ds['AcceptedCmp3'] = ds['AcceptedCmp3'].astype('uint8')\n",
    "ds['AcceptedCmp4'] = ds['AcceptedCmp4'].astype('uint8')\n",
    "ds['AcceptedCmp5'] = ds['AcceptedCmp5'].astype('uint8')\n",
    "ds['Complain'] = ds['Complain'].astype('uint8')\n",
    "ds['Response'] = ds['Response'].astype('uint8')\n",
    "ds['Income'] = ds['Income'].astype('int64')\n",
    "ds['MntWines'] = ds['MntWines'].astype('int64')\n",
    "ds['MntFruits'] = ds['MntFruits'].astype('int64')\n",
    "ds['MntGoldProds'] = ds['MntGoldProds'].astype('int64')\n",
    "\n",
    "# Changing data type in to be interpreted in the right way\n",
    "ds['Education'] = ds['Education'].astype('category')\n",
    "ds['Marital_Status'] = ds['Marital_Status'].astype('category')\n",
    "ds['Dt_Customer'] = pd.to_datetime(ds['Dt_Customer'])\n",
    "\n",
    "# Removing miscoded values from MntFishProducts\n",
    "ds = ds[ds['MntFishProducts'] >= 0].copy()"
   ]
  },
  {
   "cell_type": "code",
   "execution_count": null,
   "metadata": {
    "id": "pSo9ljfZa2qW",
    "outputId": "f3c79589-45b6-4d84-fe2f-8371419a3af9"
   },
   "outputs": [
    {
     "data": {
      "text/plain": [
       "168"
      ]
     },
     "execution_count": 154,
     "metadata": {},
     "output_type": "execute_result"
    }
   ],
   "source": [
    "# This is the number of duplicates that we have, so we will remove them\n",
    "ds.duplicated().sum()"
   ]
  },
  {
   "cell_type": "code",
   "execution_count": null,
   "metadata": {
    "id": "Qu-BpORea2qW"
   },
   "outputs": [],
   "source": [
    "ds.drop_duplicates(inplace=True)"
   ]
  },
  {
   "cell_type": "code",
   "execution_count": null,
   "metadata": {
    "id": "L9pNpMGma2qW",
    "outputId": "21d02c21-a77d-45a3-e580-5eb8ecbfd9fa"
   },
   "outputs": [
    {
     "data": {
      "text/plain": [
       "1255   2012-07-30\n",
       "1363   2012-07-31\n",
       "2029   2012-08-01\n",
       "2194   2012-08-01\n",
       "976    2012-08-01\n",
       "          ...    \n",
       "1812   2014-06-28\n",
       "200    2014-06-29\n",
       "989    2014-06-29\n",
       "84     2041-02-25\n",
       "46     2042-11-09\n",
       "Name: Dt_Customer, Length: 1988, dtype: datetime64[ns]"
      ]
     },
     "execution_count": 156,
     "metadata": {},
     "output_type": "execute_result"
    }
   ],
   "source": [
    "ds['Dt_Customer'].sort_values()"
   ]
  },
  {
   "cell_type": "markdown",
   "metadata": {
    "id": "ao-uwE0Da2qX"
   },
   "source": [
    "Has we can see we have some dates that are outliers, and since this dates are supposed to be before the date of when the dataset was created we will delete this istances."
   ]
  },
  {
   "cell_type": "code",
   "execution_count": null,
   "metadata": {
    "id": "10DM4xpOa2qX"
   },
   "outputs": [],
   "source": [
    "ds = ds[ds['Dt_Customer'] < '2015-01-01'].copy()"
   ]
  },
  {
   "cell_type": "code",
   "execution_count": null,
   "metadata": {
    "id": "5Ei7HXCua2qX",
    "outputId": "48528881-b037-4e43-db79-2ad7df4f4518"
   },
   "outputs": [
    {
     "data": {
      "text/plain": [
       "0       57\n",
       "1       60\n",
       "2       49\n",
       "3       30\n",
       "4       33\n",
       "        ..\n",
       "2233    37\n",
       "2235    47\n",
       "2237    33\n",
       "2238    58\n",
       "2239    60\n",
       "Name: Age, Length: 1986, dtype: int64"
      ]
     },
     "execution_count": 158,
     "metadata": {},
     "output_type": "execute_result"
    }
   ],
   "source": [
    "ds['Age'] = ds['Dt_Customer'].max().year - ds['Year_Birth']\n",
    "ds.drop(columns=['Year_Birth'], inplace=True)\n",
    "ds['Age']"
   ]
  },
  {
   "cell_type": "code",
   "execution_count": null,
   "metadata": {
    "id": "5lzoSIjea2qX",
    "outputId": "5c567ac5-6db6-44dc-874f-6fbfff3f6909"
   },
   "outputs": [
    {
     "data": {
      "text/plain": [
       "0      663 days\n",
       "1      113 days\n",
       "2      312 days\n",
       "3      139 days\n",
       "4      161 days\n",
       "         ...   \n",
       "2233   392 days\n",
       "2235   381 days\n",
       "2237   155 days\n",
       "2238   156 days\n",
       "2239   622 days\n",
       "Name: Customer_Lifetime, Length: 1986, dtype: timedelta64[ns]"
      ]
     },
     "execution_count": 159,
     "metadata": {},
     "output_type": "execute_result"
    }
   ],
   "source": [
    "ds['Customer_Lifetime'] = ds['Dt_Customer'].max() - ds['Dt_Customer']\n",
    "ds.drop(columns=['Dt_Customer'], inplace=True)\n",
    "ds['Customer_Lifetime']"
   ]
  },
  {
   "cell_type": "code",
   "execution_count": null,
   "metadata": {
    "id": "uEgtB9lUa2qX",
    "outputId": "c0d88fce-adf7-4f78-d3b8-9867c43f6261"
   },
   "outputs": [
    {
     "data": {
      "text/plain": [
       "0       663.0\n",
       "1       113.0\n",
       "2       312.0\n",
       "3       139.0\n",
       "4       161.0\n",
       "        ...  \n",
       "2233    392.0\n",
       "2235    381.0\n",
       "2237    155.0\n",
       "2238    156.0\n",
       "2239    622.0\n",
       "Name: Customer_Lifetime, Length: 1986, dtype: float64"
      ]
     },
     "execution_count": 160,
     "metadata": {},
     "output_type": "execute_result"
    }
   ],
   "source": [
    "ds['Customer_Lifetime'] = ds['Customer_Lifetime'].dt.total_seconds().astype(int) / 86400\n",
    "ds['Customer_Lifetime']"
   ]
  },
  {
   "cell_type": "code",
   "execution_count": null,
   "metadata": {
    "id": "1AjT9AWVa2qY",
    "outputId": "330521b2-54e6-4112-8206-2276b57575da"
   },
   "outputs": [
    {
     "data": {
      "image/png": "[encoded data removed]",
      "text/plain": [
       "<Figure size 576x360 with 1 Axes>"
      ]
     },
     "metadata": {
      "needs_background": "light"
     },
     "output_type": "display_data"
    }
   ],
   "source": [
    "# Visualising distribution of categorical variables \n",
    "fig, ax = plt.subplots(1,1, figsize=(8,5))\n",
    "_ = sns.countplot(x='Marital_Status', data=ds)\n",
    "_ = plt.xlabel('Marital Status', fontsize=14)\n",
    "_ = plt.title('Counts', fontsize=14)"
   ]
  },
  {
   "cell_type": "markdown",
   "metadata": {
    "id": "id6iz6aRa2qY"
   },
   "source": [
    "Marital status has instances called Absurd, Alone and Yolo, since they are not many, the best option is deleting them, because it is not clear for which status they stand for, single or widow."
   ]
  },
  {
   "cell_type": "code",
   "execution_count": null,
   "metadata": {
    "id": "x0bhaeC2a2qY"
   },
   "outputs": [],
   "source": [
    "# deleting all the yolo, absurd and alone\n",
    "ds = ds[~((ds['Marital_Status'] == 'YOLO') | (ds['Marital_Status'] == 'Absurd') | (ds['Marital_Status'] == 'Alone'))].copy()"
   ]
  },
  {
   "cell_type": "code",
   "execution_count": null,
   "metadata": {
    "id": "Qiq1HsF9a2qY",
    "outputId": "012c19ca-1196-48ab-d77c-5fefa53a5b02"
   },
   "outputs": [
    {
     "data": {
      "image/png": "[encoded data removed]",
      "text/plain": [
       "<Figure size 576x360 with 1 Axes>"
      ]
     },
     "metadata": {
      "needs_background": "light"
     },
     "output_type": "display_data"
    }
   ],
   "source": [
    "# Visualising distribution of categorical variables \n",
    "fig, ax = plt.subplots(1,1, figsize=(8,5))\n",
    "_ = sns.countplot(x='Education', data=ds)\n",
    "_ = plt.xlabel('Education', fontsize=14)\n",
    "_ = plt.title('Counts', fontsize=14)"
   ]
  },
  {
   "cell_type": "markdown",
   "metadata": {
    "id": "9HjYIoNJa2qY"
   },
   "source": [
    "Note: 2nd cycle in Brazilain system stands for high school"
   ]
  },
  {
   "cell_type": "code",
   "execution_count": null,
   "metadata": {
    "id": "iNoeS3hRa2qZ",
    "outputId": "d2cb0cef-8a16-4717-87c5-c2b28cdab19a",
    "scrolled": true
   },
   "outputs": [
    {
     "data": {
      "image/png": "[encoded data removed]",
      "text/plain": [
       "<Figure size 1440x792 with 6 Axes>"
      ]
     },
     "metadata": {
      "needs_background": "light"
     },
     "output_type": "display_data"
    }
   ],
   "source": [
    "# HISTOGRAM (ALL NUMERIC VARIABLES)\n",
    "\n",
    "# Draw\n",
    "fig, ax = plt.subplots(2, 3, figsize=(20,11), constrained_layout = True) # Added constrained_layout to avoid overlapping\n",
    "for var, subplot in zip(ds[['AcceptedCmp1','AcceptedCmp2','AcceptedCmp3','AcceptedCmp4','AcceptedCmp5','Response']], ax.flatten()):\n",
    "    g = sns.countplot(x=var, \n",
    "                    data=ds,\n",
    "                    ax=subplot)\n",
    "    \n",
    "# Decoration\n",
    "sns.despine()\n",
    "plt.rc('axes', labelsize=subPlots_label_fontSize)\n",
    "fig.suptitle(\"Campains counts: Distribution of all campains variables.\", fontsize=plots_Title_fontSize);\n",
    "\n",
    "# Save to file\n",
    "#fig.savefig(fname=exportsFolder+'MultipleHistogram.svg', bbox_inches=\"tight\")"
   ]
  },
  {
   "cell_type": "markdown",
   "metadata": {
    "id": "EUKo60DPa2qZ"
   },
   "source": [
    "Here we can see that these classes are unbalanced: for all campaigns the majority of responses is 0"
   ]
  },
  {
   "cell_type": "code",
   "execution_count": null,
   "metadata": {
    "id": "kTttTmgma2qZ",
    "outputId": "e78c7229-6030-4a52-bf73-dbee2b788aba"
   },
   "outputs": [
    {
     "data": {
      "image/png": "[encoded data removed]",
      "text/plain": [
       "<Figure size 576x360 with 1 Axes>"
      ]
     },
     "metadata": {
      "needs_background": "light"
     },
     "output_type": "display_data"
    }
   ],
   "source": [
    "# Visualising distribution of categorical variables \n",
    "fig, ax = plt.subplots(1,1, figsize=(8,5))\n",
    "_ = sns.countplot(x='Complain', data=ds)\n",
    "_ = plt.xlabel('Complain', fontsize=14)\n",
    "_ = plt.title('Counts', fontsize=14)"
   ]
  },
  {
   "cell_type": "code",
   "execution_count": null,
   "metadata": {
    "id": "UJXgIhAta2qZ"
   },
   "outputs": [],
   "source": [
    "# Identify all numeric variables in the dataset\n",
    "columnsToRemove = ['AcceptedCmp1','AcceptedCmp2','AcceptedCmp3','AcceptedCmp4','AcceptedCmp5','Complain','Response']\n",
    "quantitative = ds.select_dtypes(include=[np.number]).columns.tolist()\n",
    "\n",
    "for column in columnsToRemove:\n",
    "    quantitative.remove(column)"
   ]
  },
  {
   "cell_type": "code",
   "execution_count": null,
   "metadata": {
    "id": "ztR1EQCka2qZ",
    "outputId": "a9b3764e-86f3-4d26-fc7f-4c74e144270b"
   },
   "outputs": [
    {
     "data": {
      "image/png": "[encoded data removed]",
      "text/plain": [
       "<Figure size 1440x792 with 16 Axes>"
      ]
     },
     "metadata": {
      "needs_background": "light"
     },
     "output_type": "display_data"
    }
   ],
   "source": [
    "# HISTOGRAM (ALL NUMERIC VARIABLES)\n",
    "\n",
    "# Draw\n",
    "fig, ax = plt.subplots(4, 4, figsize=(20,11), constrained_layout = True) # Added constrained_layout to avoid overlapping\n",
    "for var, subplot in zip(ds[quantitative], ax.flatten()):\n",
    "    g = sns.histplot(data=ds,\n",
    "                bins=20,\n",
    "                x=var,\n",
    "                ax=subplot,\n",
    "                kde=False)\n",
    "\n",
    "# Decoration\n",
    "sns.despine()\n",
    "plt.rc('axes', labelsize=subPlots_label_fontSize)\n",
    "fig.suptitle(\"Songs popularity: distribution of all numeric variables\", fontsize=plots_Title_fontSize);\n",
    "\n",
    "# Save to file\n",
    "#fig.savefig(fname=exportsFolder+'MultipleHistogram.svg', bbox_inches=\"tight\")"
   ]
  },
  {
   "cell_type": "markdown",
   "metadata": {
    "id": "nDH8Ec2Fa2qa"
   },
   "source": [
    "Observations:\n",
    "- Outliers on income and year birth.\n",
    "- Kidhome and teenhome can be transformed into a boolean variable, since there are very few observations with 2. \n",
    "- Feature engeneering can be done creating the total monetary value column."
   ]
  },
  {
   "cell_type": "code",
   "execution_count": null,
   "metadata": {
    "id": "D3LMmM9Ua2qa"
   },
   "outputs": [],
   "source": [
    "# Changing these columns to true or false for childs assuming that there is not a big differences in the behavior between having two or one son.\n",
    "\n",
    "ds['Kidhome'] = np.where(ds['Kidhome'] == 0, 0, 1)\n",
    "ds['Teenhome'] = np.where(ds['Teenhome'] == 0, 0, 1)\n",
    "ds['Kidhome'] = ds['Kidhome'].astype('uint8')\n",
    "ds['Teenhome'] = ds['Teenhome'].astype('uint8')"
   ]
  },
  {
   "cell_type": "code",
   "execution_count": null,
   "metadata": {
    "id": "HlZhzZSNa2qa"
   },
   "outputs": [],
   "source": [
    "quantitative.remove('Kidhome')\n",
    "quantitative.remove('Teenhome')"
   ]
  },
  {
   "cell_type": "code",
   "execution_count": null,
   "metadata": {
    "id": "iChkkZPba2qa",
    "outputId": "46a19b7f-6ceb-4bd0-96e0-d40e2891445c"
   },
   "outputs": [
    {
     "data": {
      "image/png": "[encoded data removed]",
      "text/plain": [
       "<Figure size 1440x1008 with 15 Axes>"
      ]
     },
     "metadata": {
      "needs_background": "light"
     },
     "output_type": "display_data"
    }
   ],
   "source": [
    "fig, ax = plt.subplots(3, 5, figsize=(20, 14), constrained_layout = True)\n",
    "for var, subplot in zip(ds[quantitative], ax.flatten()):\n",
    "    sns.boxplot(x=ds[var], ax=subplot)"
   ]
  },
  {
   "cell_type": "markdown",
   "metadata": {
    "id": "smW8fO69a2qa"
   },
   "source": [
    "We can see that MntSweetProducts have some outliers, so we will print them in order to see how to set a threshold.  "
   ]
  },
  {
   "cell_type": "code",
   "execution_count": null,
   "metadata": {
    "id": "OneWDw0ia2qa",
    "outputId": "c6055d58-30e0-40eb-832a-598212a4cb61"
   },
   "outputs": [
    {
     "data": {
      "text/plain": [
       "826            0\n",
       "316            0\n",
       "315            0\n",
       "954            0\n",
       "311            0\n",
       "          ...   \n",
       "1513         197\n",
       "1898         262\n",
       "563       234444\n",
       "523      2342344\n",
       "634     23423444\n",
       "Name: MntSweetProducts, Length: 1979, dtype: int64"
      ]
     },
     "execution_count": 171,
     "metadata": {},
     "output_type": "execute_result"
    }
   ],
   "source": [
    "ds['MntSweetProducts'].sort_values()"
   ]
  },
  {
   "cell_type": "markdown",
   "metadata": {
    "id": "hvToPkqNa2qi"
   },
   "source": [
    "The outliers are three so we will remove them."
   ]
  },
  {
   "cell_type": "code",
   "execution_count": null,
   "metadata": {
    "id": "tghSxSTKa2qi",
    "outputId": "988db2fb-be20-4ce7-ad39-e4aa9387132f"
   },
   "outputs": [
    {
     "data": {
      "text/html": [
       "<div>\n",
       "<style scoped>\n",
       "    .dataframe tbody tr th:only-of-type {\n",
       "        vertical-align: middle;\n",
       "    }\n",
       "\n",
       "    .dataframe tbody tr th {\n",
       "        vertical-align: top;\n",
       "    }\n",
       "\n",
       "    .dataframe thead th {\n",
       "        text-align: right;\n",
       "    }\n",
       "</style>\n",
       "<table border=\"1\" class=\"dataframe\">\n",
       "  <thead>\n",
       "    <tr style=\"text-align: right;\">\n",
       "      <th></th>\n",
       "      <th>Education</th>\n",
       "      <th>Marital_Status</th>\n",
       "      <th>Income</th>\n",
       "      <th>Kidhome</th>\n",
       "      <th>Teenhome</th>\n",
       "      <th>Recency</th>\n",
       "      <th>MntWines</th>\n",
       "      <th>MntFruits</th>\n",
       "      <th>MntMeatProducts</th>\n",
       "      <th>MntFishProducts</th>\n",
       "      <th>MntSweetProducts</th>\n",
       "      <th>MntGoldProds</th>\n",
       "      <th>NumDealsPurchases</th>\n",
       "      <th>NumWebPurchases</th>\n",
       "      <th>NumCatalogPurchases</th>\n",
       "      <th>NumStorePurchases</th>\n",
       "      <th>NumWebVisitsMonth</th>\n",
       "      <th>AcceptedCmp3</th>\n",
       "      <th>AcceptedCmp4</th>\n",
       "      <th>AcceptedCmp5</th>\n",
       "      <th>AcceptedCmp1</th>\n",
       "      <th>AcceptedCmp2</th>\n",
       "      <th>Complain</th>\n",
       "      <th>Response</th>\n",
       "      <th>Age</th>\n",
       "      <th>Customer_Lifetime</th>\n",
       "    </tr>\n",
       "  </thead>\n",
       "  <tbody>\n",
       "    <tr>\n",
       "      <th>523</th>\n",
       "      <td>Graduation</td>\n",
       "      <td>Married</td>\n",
       "      <td>70503</td>\n",
       "      <td>0</td>\n",
       "      <td>0</td>\n",
       "      <td>73</td>\n",
       "      <td>1379</td>\n",
       "      <td>33</td>\n",
       "      <td>216</td>\n",
       "      <td>0</td>\n",
       "      <td>2342344</td>\n",
       "      <td>66</td>\n",
       "      <td>1</td>\n",
       "      <td>2</td>\n",
       "      <td>4</td>\n",
       "      <td>9</td>\n",
       "      <td>6</td>\n",
       "      <td>0</td>\n",
       "      <td>1</td>\n",
       "      <td>1</td>\n",
       "      <td>0</td>\n",
       "      <td>0</td>\n",
       "      <td>0</td>\n",
       "      <td>0</td>\n",
       "      <td>61</td>\n",
       "      <td>637.0</td>\n",
       "    </tr>\n",
       "    <tr>\n",
       "      <th>563</th>\n",
       "      <td>2n Cycle</td>\n",
       "      <td>Married</td>\n",
       "      <td>62466</td>\n",
       "      <td>0</td>\n",
       "      <td>1</td>\n",
       "      <td>13</td>\n",
       "      <td>129</td>\n",
       "      <td>129</td>\n",
       "      <td>259</td>\n",
       "      <td>168</td>\n",
       "      <td>234444</td>\n",
       "      <td>83</td>\n",
       "      <td>5</td>\n",
       "      <td>6</td>\n",
       "      <td>3</td>\n",
       "      <td>12</td>\n",
       "      <td>4</td>\n",
       "      <td>0</td>\n",
       "      <td>0</td>\n",
       "      <td>0</td>\n",
       "      <td>0</td>\n",
       "      <td>0</td>\n",
       "      <td>0</td>\n",
       "      <td>0</td>\n",
       "      <td>44</td>\n",
       "      <td>165.0</td>\n",
       "    </tr>\n",
       "    <tr>\n",
       "      <th>634</th>\n",
       "      <td>Graduation</td>\n",
       "      <td>Single</td>\n",
       "      <td>83917</td>\n",
       "      <td>0</td>\n",
       "      <td>0</td>\n",
       "      <td>12</td>\n",
       "      <td>514</td>\n",
       "      <td>22</td>\n",
       "      <td>732</td>\n",
       "      <td>42</td>\n",
       "      <td>23423444</td>\n",
       "      <td>79</td>\n",
       "      <td>1</td>\n",
       "      <td>6</td>\n",
       "      <td>7</td>\n",
       "      <td>7</td>\n",
       "      <td>3</td>\n",
       "      <td>0</td>\n",
       "      <td>0</td>\n",
       "      <td>0</td>\n",
       "      <td>0</td>\n",
       "      <td>0</td>\n",
       "      <td>0</td>\n",
       "      <td>1</td>\n",
       "      <td>41</td>\n",
       "      <td>437.0</td>\n",
       "    </tr>\n",
       "  </tbody>\n",
       "</table>\n",
       "</div>"
      ],
      "text/plain": [
       "      Education Marital_Status  Income  Kidhome  Teenhome  Recency  MntWines  \\\n",
       "523  Graduation        Married   70503        0         0       73      1379   \n",
       "563    2n Cycle        Married   62466        0         1       13       129   \n",
       "634  Graduation         Single   83917        0         0       12       514   \n",
       "\n",
       "     MntFruits  MntMeatProducts  MntFishProducts  MntSweetProducts  \\\n",
       "523         33              216                0           2342344   \n",
       "563        129              259              168            234444   \n",
       "634         22              732               42          23423444   \n",
       "\n",
       "     MntGoldProds  NumDealsPurchases  NumWebPurchases  NumCatalogPurchases  \\\n",
       "523            66                  1                2                    4   \n",
       "563            83                  5                6                    3   \n",
       "634            79                  1                6                    7   \n",
       "\n",
       "     NumStorePurchases  NumWebVisitsMonth  AcceptedCmp3  AcceptedCmp4  \\\n",
       "523                  9                  6             0             1   \n",
       "563                 12                  4             0             0   \n",
       "634                  7                  3             0             0   \n",
       "\n",
       "     AcceptedCmp5  AcceptedCmp1  AcceptedCmp2  Complain  Response  Age  \\\n",
       "523             1             0             0         0         0   61   \n",
       "563             0             0             0         0         0   44   \n",
       "634             0             0             0         0         1   41   \n",
       "\n",
       "     Customer_Lifetime  \n",
       "523              637.0  \n",
       "563              165.0  \n",
       "634              437.0  "
      ]
     },
     "execution_count": 172,
     "metadata": {},
     "output_type": "execute_result"
    }
   ],
   "source": [
    "ds.query('MntSweetProducts > 300')"
   ]
  },
  {
   "cell_type": "code",
   "execution_count": null,
   "metadata": {
    "id": "XgaZ6fZza2qi"
   },
   "outputs": [],
   "source": [
    "ds = ds[ds['MntSweetProducts'] < 300].copy()"
   ]
  },
  {
   "cell_type": "code",
   "execution_count": null,
   "metadata": {
    "id": "6jxnYF0va2qi",
    "outputId": "72fe8a27-b008-45ad-c781-5aa1935fef88"
   },
   "outputs": [
    {
     "data": {
      "text/plain": [
       "1245      1730\n",
       "21        2447\n",
       "1524      3502\n",
       "1846      4023\n",
       "1975      4428\n",
       "         ...  \n",
       "1653    157146\n",
       "164     157243\n",
       "1300    157733\n",
       "687     160803\n",
       "2233    666666\n",
       "Name: Income, Length: 1976, dtype: int64"
      ]
     },
     "execution_count": 174,
     "metadata": {},
     "output_type": "execute_result"
    }
   ],
   "source": [
    "ds['Income'].sort_values()"
   ]
  },
  {
   "cell_type": "markdown",
   "metadata": {
    "id": "wdiqq5ria2qj"
   },
   "source": [
    "Same apply to income, removing 666666 and exploring distribution"
   ]
  },
  {
   "cell_type": "code",
   "execution_count": null,
   "metadata": {
    "id": "kgFNt0u3a2qj"
   },
   "outputs": [],
   "source": [
    "ds = ds[ds['Income'] != 666666].copy()"
   ]
  },
  {
   "cell_type": "code",
   "execution_count": null,
   "metadata": {
    "id": "wMac2Bk7a2qj",
    "outputId": "f7bceda4-e64b-435a-ccff-5ee881f04168"
   },
   "outputs": [
    {
     "data": {
      "text/plain": [
       "1170     18\n",
       "1850     19\n",
       "995      19\n",
       "2213     19\n",
       "747      19\n",
       "       ... \n",
       "424      73\n",
       "1950     74\n",
       "192     114\n",
       "339     115\n",
       "239     121\n",
       "Name: Age, Length: 1975, dtype: int64"
      ]
     },
     "execution_count": 176,
     "metadata": {},
     "output_type": "execute_result"
    }
   ],
   "source": [
    "ds['Age'].sort_values()"
   ]
  },
  {
   "cell_type": "markdown",
   "metadata": {
    "id": "j0v73Td1a2qj"
   },
   "source": [
    "There are three values that are outliers. After 74 values are above 100 years old, so it can be set as a threshold for removinf outliers "
   ]
  },
  {
   "cell_type": "code",
   "execution_count": null,
   "metadata": {
    "id": "PxTNTrara2qj"
   },
   "outputs": [],
   "source": [
    "ds = ds[ds['Age'] <= 100].copy()"
   ]
  },
  {
   "cell_type": "code",
   "execution_count": null,
   "metadata": {
    "id": "3PXfZFuua2qj",
    "outputId": "0c93d165-8e6d-41fc-b616-beda45916654"
   },
   "outputs": [
    {
     "data": {
      "image/png": "[encoded data removed]",
      "text/plain": [
       "<Figure size 1440x1008 with 15 Axes>"
      ]
     },
     "metadata": {
      "needs_background": "light"
     },
     "output_type": "display_data"
    }
   ],
   "source": [
    "fig, ax = plt.subplots(3, 5, figsize=(20, 14), constrained_layout = True)\n",
    "for var, subplot in zip(ds[quantitative], ax.flatten()):\n",
    "    sns.boxplot(x=ds[var], ax=subplot)"
   ]
  },
  {
   "cell_type": "markdown",
   "metadata": {
    "id": "Wo4CDurPa2qk"
   },
   "source": [
    "Most distributions look more balanced, but still income has outliers.\n",
    "NEED TO MERGE AND CHECK"
   ]
  },
  {
   "cell_type": "code",
   "execution_count": null,
   "metadata": {
    "id": "F67SGk_wa2qk",
    "outputId": "ac341d59-6b62-4022-f3eb-a1617f35737b"
   },
   "outputs": [
    {
     "data": {
      "text/plain": [
       "<seaborn.axisgrid.FacetGrid at 0x7fb360e16c70>"
      ]
     },
     "execution_count": 179,
     "metadata": {},
     "output_type": "execute_result"
    },
    {
     "data": {
      "image/png": "[encoded data removed]",
      "text/plain": [
       "<Figure size 415.75x360 with 1 Axes>"
      ]
     },
     "metadata": {
      "needs_background": "light"
     },
     "output_type": "display_data"
    }
   ],
   "source": [
    "sns.displot(data=ds, x=\"Income\", kind='kde', hue='Response')"
   ]
  },
  {
   "cell_type": "code",
   "execution_count": null,
   "metadata": {
    "id": "qCsf3DwGa2qk",
    "outputId": "f33623e9-95d5-48a3-cba0-e2d8a638b43d"
   },
   "outputs": [
    {
     "data": {
      "image/png": "[encoded data removed]",
      "text/plain": [
       "<Figure size 1080x864 with 2 Axes>"
      ]
     },
     "metadata": {
      "needs_background": "light"
     },
     "output_type": "display_data"
    }
   ],
   "source": [
    "# Prepare figure\n",
    "fig = plt.figure(figsize=(15, 12))\n",
    "\n",
    "# Obtain correlation matrix. Round the values to 2 decimal cases. Use the DataFrame corr() and round() method.\n",
    "corr = np.round(ds[quantitative].corr(method=\"pearson\"), decimals=2)\n",
    "\n",
    "# Build annotation matrix (values above |0.5| will appear annotated in the plot)\n",
    "mask_annot = np.absolute(corr.values) >= 0.60\n",
    "annot = np.where(mask_annot, corr.values, np.full(corr.shape,\"\")) # Try to understand what this np.where() does\n",
    "\n",
    "# Plot heatmap of the correlation matrix\n",
    "sns.heatmap(data=corr, annot=annot, cmap=sns.diverging_palette(220, 10, as_cmap=True), \n",
    "            fmt='s', vmin=-1, vmax=1, center=0, square=True, linewidths=.5)\n",
    "\n",
    "# Layout\n",
    "fig.subplots_adjust(top=0.95)\n",
    "fig.suptitle(\"Correlation Matrix\", fontsize=20)\n",
    "\n",
    "plt.show()"
   ]
  },
  {
   "cell_type": "markdown",
   "metadata": {
    "id": "r1Gl7dsna2qk"
   },
   "source": [
    "# Feature engineering"
   ]
  },
  {
   "cell_type": "markdown",
   "metadata": {
    "id": "63V9MUE_a2qk"
   },
   "source": [
    "## Percentage per each category"
   ]
  },
  {
   "cell_type": "code",
   "execution_count": null,
   "metadata": {
    "id": "zlaA0H8Ba2ql"
   },
   "outputs": [],
   "source": [
    "allMnt = ['MntWines','MntFruits','MntMeatProducts','MntFishProducts','MntSweetProducts','MntGoldProds']"
   ]
  },
  {
   "cell_type": "markdown",
   "metadata": {
    "id": "UFXmtbF6a2ql"
   },
   "source": [
    "Let's compare all the monetary values in order to understand which campain is the most similar to the target value, we assume that each campaign is about different products and as we can see some of them have different values in different campaigns."
   ]
  },
  {
   "cell_type": "code",
   "execution_count": null,
   "metadata": {
    "id": "4M0eKJ9Xa2ql"
   },
   "outputs": [],
   "source": [
    "ds['TotalMnt'] = 0\n",
    "\n",
    "for mnt in allMnt:\n",
    "    ds['TotalMnt'] = ds['TotalMnt'] + ds[mnt]"
   ]
  },
  {
   "cell_type": "code",
   "execution_count": null,
   "metadata": {
    "id": "-ZvcbA9ba2ql"
   },
   "outputs": [],
   "source": [
    "percentAllMnt = []\n",
    "\n",
    "for mnt in allMnt:\n",
    "    percentAllMnt.append('Percent'+mnt)\n",
    "    ds['Percent'+mnt] = ds[mnt] / ds['TotalMnt']"
   ]
  },
  {
   "cell_type": "markdown",
   "metadata": {
    "id": "yWiUHs14a2ql"
   },
   "source": [
    "Let's compare the distribution of the amount spent in a category vs the percentage spent per category."
   ]
  },
  {
   "cell_type": "code",
   "execution_count": null,
   "metadata": {
    "id": "rMpGxZbpa2qm",
    "outputId": "1f4b598c-0579-418a-d22c-d3f12b9cf4b6"
   },
   "outputs": [
    {
     "data": {
      "image/png": "[encoded data removed]",
      "text/plain": [
       "<Figure size 1440x1008 with 6 Axes>"
      ]
     },
     "metadata": {
      "needs_background": "light"
     },
     "output_type": "display_data"
    }
   ],
   "source": [
    "fig, ax = plt.subplots(2, 3, figsize=(20, 14), constrained_layout = True)\n",
    "for var, subplot in zip(ds[allMnt], ax.flatten()):\n",
    "    sns.boxplot(x=ds[var], ax=subplot)"
   ]
  },
  {
   "cell_type": "code",
   "execution_count": null,
   "metadata": {
    "id": "JnLKV-Tua2qm",
    "outputId": "90a4d8a3-dc61-45aa-98fc-69c7e6420d2d"
   },
   "outputs": [
    {
     "data": {
      "image/png": "[encoded data removed]",
      "text/plain": [
       "<Figure size 1440x1008 with 6 Axes>"
      ]
     },
     "metadata": {
      "needs_background": "light"
     },
     "output_type": "display_data"
    }
   ],
   "source": [
    "fig, ax = plt.subplots(2, 3, figsize=(20, 14), constrained_layout = True)\n",
    "for var, subplot in zip(ds[percentAllMnt], ax.flatten()):\n",
    "    sns.boxplot(x=ds[var], ax=subplot)"
   ]
  },
  {
   "cell_type": "markdown",
   "metadata": {
    "id": "7r2wmmTfa2qm"
   },
   "source": [
    "One of the reasons of why we should use the percentage instead of the amount spent in a category is that we can deal with outliers in this way, for examples the distribution for wines and meat have less outliers then before now but isn't true for the other categories.  \n",
    "Beside that this new feauters are able to capture another type of information compared to the amount spent, because the amount spent is influenced by how much do you earn in this case we are seeing the how much do you spend in product instead of another one. "
   ]
  },
  {
   "cell_type": "code",
   "execution_count": null,
   "metadata": {
    "id": "55UxbYOra2qm",
    "outputId": "702c9f73-525f-4399-8ad0-4faefdc45a8e",
    "scrolled": true
   },
   "outputs": [
    {
     "data": {
      "text/html": [
       "<div>\n",
       "<style scoped>\n",
       "    .dataframe tbody tr th:only-of-type {\n",
       "        vertical-align: middle;\n",
       "    }\n",
       "\n",
       "    .dataframe tbody tr th {\n",
       "        vertical-align: top;\n",
       "    }\n",
       "\n",
       "    .dataframe thead th {\n",
       "        text-align: right;\n",
       "    }\n",
       "</style>\n",
       "<table border=\"1\" class=\"dataframe\">\n",
       "  <thead>\n",
       "    <tr style=\"text-align: right;\">\n",
       "      <th></th>\n",
       "      <th>AcceptedCmp1</th>\n",
       "      <th>AcceptedCmp2</th>\n",
       "      <th>AcceptedCmp3</th>\n",
       "      <th>AcceptedCmp4</th>\n",
       "      <th>AcceptedCmp5</th>\n",
       "      <th>Response</th>\n",
       "    </tr>\n",
       "  </thead>\n",
       "  <tbody>\n",
       "    <tr>\n",
       "      <th>PercentMntWines</th>\n",
       "      <td>0.517797</td>\n",
       "      <td>0.669391</td>\n",
       "      <td>0.450362</td>\n",
       "      <td>0.702500</td>\n",
       "      <td>0.536280</td>\n",
       "      <td>0.452404</td>\n",
       "    </tr>\n",
       "    <tr>\n",
       "      <th>PercentMntFruits</th>\n",
       "      <td>0.035057</td>\n",
       "      <td>0.018588</td>\n",
       "      <td>0.043537</td>\n",
       "      <td>0.020761</td>\n",
       "      <td>0.034274</td>\n",
       "      <td>0.044330</td>\n",
       "    </tr>\n",
       "    <tr>\n",
       "      <th>PercentMntMeatProducts</th>\n",
       "      <td>0.287453</td>\n",
       "      <td>0.188695</td>\n",
       "      <td>0.223110</td>\n",
       "      <td>0.177044</td>\n",
       "      <td>0.292055</td>\n",
       "      <td>0.280893</td>\n",
       "    </tr>\n",
       "    <tr>\n",
       "      <th>PercentMntFishProducts</th>\n",
       "      <td>0.060249</td>\n",
       "      <td>0.030275</td>\n",
       "      <td>0.052555</td>\n",
       "      <td>0.028955</td>\n",
       "      <td>0.046229</td>\n",
       "      <td>0.055814</td>\n",
       "    </tr>\n",
       "    <tr>\n",
       "      <th>PercentMntSweetProducts</th>\n",
       "      <td>0.045088</td>\n",
       "      <td>0.024754</td>\n",
       "      <td>0.037925</td>\n",
       "      <td>0.022818</td>\n",
       "      <td>0.042184</td>\n",
       "      <td>0.046884</td>\n",
       "    </tr>\n",
       "    <tr>\n",
       "      <th>PercentMntGoldProds</th>\n",
       "      <td>0.054356</td>\n",
       "      <td>0.068297</td>\n",
       "      <td>0.192510</td>\n",
       "      <td>0.047923</td>\n",
       "      <td>0.048977</td>\n",
       "      <td>0.119674</td>\n",
       "    </tr>\n",
       "  </tbody>\n",
       "</table>\n",
       "</div>"
      ],
      "text/plain": [
       "                         AcceptedCmp1  AcceptedCmp2  AcceptedCmp3  \\\n",
       "PercentMntWines              0.517797      0.669391      0.450362   \n",
       "PercentMntFruits             0.035057      0.018588      0.043537   \n",
       "PercentMntMeatProducts       0.287453      0.188695      0.223110   \n",
       "PercentMntFishProducts       0.060249      0.030275      0.052555   \n",
       "PercentMntSweetProducts      0.045088      0.024754      0.037925   \n",
       "PercentMntGoldProds          0.054356      0.068297      0.192510   \n",
       "\n",
       "                         AcceptedCmp4  AcceptedCmp5  Response  \n",
       "PercentMntWines              0.702500      0.536280  0.452404  \n",
       "PercentMntFruits             0.020761      0.034274  0.044330  \n",
       "PercentMntMeatProducts       0.177044      0.292055  0.280893  \n",
       "PercentMntFishProducts       0.028955      0.046229  0.055814  \n",
       "PercentMntSweetProducts      0.022818      0.042184  0.046884  \n",
       "PercentMntGoldProds          0.047923      0.048977  0.119674  "
      ]
     },
     "execution_count": 186,
     "metadata": {},
     "output_type": "execute_result"
    }
   ],
   "source": [
    "dsCampaigns = pd.DataFrame({'AcceptedCmp1' : ds.query('AcceptedCmp1 == 1')[percentAllMnt].mean()})\n",
    "dsCampaigns['AcceptedCmp2'] = ds.query('AcceptedCmp2 == 1')[percentAllMnt].mean().to_frame()\n",
    "dsCampaigns['AcceptedCmp3'] = ds.query('AcceptedCmp3 == 1')[percentAllMnt].mean().to_frame()\n",
    "dsCampaigns['AcceptedCmp4'] = ds.query('AcceptedCmp4 == 1')[percentAllMnt].mean().to_frame()\n",
    "dsCampaigns['AcceptedCmp5'] = ds.query('AcceptedCmp5 == 1')[percentAllMnt].mean().to_frame()\n",
    "dsCampaigns['Response'] = ds.query('Response == 1')[percentAllMnt].mean().to_frame()\n",
    "dsCampaigns"
   ]
  },
  {
   "cell_type": "markdown",
   "metadata": {
    "id": "EZEgEj-Ma2qm"
   },
   "source": [
    "What we tried to do is to see what people that have accepted different campaigns usually spend has an average in each type of products. So what we can notice is that probably campaign 3 is similar to the last one, because we assume that each camapaign is about different categories so if the percentage are the same we assume that the campaign is similar. This can be improved seen the percentage of each channel for each camapaign."
   ]
  },
  {
   "cell_type": "markdown",
   "metadata": {
    "id": "WB8yo7cJa2qn"
   },
   "source": [
    "## Creating frequency"
   ]
  },
  {
   "cell_type": "code",
   "execution_count": null,
   "metadata": {
    "id": "35VQkjtca2qn"
   },
   "outputs": [],
   "source": [
    "ds['Frequency'] = ds['NumWebPurchases'] + ds['NumCatalogPurchases'] + ds['NumStorePurchases']"
   ]
  },
  {
   "cell_type": "code",
   "execution_count": null,
   "metadata": {
    "id": "kE0OFunwa2qn",
    "outputId": "16e07c8f-3299-4267-ca50-7f5e62a81814"
   },
   "outputs": [
    {
     "data": {
      "text/plain": [
       "<seaborn.axisgrid.FacetGrid at 0x7fb3610d6bb0>"
      ]
     },
     "execution_count": 188,
     "metadata": {},
     "output_type": "execute_result"
    },
    {
     "data": {
      "image/png": "[encoded data removed]",
      "text/plain": [
       "<Figure size 415.75x360 with 1 Axes>"
      ]
     },
     "metadata": {
      "needs_background": "light"
     },
     "output_type": "display_data"
    }
   ],
   "source": [
    "sns.displot(data=ds, x=\"Frequency\", kind='kde', hue='Response')"
   ]
  },
  {
   "cell_type": "markdown",
   "metadata": {
    "id": "-Qf76nmua2qn"
   },
   "source": [
    "This graph show that Frequency influence the decison of the customer about the campaign. This is similar to the graph about income, we will see later if they are correlated."
   ]
  },
  {
   "cell_type": "code",
   "execution_count": null,
   "metadata": {
    "id": "kcdd-Nlga2qo",
    "outputId": "141e9ff4-006a-42e4-e8c4-6a492651edae"
   },
   "outputs": [
    {
     "data": {
      "text/html": [
       "<div>\n",
       "<style scoped>\n",
       "    .dataframe tbody tr th:only-of-type {\n",
       "        vertical-align: middle;\n",
       "    }\n",
       "\n",
       "    .dataframe tbody tr th {\n",
       "        vertical-align: top;\n",
       "    }\n",
       "\n",
       "    .dataframe thead th {\n",
       "        text-align: right;\n",
       "    }\n",
       "</style>\n",
       "<table border=\"1\" class=\"dataframe\">\n",
       "  <thead>\n",
       "    <tr style=\"text-align: right;\">\n",
       "      <th></th>\n",
       "      <th>Education</th>\n",
       "      <th>Marital_Status</th>\n",
       "      <th>Income</th>\n",
       "      <th>Kidhome</th>\n",
       "      <th>Teenhome</th>\n",
       "      <th>Recency</th>\n",
       "      <th>MntWines</th>\n",
       "      <th>MntFruits</th>\n",
       "      <th>MntMeatProducts</th>\n",
       "      <th>MntFishProducts</th>\n",
       "      <th>MntSweetProducts</th>\n",
       "      <th>MntGoldProds</th>\n",
       "      <th>NumDealsPurchases</th>\n",
       "      <th>NumWebPurchases</th>\n",
       "      <th>NumCatalogPurchases</th>\n",
       "      <th>NumStorePurchases</th>\n",
       "      <th>NumWebVisitsMonth</th>\n",
       "      <th>AcceptedCmp3</th>\n",
       "      <th>AcceptedCmp4</th>\n",
       "      <th>AcceptedCmp5</th>\n",
       "      <th>AcceptedCmp1</th>\n",
       "      <th>AcceptedCmp2</th>\n",
       "      <th>Complain</th>\n",
       "      <th>Response</th>\n",
       "      <th>Age</th>\n",
       "      <th>Customer_Lifetime</th>\n",
       "      <th>TotalMnt</th>\n",
       "      <th>PercentMntWines</th>\n",
       "      <th>PercentMntFruits</th>\n",
       "      <th>PercentMntMeatProducts</th>\n",
       "      <th>PercentMntFishProducts</th>\n",
       "      <th>PercentMntSweetProducts</th>\n",
       "      <th>PercentMntGoldProds</th>\n",
       "      <th>Frequency</th>\n",
       "    </tr>\n",
       "  </thead>\n",
       "  <tbody>\n",
       "    <tr>\n",
       "      <th>655</th>\n",
       "      <td>Graduation</td>\n",
       "      <td>Divorced</td>\n",
       "      <td>153924</td>\n",
       "      <td>0</td>\n",
       "      <td>0</td>\n",
       "      <td>81</td>\n",
       "      <td>1</td>\n",
       "      <td>1</td>\n",
       "      <td>1</td>\n",
       "      <td>1</td>\n",
       "      <td>1</td>\n",
       "      <td>1</td>\n",
       "      <td>0</td>\n",
       "      <td>0</td>\n",
       "      <td>0</td>\n",
       "      <td>0</td>\n",
       "      <td>0</td>\n",
       "      <td>0</td>\n",
       "      <td>0</td>\n",
       "      <td>0</td>\n",
       "      <td>0</td>\n",
       "      <td>0</td>\n",
       "      <td>0</td>\n",
       "      <td>0</td>\n",
       "      <td>39</td>\n",
       "      <td>142.0</td>\n",
       "      <td>6</td>\n",
       "      <td>0.166667</td>\n",
       "      <td>0.166667</td>\n",
       "      <td>0.166667</td>\n",
       "      <td>0.166667</td>\n",
       "      <td>0.166667</td>\n",
       "      <td>0.166667</td>\n",
       "      <td>0</td>\n",
       "    </tr>\n",
       "    <tr>\n",
       "      <th>1245</th>\n",
       "      <td>Graduation</td>\n",
       "      <td>Divorced</td>\n",
       "      <td>1730</td>\n",
       "      <td>0</td>\n",
       "      <td>0</td>\n",
       "      <td>65</td>\n",
       "      <td>1</td>\n",
       "      <td>1</td>\n",
       "      <td>3</td>\n",
       "      <td>1</td>\n",
       "      <td>1</td>\n",
       "      <td>1</td>\n",
       "      <td>15</td>\n",
       "      <td>0</td>\n",
       "      <td>0</td>\n",
       "      <td>0</td>\n",
       "      <td>20</td>\n",
       "      <td>0</td>\n",
       "      <td>0</td>\n",
       "      <td>0</td>\n",
       "      <td>0</td>\n",
       "      <td>0</td>\n",
       "      <td>0</td>\n",
       "      <td>0</td>\n",
       "      <td>43</td>\n",
       "      <td>42.0</td>\n",
       "      <td>8</td>\n",
       "      <td>0.125000</td>\n",
       "      <td>0.125000</td>\n",
       "      <td>0.375000</td>\n",
       "      <td>0.125000</td>\n",
       "      <td>0.125000</td>\n",
       "      <td>0.125000</td>\n",
       "      <td>0</td>\n",
       "    </tr>\n",
       "    <tr>\n",
       "      <th>1524</th>\n",
       "      <td>Graduation</td>\n",
       "      <td>Single</td>\n",
       "      <td>3502</td>\n",
       "      <td>1</td>\n",
       "      <td>0</td>\n",
       "      <td>56</td>\n",
       "      <td>2</td>\n",
       "      <td>1</td>\n",
       "      <td>1</td>\n",
       "      <td>0</td>\n",
       "      <td>0</td>\n",
       "      <td>1</td>\n",
       "      <td>0</td>\n",
       "      <td>0</td>\n",
       "      <td>0</td>\n",
       "      <td>0</td>\n",
       "      <td>14</td>\n",
       "      <td>0</td>\n",
       "      <td>0</td>\n",
       "      <td>0</td>\n",
       "      <td>0</td>\n",
       "      <td>0</td>\n",
       "      <td>0</td>\n",
       "      <td>0</td>\n",
       "      <td>41</td>\n",
       "      <td>442.0</td>\n",
       "      <td>5</td>\n",
       "      <td>0.400000</td>\n",
       "      <td>0.200000</td>\n",
       "      <td>0.200000</td>\n",
       "      <td>0.000000</td>\n",
       "      <td>0.000000</td>\n",
       "      <td>0.200000</td>\n",
       "      <td>0</td>\n",
       "    </tr>\n",
       "    <tr>\n",
       "      <th>1846</th>\n",
       "      <td>PhD</td>\n",
       "      <td>Married</td>\n",
       "      <td>4023</td>\n",
       "      <td>1</td>\n",
       "      <td>1</td>\n",
       "      <td>29</td>\n",
       "      <td>5</td>\n",
       "      <td>0</td>\n",
       "      <td>1</td>\n",
       "      <td>1</td>\n",
       "      <td>1</td>\n",
       "      <td>1</td>\n",
       "      <td>15</td>\n",
       "      <td>0</td>\n",
       "      <td>0</td>\n",
       "      <td>0</td>\n",
       "      <td>19</td>\n",
       "      <td>0</td>\n",
       "      <td>0</td>\n",
       "      <td>0</td>\n",
       "      <td>0</td>\n",
       "      <td>0</td>\n",
       "      <td>0</td>\n",
       "      <td>0</td>\n",
       "      <td>51</td>\n",
       "      <td>6.0</td>\n",
       "      <td>9</td>\n",
       "      <td>0.555556</td>\n",
       "      <td>0.000000</td>\n",
       "      <td>0.111111</td>\n",
       "      <td>0.111111</td>\n",
       "      <td>0.111111</td>\n",
       "      <td>0.111111</td>\n",
       "      <td>0</td>\n",
       "    </tr>\n",
       "    <tr>\n",
       "      <th>2132</th>\n",
       "      <td>PhD</td>\n",
       "      <td>Married</td>\n",
       "      <td>156924</td>\n",
       "      <td>0</td>\n",
       "      <td>0</td>\n",
       "      <td>85</td>\n",
       "      <td>2</td>\n",
       "      <td>1</td>\n",
       "      <td>2</td>\n",
       "      <td>1</td>\n",
       "      <td>1</td>\n",
       "      <td>1</td>\n",
       "      <td>0</td>\n",
       "      <td>0</td>\n",
       "      <td>0</td>\n",
       "      <td>0</td>\n",
       "      <td>0</td>\n",
       "      <td>0</td>\n",
       "      <td>0</td>\n",
       "      <td>0</td>\n",
       "      <td>0</td>\n",
       "      <td>0</td>\n",
       "      <td>0</td>\n",
       "      <td>0</td>\n",
       "      <td>65</td>\n",
       "      <td>304.0</td>\n",
       "      <td>8</td>\n",
       "      <td>0.250000</td>\n",
       "      <td>0.125000</td>\n",
       "      <td>0.250000</td>\n",
       "      <td>0.125000</td>\n",
       "      <td>0.125000</td>\n",
       "      <td>0.125000</td>\n",
       "      <td>0</td>\n",
       "    </tr>\n",
       "  </tbody>\n",
       "</table>\n",
       "</div>"
      ],
      "text/plain": [
       "       Education Marital_Status  Income  Kidhome  Teenhome  Recency  MntWines  \\\n",
       "655   Graduation       Divorced  153924        0         0       81         1   \n",
       "1245  Graduation       Divorced    1730        0         0       65         1   \n",
       "1524  Graduation         Single    3502        1         0       56         2   \n",
       "1846         PhD        Married    4023        1         1       29         5   \n",
       "2132         PhD        Married  156924        0         0       85         2   \n",
       "\n",
       "      MntFruits  MntMeatProducts  MntFishProducts  MntSweetProducts  \\\n",
       "655           1                1                1                 1   \n",
       "1245          1                3                1                 1   \n",
       "1524          1                1                0                 0   \n",
       "1846          0                1                1                 1   \n",
       "2132          1                2                1                 1   \n",
       "\n",
       "      MntGoldProds  NumDealsPurchases  NumWebPurchases  NumCatalogPurchases  \\\n",
       "655              1                  0                0                    0   \n",
       "1245             1                 15                0                    0   \n",
       "1524             1                  0                0                    0   \n",
       "1846             1                 15                0                    0   \n",
       "2132             1                  0                0                    0   \n",
       "\n",
       "      NumStorePurchases  NumWebVisitsMonth  AcceptedCmp3  AcceptedCmp4  \\\n",
       "655                   0                  0             0             0   \n",
       "1245                  0                 20             0             0   \n",
       "1524                  0                 14             0             0   \n",
       "1846                  0                 19             0             0   \n",
       "2132                  0                  0             0             0   \n",
       "\n",
       "      AcceptedCmp5  AcceptedCmp1  AcceptedCmp2  Complain  Response  Age  \\\n",
       "655              0             0             0         0         0   39   \n",
       "1245             0             0             0         0         0   43   \n",
       "1524             0             0             0         0         0   41   \n",
       "1846             0             0             0         0         0   51   \n",
       "2132             0             0             0         0         0   65   \n",
       "\n",
       "      Customer_Lifetime  TotalMnt  PercentMntWines  PercentMntFruits  \\\n",
       "655               142.0         6         0.166667          0.166667   \n",
       "1245               42.0         8         0.125000          0.125000   \n",
       "1524              442.0         5         0.400000          0.200000   \n",
       "1846                6.0         9         0.555556          0.000000   \n",
       "2132              304.0         8         0.250000          0.125000   \n",
       "\n",
       "      PercentMntMeatProducts  PercentMntFishProducts  PercentMntSweetProducts  \\\n",
       "655                 0.166667                0.166667                 0.166667   \n",
       "1245                0.375000                0.125000                 0.125000   \n",
       "1524                0.200000                0.000000                 0.000000   \n",
       "1846                0.111111                0.111111                 0.111111   \n",
       "2132                0.250000                0.125000                 0.125000   \n",
       "\n",
       "      PercentMntGoldProds  Frequency  \n",
       "655              0.166667          0  \n",
       "1245             0.125000          0  \n",
       "1524             0.200000          0  \n",
       "1846             0.111111          0  \n",
       "2132             0.125000          0  "
      ]
     },
     "execution_count": 189,
     "metadata": {},
     "output_type": "execute_result"
    }
   ],
   "source": [
    "ds.query('Frequency == 0')"
   ]
  },
  {
   "cell_type": "markdown",
   "metadata": {
    "id": "7EFan5-Aa2qo"
   },
   "source": [
    "Frequency revelead that we have some uncorrect values, is clearly a mistake to have frequency equal to zero and also a monetary value so low is suspicious. So we will remove this obsevations."
   ]
  },
  {
   "cell_type": "code",
   "execution_count": null,
   "metadata": {
    "id": "j4WgSMeja2qo"
   },
   "outputs": [],
   "source": [
    "ds = ds[ds['Frequency'] != 0].copy()"
   ]
  },
  {
   "cell_type": "markdown",
   "metadata": {
    "id": "TC7a5NS9a2qp"
   },
   "source": [
    "## Creating the ratio for channel"
   ]
  },
  {
   "cell_type": "markdown",
   "metadata": {
    "id": "Kp-cmA51a2qp"
   },
   "source": [
    "This ratio can be useful in order to capture which custom channels customers prefer. \n",
    "Note: Frequency variable is highly correlated with ratio for channel"
   ]
  },
  {
   "cell_type": "code",
   "execution_count": null,
   "metadata": {
    "id": "W409I8HFa2qp"
   },
   "outputs": [],
   "source": [
    "ds['PercentageWebPurchases'] = ds['NumWebPurchases'] / ds['Frequency'] "
   ]
  },
  {
   "cell_type": "code",
   "execution_count": null,
   "metadata": {
    "id": "S1nnKnBha2qp",
    "outputId": "03d7f2fd-8333-401b-f0d1-bd0044f4a7d1"
   },
   "outputs": [
    {
     "data": {
      "text/plain": [
       "<AxesSubplot:xlabel='PercentageWebPurchases'>"
      ]
     },
     "execution_count": 192,
     "metadata": {},
     "output_type": "execute_result"
    },
    {
     "data": {
      "image/png": "[encoded data removed]",
      "text/plain": [
       "<Figure size 432x288 with 1 Axes>"
      ]
     },
     "metadata": {
      "needs_background": "light"
     },
     "output_type": "display_data"
    }
   ],
   "source": [
    "sns.boxplot(x=ds['PercentageWebPurchases'])"
   ]
  },
  {
   "cell_type": "code",
   "execution_count": null,
   "metadata": {
    "id": "F_C-sqEIa2qq",
    "outputId": "e315ddd8-a55d-48c3-d9f7-48305a557b00"
   },
   "outputs": [
    {
     "data": {
      "text/plain": [
       "<seaborn.axisgrid.FacetGrid at 0x7fb360fb32b0>"
      ]
     },
     "execution_count": 193,
     "metadata": {},
     "output_type": "execute_result"
    },
    {
     "data": {
      "image/png": "[encoded data removed]",
      "text/plain": [
       "<Figure size 415.75x360 with 1 Axes>"
      ]
     },
     "metadata": {
      "needs_background": "light"
     },
     "output_type": "display_data"
    }
   ],
   "source": [
    "sns.displot(data=ds, x=\"PercentageWebPurchases\", kind='kde', hue='Response')"
   ]
  },
  {
   "cell_type": "code",
   "execution_count": null,
   "metadata": {
    "id": "qI6ncBWLa2qq"
   },
   "outputs": [],
   "source": [
    "ds['PercentageStorePurchases'] = ds['NumStorePurchases'] / ds['Frequency'] "
   ]
  },
  {
   "cell_type": "code",
   "execution_count": null,
   "metadata": {
    "id": "a7lsWvOja2qq",
    "outputId": "95c3a9c8-f785-4d24-a595-39758e72e638"
   },
   "outputs": [
    {
     "data": {
      "text/plain": [
       "<AxesSubplot:xlabel='PercentageStorePurchases'>"
      ]
     },
     "execution_count": 195,
     "metadata": {},
     "output_type": "execute_result"
    },
    {
     "data": {
      "image/png": "[encoded data removed]",
      "text/plain": [
       "<Figure size 432x288 with 1 Axes>"
      ]
     },
     "metadata": {
      "needs_background": "light"
     },
     "output_type": "display_data"
    }
   ],
   "source": [
    "sns.boxplot(x=ds['PercentageStorePurchases'])"
   ]
  },
  {
   "cell_type": "code",
   "execution_count": null,
   "metadata": {
    "id": "3wQXG1Uva2qq",
    "outputId": "078256e6-d9e7-49a7-a2e0-7557bb78cc15"
   },
   "outputs": [
    {
     "data": {
      "text/plain": [
       "<seaborn.axisgrid.FacetGrid at 0x7fb3603d59a0>"
      ]
     },
     "execution_count": 196,
     "metadata": {},
     "output_type": "execute_result"
    },
    {
     "data": {
      "image/png": "[encoded data removed]",
      "text/plain": [
       "<Figure size 415.75x360 with 1 Axes>"
      ]
     },
     "metadata": {
      "needs_background": "light"
     },
     "output_type": "display_data"
    }
   ],
   "source": [
    "sns.displot(data=ds, x=\"PercentageStorePurchases\", kind='kde', hue='Response')"
   ]
  },
  {
   "cell_type": "code",
   "execution_count": null,
   "metadata": {
    "id": "25bDCefxa2qr"
   },
   "outputs": [],
   "source": [
    "ds['PercentageCatalogPurchases'] = ds['NumCatalogPurchases'] / ds['Frequency'] "
   ]
  },
  {
   "cell_type": "code",
   "execution_count": null,
   "metadata": {
    "id": "Z_8TwHqta2qr",
    "outputId": "4a86d9e7-459f-4eae-abc4-9c8fd106478a"
   },
   "outputs": [
    {
     "data": {
      "text/plain": [
       "<AxesSubplot:xlabel='PercentageCatalogPurchases'>"
      ]
     },
     "execution_count": 198,
     "metadata": {},
     "output_type": "execute_result"
    },
    {
     "data": {
      "image/png": "[encoded data removed]",
      "text/plain": [
       "<Figure size 432x288 with 1 Axes>"
      ]
     },
     "metadata": {
      "needs_background": "light"
     },
     "output_type": "display_data"
    }
   ],
   "source": [
    "sns.boxplot(x=ds['PercentageCatalogPurchases'])"
   ]
  },
  {
   "cell_type": "code",
   "execution_count": null,
   "metadata": {
    "id": "GETFZO2Ua2qr",
    "outputId": "9693fb16-fd98-491c-8d28-b122cdb2aa71"
   },
   "outputs": [
    {
     "data": {
      "text/plain": [
       "<seaborn.axisgrid.FacetGrid at 0x7fb3613de0a0>"
      ]
     },
     "execution_count": 199,
     "metadata": {},
     "output_type": "execute_result"
    },
    {
     "data": {
      "image/png": "[encoded data removed]",
      "text/plain": [
       "<Figure size 415.75x360 with 1 Axes>"
      ]
     },
     "metadata": {
      "needs_background": "light"
     },
     "output_type": "display_data"
    }
   ],
   "source": [
    "sns.displot(data=ds, x=\"PercentageCatalogPurchases\", kind='kde', hue='Response')"
   ]
  },
  {
   "cell_type": "markdown",
   "metadata": {
    "id": "5Qqtqwjda2qs"
   },
   "source": [
    "Here we can notice that those that buy from the catalog and accept the last campaign have a different distribution. "
   ]
  },
  {
   "cell_type": "markdown",
   "metadata": {
    "id": "lHm0FoGua2qs"
   },
   "source": [
    "## Creating a ratio for purchases bought in a deal"
   ]
  },
  {
   "cell_type": "code",
   "execution_count": null,
   "metadata": {
    "id": "-YSDSuwya2qs"
   },
   "outputs": [],
   "source": [
    "ds['PercentageDealsPurchases'] = ds['NumDealsPurchases'] / ds['Frequency'] "
   ]
  },
  {
   "cell_type": "code",
   "execution_count": null,
   "metadata": {
    "id": "iY09jGdQa2qs",
    "outputId": "dd92115a-3fd5-4327-f6f3-1d13b9b4e35f"
   },
   "outputs": [
    {
     "data": {
      "text/plain": [
       "<AxesSubplot:xlabel='PercentageDealsPurchases'>"
      ]
     },
     "execution_count": 201,
     "metadata": {},
     "output_type": "execute_result"
    },
    {
     "data": {
      "image/png": "[encoded data removed]",
      "text/plain": [
       "<Figure size 432x288 with 1 Axes>"
      ]
     },
     "metadata": {
      "needs_background": "light"
     },
     "output_type": "display_data"
    }
   ],
   "source": [
    "sns.boxplot(x=ds['PercentageDealsPurchases'])"
   ]
  },
  {
   "cell_type": "markdown",
   "metadata": {
    "id": "-EDdgXSNa2qt"
   },
   "source": [
    "We can notice that with percentage we are able to see who buy only when there is a deal and also we have less outliers compared to the plot of NumDealsPurchaese"
   ]
  },
  {
   "cell_type": "code",
   "execution_count": null,
   "metadata": {
    "id": "WLXAuxKPa2qt",
    "outputId": "f87ad58d-8d66-4f8f-8393-c3c8818a0d42"
   },
   "outputs": [
    {
     "data": {
      "text/plain": [
       "<seaborn.axisgrid.FacetGrid at 0x7fb36121e160>"
      ]
     },
     "execution_count": 202,
     "metadata": {},
     "output_type": "execute_result"
    },
    {
     "data": {
      "image/png": "[encoded data removed]",
      "text/plain": [
       "<Figure size 415.75x360 with 1 Axes>"
      ]
     },
     "metadata": {
      "needs_background": "light"
     },
     "output_type": "display_data"
    }
   ],
   "source": [
    "sns.displot(data=ds, x=\"PercentageDealsPurchases\", kind='kde', hue='Response')"
   ]
  },
  {
   "cell_type": "markdown",
   "metadata": {
    "id": "phuDfDQwa2qt"
   },
   "source": [
    "## Creating avg time between transaction"
   ]
  },
  {
   "cell_type": "code",
   "execution_count": null,
   "metadata": {
    "id": "R62gXPKra2qt"
   },
   "outputs": [],
   "source": [
    "ds['AvgTimeBetweenTransaction'] = ds['Customer_Lifetime'] / ds['Frequency']"
   ]
  },
  {
   "cell_type": "code",
   "execution_count": null,
   "metadata": {
    "id": "wEsAHXsGa2qu",
    "outputId": "4058c178-3701-44c1-db59-315c28770cf5"
   },
   "outputs": [
    {
     "data": {
      "text/plain": [
       "<seaborn.axisgrid.FacetGrid at 0x7fb34cec4fa0>"
      ]
     },
     "execution_count": 204,
     "metadata": {},
     "output_type": "execute_result"
    },
    {
     "data": {
      "image/png": "[encoded data removed]",
      "text/plain": [
       "<Figure size 415.75x360 with 1 Axes>"
      ]
     },
     "metadata": {
      "needs_background": "light"
     },
     "output_type": "display_data"
    }
   ],
   "source": [
    "sns.displot(data=ds, x=\"AvgTimeBetweenTransaction\", kind='kde', hue='Response')"
   ]
  },
  {
   "cell_type": "markdown",
   "metadata": {
    "id": "PuEOWK-ra2qu"
   },
   "source": [
    "There is a slight difference between who reply positively to the campaign and who not. Some outliers appear but this is normal: high value is a reslut of division of low frequency."
   ]
  },
  {
   "cell_type": "markdown",
   "metadata": {
    "id": "RXbrQTxQa2qu"
   },
   "source": [
    "## Creating average purchase"
   ]
  },
  {
   "cell_type": "code",
   "execution_count": null,
   "metadata": {
    "id": "uvWpMaAGa2qu"
   },
   "outputs": [],
   "source": [
    "ds['AvgWebPurchases'] = ds['NumWebPurchases'] / ds['NumWebVisitsMonth']"
   ]
  },
  {
   "cell_type": "code",
   "execution_count": null,
   "metadata": {
    "id": "2RIii8-ea2qu",
    "outputId": "36c2d808-ee02-4b20-ee55-17477056b4e3"
   },
   "outputs": [
    {
     "data": {
      "text/plain": [
       "<AxesSubplot:xlabel='AvgWebPurchases'>"
      ]
     },
     "execution_count": 206,
     "metadata": {},
     "output_type": "execute_result"
    },
    {
     "data": {
      "image/png": "[encoded data removed]",
      "text/plain": [
       "<Figure size 432x288 with 1 Axes>"
      ]
     },
     "metadata": {
      "needs_background": "light"
     },
     "output_type": "display_data"
    }
   ],
   "source": [
    "sns.boxplot(x=ds['AvgWebPurchases'])"
   ]
  },
  {
   "cell_type": "markdown",
   "metadata": {
    "id": "aAU7Rw8Ra2qv"
   },
   "source": [
    "Note that the number of purchases is the number of articles purchased by a customer (not how many times a customer bought something).  \n",
    "There are two outliers, changing their value to a lower value can help the model to understand the data without loosing rows.  \n",
    "Then we have those that are infinite, for this one we will put 0 instead of the result that we have."
   ]
  },
  {
   "cell_type": "code",
   "execution_count": null,
   "metadata": {
    "id": "ADJAK5mVa2qv",
    "outputId": "ddbc4687-1262-433e-9e8c-4d7129456cbb",
    "scrolled": true
   },
   "outputs": [
    {
     "data": {
      "text/html": [
       "<div>\n",
       "<style scoped>\n",
       "    .dataframe tbody tr th:only-of-type {\n",
       "        vertical-align: middle;\n",
       "    }\n",
       "\n",
       "    .dataframe tbody tr th {\n",
       "        vertical-align: top;\n",
       "    }\n",
       "\n",
       "    .dataframe thead th {\n",
       "        text-align: right;\n",
       "    }\n",
       "</style>\n",
       "<table border=\"1\" class=\"dataframe\">\n",
       "  <thead>\n",
       "    <tr style=\"text-align: right;\">\n",
       "      <th></th>\n",
       "      <th>Education</th>\n",
       "      <th>Marital_Status</th>\n",
       "      <th>Income</th>\n",
       "      <th>Kidhome</th>\n",
       "      <th>Teenhome</th>\n",
       "      <th>Recency</th>\n",
       "      <th>MntWines</th>\n",
       "      <th>MntFruits</th>\n",
       "      <th>MntMeatProducts</th>\n",
       "      <th>MntFishProducts</th>\n",
       "      <th>MntSweetProducts</th>\n",
       "      <th>MntGoldProds</th>\n",
       "      <th>NumDealsPurchases</th>\n",
       "      <th>NumWebPurchases</th>\n",
       "      <th>NumCatalogPurchases</th>\n",
       "      <th>NumStorePurchases</th>\n",
       "      <th>NumWebVisitsMonth</th>\n",
       "      <th>AcceptedCmp3</th>\n",
       "      <th>AcceptedCmp4</th>\n",
       "      <th>AcceptedCmp5</th>\n",
       "      <th>AcceptedCmp1</th>\n",
       "      <th>AcceptedCmp2</th>\n",
       "      <th>Complain</th>\n",
       "      <th>Response</th>\n",
       "      <th>Age</th>\n",
       "      <th>Customer_Lifetime</th>\n",
       "      <th>TotalMnt</th>\n",
       "      <th>PercentMntWines</th>\n",
       "      <th>PercentMntFruits</th>\n",
       "      <th>PercentMntMeatProducts</th>\n",
       "      <th>PercentMntFishProducts</th>\n",
       "      <th>PercentMntSweetProducts</th>\n",
       "      <th>PercentMntGoldProds</th>\n",
       "      <th>Frequency</th>\n",
       "      <th>PercentageWebPurchases</th>\n",
       "      <th>PercentageStorePurchases</th>\n",
       "      <th>PercentageCatalogPurchases</th>\n",
       "      <th>PercentageDealsPurchases</th>\n",
       "      <th>AvgTimeBetweenTransaction</th>\n",
       "      <th>AvgWebPurchases</th>\n",
       "    </tr>\n",
       "  </thead>\n",
       "  <tbody>\n",
       "    <tr>\n",
       "      <th>905</th>\n",
       "      <td>Graduation</td>\n",
       "      <td>Single</td>\n",
       "      <td>85072</td>\n",
       "      <td>0</td>\n",
       "      <td>0</td>\n",
       "      <td>94</td>\n",
       "      <td>494</td>\n",
       "      <td>92</td>\n",
       "      <td>391</td>\n",
       "      <td>194</td>\n",
       "      <td>11</td>\n",
       "      <td>241</td>\n",
       "      <td>1</td>\n",
       "      <td>3</td>\n",
       "      <td>4</td>\n",
       "      <td>10</td>\n",
       "      <td>0</td>\n",
       "      <td>0</td>\n",
       "      <td>0</td>\n",
       "      <td>0</td>\n",
       "      <td>0</td>\n",
       "      <td>0</td>\n",
       "      <td>0</td>\n",
       "      <td>0</td>\n",
       "      <td>37</td>\n",
       "      <td>81.0</td>\n",
       "      <td>1423</td>\n",
       "      <td>0.347154</td>\n",
       "      <td>0.064652</td>\n",
       "      <td>0.274772</td>\n",
       "      <td>0.136332</td>\n",
       "      <td>0.007730</td>\n",
       "      <td>0.169361</td>\n",
       "      <td>17</td>\n",
       "      <td>0.176471</td>\n",
       "      <td>0.588235</td>\n",
       "      <td>0.235294</td>\n",
       "      <td>0.058824</td>\n",
       "      <td>4.764706</td>\n",
       "      <td>inf</td>\n",
       "    </tr>\n",
       "    <tr>\n",
       "      <th>975</th>\n",
       "      <td>Graduation</td>\n",
       "      <td>Married</td>\n",
       "      <td>83715</td>\n",
       "      <td>0</td>\n",
       "      <td>0</td>\n",
       "      <td>2</td>\n",
       "      <td>318</td>\n",
       "      <td>8</td>\n",
       "      <td>407</td>\n",
       "      <td>150</td>\n",
       "      <td>35</td>\n",
       "      <td>8</td>\n",
       "      <td>1</td>\n",
       "      <td>2</td>\n",
       "      <td>8</td>\n",
       "      <td>13</td>\n",
       "      <td>0</td>\n",
       "      <td>0</td>\n",
       "      <td>0</td>\n",
       "      <td>0</td>\n",
       "      <td>0</td>\n",
       "      <td>0</td>\n",
       "      <td>0</td>\n",
       "      <td>0</td>\n",
       "      <td>52</td>\n",
       "      <td>146.0</td>\n",
       "      <td>926</td>\n",
       "      <td>0.343413</td>\n",
       "      <td>0.008639</td>\n",
       "      <td>0.439525</td>\n",
       "      <td>0.161987</td>\n",
       "      <td>0.037797</td>\n",
       "      <td>0.008639</td>\n",
       "      <td>23</td>\n",
       "      <td>0.086957</td>\n",
       "      <td>0.565217</td>\n",
       "      <td>0.347826</td>\n",
       "      <td>0.043478</td>\n",
       "      <td>6.347826</td>\n",
       "      <td>inf</td>\n",
       "    </tr>\n",
       "    <tr>\n",
       "      <th>1773</th>\n",
       "      <td>PhD</td>\n",
       "      <td>Together</td>\n",
       "      <td>85431</td>\n",
       "      <td>0</td>\n",
       "      <td>0</td>\n",
       "      <td>54</td>\n",
       "      <td>376</td>\n",
       "      <td>53</td>\n",
       "      <td>462</td>\n",
       "      <td>168</td>\n",
       "      <td>53</td>\n",
       "      <td>53</td>\n",
       "      <td>1</td>\n",
       "      <td>2</td>\n",
       "      <td>7</td>\n",
       "      <td>7</td>\n",
       "      <td>0</td>\n",
       "      <td>0</td>\n",
       "      <td>0</td>\n",
       "      <td>0</td>\n",
       "      <td>0</td>\n",
       "      <td>0</td>\n",
       "      <td>0</td>\n",
       "      <td>0</td>\n",
       "      <td>62</td>\n",
       "      <td>386.0</td>\n",
       "      <td>1165</td>\n",
       "      <td>0.322747</td>\n",
       "      <td>0.045494</td>\n",
       "      <td>0.396567</td>\n",
       "      <td>0.144206</td>\n",
       "      <td>0.045494</td>\n",
       "      <td>0.045494</td>\n",
       "      <td>16</td>\n",
       "      <td>0.125000</td>\n",
       "      <td>0.437500</td>\n",
       "      <td>0.437500</td>\n",
       "      <td>0.062500</td>\n",
       "      <td>24.125000</td>\n",
       "      <td>inf</td>\n",
       "    </tr>\n",
       "    <tr>\n",
       "      <th>1806</th>\n",
       "      <td>PhD</td>\n",
       "      <td>Single</td>\n",
       "      <td>7144</td>\n",
       "      <td>0</td>\n",
       "      <td>1</td>\n",
       "      <td>92</td>\n",
       "      <td>81</td>\n",
       "      <td>4</td>\n",
       "      <td>33</td>\n",
       "      <td>5</td>\n",
       "      <td>2</td>\n",
       "      <td>291</td>\n",
       "      <td>0</td>\n",
       "      <td>23</td>\n",
       "      <td>1</td>\n",
       "      <td>1</td>\n",
       "      <td>0</td>\n",
       "      <td>0</td>\n",
       "      <td>0</td>\n",
       "      <td>0</td>\n",
       "      <td>0</td>\n",
       "      <td>0</td>\n",
       "      <td>0</td>\n",
       "      <td>0</td>\n",
       "      <td>48</td>\n",
       "      <td>204.0</td>\n",
       "      <td>416</td>\n",
       "      <td>0.194712</td>\n",
       "      <td>0.009615</td>\n",
       "      <td>0.079327</td>\n",
       "      <td>0.012019</td>\n",
       "      <td>0.004808</td>\n",
       "      <td>0.699519</td>\n",
       "      <td>25</td>\n",
       "      <td>0.920000</td>\n",
       "      <td>0.040000</td>\n",
       "      <td>0.040000</td>\n",
       "      <td>0.000000</td>\n",
       "      <td>8.160000</td>\n",
       "      <td>inf</td>\n",
       "    </tr>\n",
       "    <tr>\n",
       "      <th>1898</th>\n",
       "      <td>PhD</td>\n",
       "      <td>Single</td>\n",
       "      <td>113734</td>\n",
       "      <td>0</td>\n",
       "      <td>0</td>\n",
       "      <td>9</td>\n",
       "      <td>6</td>\n",
       "      <td>2</td>\n",
       "      <td>3</td>\n",
       "      <td>1</td>\n",
       "      <td>262</td>\n",
       "      <td>3</td>\n",
       "      <td>0</td>\n",
       "      <td>27</td>\n",
       "      <td>0</td>\n",
       "      <td>0</td>\n",
       "      <td>1</td>\n",
       "      <td>0</td>\n",
       "      <td>0</td>\n",
       "      <td>0</td>\n",
       "      <td>0</td>\n",
       "      <td>0</td>\n",
       "      <td>0</td>\n",
       "      <td>0</td>\n",
       "      <td>69</td>\n",
       "      <td>32.0</td>\n",
       "      <td>277</td>\n",
       "      <td>0.021661</td>\n",
       "      <td>0.007220</td>\n",
       "      <td>0.010830</td>\n",
       "      <td>0.003610</td>\n",
       "      <td>0.945848</td>\n",
       "      <td>0.010830</td>\n",
       "      <td>27</td>\n",
       "      <td>1.000000</td>\n",
       "      <td>0.000000</td>\n",
       "      <td>0.000000</td>\n",
       "      <td>0.000000</td>\n",
       "      <td>1.185185</td>\n",
       "      <td>27.0</td>\n",
       "    </tr>\n",
       "    <tr>\n",
       "      <th>1910</th>\n",
       "      <td>2n Cycle</td>\n",
       "      <td>Together</td>\n",
       "      <td>92556</td>\n",
       "      <td>0</td>\n",
       "      <td>0</td>\n",
       "      <td>32</td>\n",
       "      <td>493</td>\n",
       "      <td>183</td>\n",
       "      <td>352</td>\n",
       "      <td>184</td>\n",
       "      <td>23</td>\n",
       "      <td>28</td>\n",
       "      <td>0</td>\n",
       "      <td>3</td>\n",
       "      <td>5</td>\n",
       "      <td>13</td>\n",
       "      <td>0</td>\n",
       "      <td>0</td>\n",
       "      <td>0</td>\n",
       "      <td>0</td>\n",
       "      <td>0</td>\n",
       "      <td>0</td>\n",
       "      <td>0</td>\n",
       "      <td>0</td>\n",
       "      <td>54</td>\n",
       "      <td>70.0</td>\n",
       "      <td>1263</td>\n",
       "      <td>0.390340</td>\n",
       "      <td>0.144893</td>\n",
       "      <td>0.278702</td>\n",
       "      <td>0.145685</td>\n",
       "      <td>0.018211</td>\n",
       "      <td>0.022169</td>\n",
       "      <td>21</td>\n",
       "      <td>0.142857</td>\n",
       "      <td>0.619048</td>\n",
       "      <td>0.238095</td>\n",
       "      <td>0.000000</td>\n",
       "      <td>3.333333</td>\n",
       "      <td>inf</td>\n",
       "    </tr>\n",
       "    <tr>\n",
       "      <th>1955</th>\n",
       "      <td>PhD</td>\n",
       "      <td>Widow</td>\n",
       "      <td>76842</td>\n",
       "      <td>0</td>\n",
       "      <td>0</td>\n",
       "      <td>37</td>\n",
       "      <td>605</td>\n",
       "      <td>10</td>\n",
       "      <td>345</td>\n",
       "      <td>84</td>\n",
       "      <td>54</td>\n",
       "      <td>32</td>\n",
       "      <td>1</td>\n",
       "      <td>1</td>\n",
       "      <td>8</td>\n",
       "      <td>7</td>\n",
       "      <td>0</td>\n",
       "      <td>0</td>\n",
       "      <td>0</td>\n",
       "      <td>0</td>\n",
       "      <td>0</td>\n",
       "      <td>0</td>\n",
       "      <td>0</td>\n",
       "      <td>0</td>\n",
       "      <td>64</td>\n",
       "      <td>57.0</td>\n",
       "      <td>1130</td>\n",
       "      <td>0.535398</td>\n",
       "      <td>0.008850</td>\n",
       "      <td>0.305310</td>\n",
       "      <td>0.074336</td>\n",
       "      <td>0.047788</td>\n",
       "      <td>0.028319</td>\n",
       "      <td>16</td>\n",
       "      <td>0.062500</td>\n",
       "      <td>0.437500</td>\n",
       "      <td>0.500000</td>\n",
       "      <td>0.062500</td>\n",
       "      <td>3.562500</td>\n",
       "      <td>inf</td>\n",
       "    </tr>\n",
       "    <tr>\n",
       "      <th>1975</th>\n",
       "      <td>Graduation</td>\n",
       "      <td>Married</td>\n",
       "      <td>4428</td>\n",
       "      <td>0</td>\n",
       "      <td>1</td>\n",
       "      <td>0</td>\n",
       "      <td>16</td>\n",
       "      <td>4</td>\n",
       "      <td>12</td>\n",
       "      <td>2</td>\n",
       "      <td>4</td>\n",
       "      <td>321</td>\n",
       "      <td>0</td>\n",
       "      <td>25</td>\n",
       "      <td>0</td>\n",
       "      <td>0</td>\n",
       "      <td>1</td>\n",
       "      <td>0</td>\n",
       "      <td>0</td>\n",
       "      <td>0</td>\n",
       "      <td>0</td>\n",
       "      <td>0</td>\n",
       "      <td>0</td>\n",
       "      <td>0</td>\n",
       "      <td>45</td>\n",
       "      <td>267.0</td>\n",
       "      <td>359</td>\n",
       "      <td>0.044568</td>\n",
       "      <td>0.011142</td>\n",
       "      <td>0.033426</td>\n",
       "      <td>0.005571</td>\n",
       "      <td>0.011142</td>\n",
       "      <td>0.894150</td>\n",
       "      <td>25</td>\n",
       "      <td>1.000000</td>\n",
       "      <td>0.000000</td>\n",
       "      <td>0.000000</td>\n",
       "      <td>0.000000</td>\n",
       "      <td>10.680000</td>\n",
       "      <td>25.0</td>\n",
       "    </tr>\n",
       "  </tbody>\n",
       "</table>\n",
       "</div>"
      ],
      "text/plain": [
       "       Education Marital_Status  Income  Kidhome  Teenhome  Recency  MntWines  \\\n",
       "905   Graduation         Single   85072        0         0       94       494   \n",
       "975   Graduation        Married   83715        0         0        2       318   \n",
       "1773         PhD       Together   85431        0         0       54       376   \n",
       "1806         PhD         Single    7144        0         1       92        81   \n",
       "1898         PhD         Single  113734        0         0        9         6   \n",
       "1910    2n Cycle       Together   92556        0         0       32       493   \n",
       "1955         PhD          Widow   76842        0         0       37       605   \n",
       "1975  Graduation        Married    4428        0         1        0        16   \n",
       "\n",
       "      MntFruits  MntMeatProducts  MntFishProducts  MntSweetProducts  \\\n",
       "905          92              391              194                11   \n",
       "975           8              407              150                35   \n",
       "1773         53              462              168                53   \n",
       "1806          4               33                5                 2   \n",
       "1898          2                3                1               262   \n",
       "1910        183              352              184                23   \n",
       "1955         10              345               84                54   \n",
       "1975          4               12                2                 4   \n",
       "\n",
       "      MntGoldProds  NumDealsPurchases  NumWebPurchases  NumCatalogPurchases  \\\n",
       "905            241                  1                3                    4   \n",
       "975              8                  1                2                    8   \n",
       "1773            53                  1                2                    7   \n",
       "1806           291                  0               23                    1   \n",
       "1898             3                  0               27                    0   \n",
       "1910            28                  0                3                    5   \n",
       "1955            32                  1                1                    8   \n",
       "1975           321                  0               25                    0   \n",
       "\n",
       "      NumStorePurchases  NumWebVisitsMonth  AcceptedCmp3  AcceptedCmp4  \\\n",
       "905                  10                  0             0             0   \n",
       "975                  13                  0             0             0   \n",
       "1773                  7                  0             0             0   \n",
       "1806                  1                  0             0             0   \n",
       "1898                  0                  1             0             0   \n",
       "1910                 13                  0             0             0   \n",
       "1955                  7                  0             0             0   \n",
       "1975                  0                  1             0             0   \n",
       "\n",
       "      AcceptedCmp5  AcceptedCmp1  AcceptedCmp2  Complain  Response  Age  \\\n",
       "905              0             0             0         0         0   37   \n",
       "975              0             0             0         0         0   52   \n",
       "1773             0             0             0         0         0   62   \n",
       "1806             0             0             0         0         0   48   \n",
       "1898             0             0             0         0         0   69   \n",
       "1910             0             0             0         0         0   54   \n",
       "1955             0             0             0         0         0   64   \n",
       "1975             0             0             0         0         0   45   \n",
       "\n",
       "      Customer_Lifetime  TotalMnt  PercentMntWines  PercentMntFruits  \\\n",
       "905                81.0      1423         0.347154          0.064652   \n",
       "975               146.0       926         0.343413          0.008639   \n",
       "1773              386.0      1165         0.322747          0.045494   \n",
       "1806              204.0       416         0.194712          0.009615   \n",
       "1898               32.0       277         0.021661          0.007220   \n",
       "1910               70.0      1263         0.390340          0.144893   \n",
       "1955               57.0      1130         0.535398          0.008850   \n",
       "1975              267.0       359         0.044568          0.011142   \n",
       "\n",
       "      PercentMntMeatProducts  PercentMntFishProducts  PercentMntSweetProducts  \\\n",
       "905                 0.274772                0.136332                 0.007730   \n",
       "975                 0.439525                0.161987                 0.037797   \n",
       "1773                0.396567                0.144206                 0.045494   \n",
       "1806                0.079327                0.012019                 0.004808   \n",
       "1898                0.010830                0.003610                 0.945848   \n",
       "1910                0.278702                0.145685                 0.018211   \n",
       "1955                0.305310                0.074336                 0.047788   \n",
       "1975                0.033426                0.005571                 0.011142   \n",
       "\n",
       "      PercentMntGoldProds  Frequency  PercentageWebPurchases  \\\n",
       "905              0.169361         17                0.176471   \n",
       "975              0.008639         23                0.086957   \n",
       "1773             0.045494         16                0.125000   \n",
       "1806             0.699519         25                0.920000   \n",
       "1898             0.010830         27                1.000000   \n",
       "1910             0.022169         21                0.142857   \n",
       "1955             0.028319         16                0.062500   \n",
       "1975             0.894150         25                1.000000   \n",
       "\n",
       "      PercentageStorePurchases  PercentageCatalogPurchases  \\\n",
       "905                   0.588235                    0.235294   \n",
       "975                   0.565217                    0.347826   \n",
       "1773                  0.437500                    0.437500   \n",
       "1806                  0.040000                    0.040000   \n",
       "1898                  0.000000                    0.000000   \n",
       "1910                  0.619048                    0.238095   \n",
       "1955                  0.437500                    0.500000   \n",
       "1975                  0.000000                    0.000000   \n",
       "\n",
       "      PercentageDealsPurchases  AvgTimeBetweenTransaction  AvgWebPurchases  \n",
       "905                   0.058824                   4.764706              inf  \n",
       "975                   0.043478                   6.347826              inf  \n",
       "1773                  0.062500                  24.125000              inf  \n",
       "1806                  0.000000                   8.160000              inf  \n",
       "1898                  0.000000                   1.185185             27.0  \n",
       "1910                  0.000000                   3.333333              inf  \n",
       "1955                  0.062500                   3.562500              inf  \n",
       "1975                  0.000000                  10.680000             25.0  "
      ]
     },
     "execution_count": 207,
     "metadata": {},
     "output_type": "execute_result"
    }
   ],
   "source": [
    "ds.query('AvgWebPurchases > 20')"
   ]
  },
  {
   "cell_type": "code",
   "execution_count": null,
   "metadata": {
    "id": "F2bKZNWfa2qv"
   },
   "outputs": [],
   "source": [
    "ds['AvgWebPurchases'] = np.where(ds['AvgWebPurchases'] == np.inf, 0, ds['AvgWebPurchases'])\n",
    "ds['AvgWebPurchases'] = np.where(ds['AvgWebPurchases'] > 6, 7, ds['AvgWebPurchases'])"
   ]
  },
  {
   "cell_type": "code",
   "execution_count": null,
   "metadata": {
    "id": "PJ5s7f4va2qv",
    "outputId": "0e668176-efc1-4afe-e25b-045920198f91"
   },
   "outputs": [
    {
     "data": {
      "text/plain": [
       "<seaborn.axisgrid.FacetGrid at 0x7fb35ac42220>"
      ]
     },
     "execution_count": 209,
     "metadata": {},
     "output_type": "execute_result"
    },
    {
     "data": {
      "image/png": "[encoded data removed]",
      "text/plain": [
       "<Figure size 415.75x360 with 1 Axes>"
      ]
     },
     "metadata": {
      "needs_background": "light"
     },
     "output_type": "display_data"
    }
   ],
   "source": [
    "sns.displot(data=ds, x=\"AvgWebPurchases\", kind='kde', hue='Response')"
   ]
  },
  {
   "cell_type": "markdown",
   "metadata": {
    "id": "M19aX-t4a2qv"
   },
   "source": [
    "Also here we have two different shapes based on the response to the last campaign, so seems like that also this feature can be usefull."
   ]
  },
  {
   "cell_type": "markdown",
   "metadata": {
    "id": "eqCh_5M2a2qw"
   },
   "source": [
    "## Correlation matrix with new variables"
   ]
  },
  {
   "cell_type": "code",
   "execution_count": null,
   "metadata": {
    "id": "Nk0j_q6Na2qw"
   },
   "outputs": [],
   "source": [
    "quantitative += percentAllMnt + ['Frequency','AvgWebPurchases','AvgTimeBetweenTransaction','TotalMnt','PercentageCatalogPurchases','PercentageWebPurchases','PercentageStorePurchases','PercentageDealsPurchases']"
   ]
  },
  {
   "cell_type": "code",
   "execution_count": null,
   "metadata": {
    "id": "YZPwzi8Za2qw",
    "outputId": "a50090cb-1b05-4de9-aa23-154fd1740af0"
   },
   "outputs": [
    {
     "data": {
      "image/png": "[encoded data removed]",
      "text/plain": [
       "<Figure size 1080x864 with 2 Axes>"
      ]
     },
     "metadata": {
      "needs_background": "light"
     },
     "output_type": "display_data"
    }
   ],
   "source": [
    "# Prepare figure\n",
    "fig = plt.figure(figsize=(15, 12))\n",
    "\n",
    "# Obtain correlation matrix. Round the values to 2 decimal cases. Use the DataFrame corr() and round() method.\n",
    "corr = np.round(ds[quantitative].corr(method=\"pearson\"), decimals=2)\n",
    "\n",
    "# Build annotation matrix (values above |0.5| will appear annotated in the plot)\n",
    "mask_annot = np.absolute(corr.values) >= 0.60\n",
    "annot = np.where(mask_annot, corr.values, np.full(corr.shape,\"\")) # Try to understand what this np.where() does\n",
    "\n",
    "# Plot heatmap of the correlation matrix\n",
    "sns.heatmap(data=corr, annot=annot, cmap=sns.diverging_palette(220, 10, as_cmap=True), \n",
    "            fmt='s', vmin=-1, vmax=1, center=0, square=True, linewidths=.5)\n",
    "\n",
    "# Layout\n",
    "fig.subplots_adjust(top=0.95)\n",
    "fig.suptitle(\"Correlation Matrix\", fontsize=20)\n",
    "\n",
    "plt.show()"
   ]
  },
  {
   "cell_type": "markdown",
   "metadata": {
    "id": "xREl6I0Ea2qw"
   },
   "source": [
    "- Majority of highly correlated variables belong to the engineered ones.\n",
    "- The highest correlation observed with income, total monetary and frequency. \n",
    "- After trying to remove these variables,we got slightly better results by removing total monetary"
   ]
  },
  {
   "cell_type": "markdown",
   "metadata": {
    "id": "kNK8YFTOa2qw"
   },
   "source": [
    "## Saving data for modeling part"
   ]
  },
  {
   "cell_type": "markdown",
   "metadata": {
    "id": "BWStpVc4a2qx"
   },
   "source": [
    "We conducted experiments using various datasets, including one that retained all features, as well as two others with certain features removed.\n",
    "\n",
    "In the first dataset, we eliminated features that represented ratios, as well as TotalMnt due to its negative impact on the neural network's performance. Although we considered removing Income and Frequency due to their high correlation, we found that the model performed better with these features included.\n",
    "\n",
    "In the second dataset, we removed all mnt features and the number of purchases, as these were used to generate ratio features."
   ]
  },
  {
   "cell_type": "markdown",
   "metadata": {
    "id": "1hJ6ftB9a2qx"
   },
   "source": [
    "### Saving the dataset with new features without percentage spent"
   ]
  },
  {
   "cell_type": "markdown",
   "metadata": {
    "id": "uUQMjdHTa2qx"
   },
   "source": [
    "Decision tree and neural network work better with this dataset."
   ]
  },
  {
   "cell_type": "code",
   "execution_count": null,
   "metadata": {
    "id": "PPB7Kif2a2qx",
    "outputId": "bab9add1-fa2e-4c7f-c8e2-2352c8b68011",
    "scrolled": false
   },
   "outputs": [
    {
     "data": {
      "text/html": [
       "<div>\n",
       "<style scoped>\n",
       "    .dataframe tbody tr th:only-of-type {\n",
       "        vertical-align: middle;\n",
       "    }\n",
       "\n",
       "    .dataframe tbody tr th {\n",
       "        vertical-align: top;\n",
       "    }\n",
       "\n",
       "    .dataframe thead th {\n",
       "        text-align: right;\n",
       "    }\n",
       "</style>\n",
       "<table border=\"1\" class=\"dataframe\">\n",
       "  <thead>\n",
       "    <tr style=\"text-align: right;\">\n",
       "      <th></th>\n",
       "      <th>Income</th>\n",
       "      <th>Recency</th>\n",
       "      <th>MntWines</th>\n",
       "      <th>MntFruits</th>\n",
       "      <th>MntMeatProducts</th>\n",
       "      <th>MntFishProducts</th>\n",
       "      <th>MntSweetProducts</th>\n",
       "      <th>MntGoldProds</th>\n",
       "      <th>NumDealsPurchases</th>\n",
       "      <th>NumWebPurchases</th>\n",
       "      <th>NumCatalogPurchases</th>\n",
       "      <th>NumStorePurchases</th>\n",
       "      <th>NumWebVisitsMonth</th>\n",
       "      <th>AcceptedCmp3</th>\n",
       "      <th>AcceptedCmp4</th>\n",
       "      <th>AcceptedCmp5</th>\n",
       "      <th>AcceptedCmp1</th>\n",
       "      <th>AcceptedCmp2</th>\n",
       "      <th>Complain</th>\n",
       "      <th>Response</th>\n",
       "      <th>Age</th>\n",
       "      <th>Customer_Lifetime</th>\n",
       "      <th>Frequency</th>\n",
       "      <th>PercentageDealsPurchases</th>\n",
       "      <th>AvgTimeBetweenTransaction</th>\n",
       "      <th>AvgWebPurchases</th>\n",
       "      <th>Education_2n Cycle</th>\n",
       "      <th>Education_Basic</th>\n",
       "      <th>Education_Graduation</th>\n",
       "      <th>Education_Master</th>\n",
       "      <th>Education_PhD</th>\n",
       "      <th>Marital_Status_Divorced</th>\n",
       "      <th>Marital_Status_Married</th>\n",
       "      <th>Marital_Status_Single</th>\n",
       "      <th>Marital_Status_Together</th>\n",
       "      <th>Marital_Status_Widow</th>\n",
       "      <th>Kidhome_0</th>\n",
       "      <th>Kidhome_1</th>\n",
       "      <th>Teenhome_0</th>\n",
       "      <th>Teenhome_1</th>\n",
       "    </tr>\n",
       "  </thead>\n",
       "  <tbody>\n",
       "    <tr>\n",
       "      <th>0</th>\n",
       "      <td>58138</td>\n",
       "      <td>58</td>\n",
       "      <td>635</td>\n",
       "      <td>88</td>\n",
       "      <td>546</td>\n",
       "      <td>172</td>\n",
       "      <td>88</td>\n",
       "      <td>88</td>\n",
       "      <td>3</td>\n",
       "      <td>8</td>\n",
       "      <td>10</td>\n",
       "      <td>4</td>\n",
       "      <td>7</td>\n",
       "      <td>0</td>\n",
       "      <td>0</td>\n",
       "      <td>0</td>\n",
       "      <td>0</td>\n",
       "      <td>0</td>\n",
       "      <td>0</td>\n",
       "      <td>1</td>\n",
       "      <td>57</td>\n",
       "      <td>663.0</td>\n",
       "      <td>22</td>\n",
       "      <td>0.136364</td>\n",
       "      <td>30.136364</td>\n",
       "      <td>1.142857</td>\n",
       "      <td>0</td>\n",
       "      <td>0</td>\n",
       "      <td>1</td>\n",
       "      <td>0</td>\n",
       "      <td>0</td>\n",
       "      <td>0</td>\n",
       "      <td>0</td>\n",
       "      <td>1</td>\n",
       "      <td>0</td>\n",
       "      <td>0</td>\n",
       "      <td>1</td>\n",
       "      <td>0</td>\n",
       "      <td>1</td>\n",
       "      <td>0</td>\n",
       "    </tr>\n",
       "    <tr>\n",
       "      <th>1</th>\n",
       "      <td>46344</td>\n",
       "      <td>38</td>\n",
       "      <td>11</td>\n",
       "      <td>1</td>\n",
       "      <td>6</td>\n",
       "      <td>2</td>\n",
       "      <td>1</td>\n",
       "      <td>6</td>\n",
       "      <td>2</td>\n",
       "      <td>1</td>\n",
       "      <td>1</td>\n",
       "      <td>2</td>\n",
       "      <td>5</td>\n",
       "      <td>0</td>\n",
       "      <td>0</td>\n",
       "      <td>0</td>\n",
       "      <td>0</td>\n",
       "      <td>0</td>\n",
       "      <td>0</td>\n",
       "      <td>0</td>\n",
       "      <td>60</td>\n",
       "      <td>113.0</td>\n",
       "      <td>4</td>\n",
       "      <td>0.500000</td>\n",
       "      <td>28.250000</td>\n",
       "      <td>0.200000</td>\n",
       "      <td>0</td>\n",
       "      <td>0</td>\n",
       "      <td>1</td>\n",
       "      <td>0</td>\n",
       "      <td>0</td>\n",
       "      <td>0</td>\n",
       "      <td>0</td>\n",
       "      <td>1</td>\n",
       "      <td>0</td>\n",
       "      <td>0</td>\n",
       "      <td>0</td>\n",
       "      <td>1</td>\n",
       "      <td>0</td>\n",
       "      <td>1</td>\n",
       "    </tr>\n",
       "    <tr>\n",
       "      <th>2</th>\n",
       "      <td>71613</td>\n",
       "      <td>26</td>\n",
       "      <td>426</td>\n",
       "      <td>49</td>\n",
       "      <td>127</td>\n",
       "      <td>111</td>\n",
       "      <td>21</td>\n",
       "      <td>42</td>\n",
       "      <td>1</td>\n",
       "      <td>8</td>\n",
       "      <td>2</td>\n",
       "      <td>10</td>\n",
       "      <td>4</td>\n",
       "      <td>0</td>\n",
       "      <td>0</td>\n",
       "      <td>0</td>\n",
       "      <td>0</td>\n",
       "      <td>0</td>\n",
       "      <td>0</td>\n",
       "      <td>0</td>\n",
       "      <td>49</td>\n",
       "      <td>312.0</td>\n",
       "      <td>20</td>\n",
       "      <td>0.050000</td>\n",
       "      <td>15.600000</td>\n",
       "      <td>2.000000</td>\n",
       "      <td>0</td>\n",
       "      <td>0</td>\n",
       "      <td>1</td>\n",
       "      <td>0</td>\n",
       "      <td>0</td>\n",
       "      <td>0</td>\n",
       "      <td>0</td>\n",
       "      <td>0</td>\n",
       "      <td>1</td>\n",
       "      <td>0</td>\n",
       "      <td>1</td>\n",
       "      <td>0</td>\n",
       "      <td>1</td>\n",
       "      <td>0</td>\n",
       "    </tr>\n",
       "    <tr>\n",
       "      <th>3</th>\n",
       "      <td>26646</td>\n",
       "      <td>26</td>\n",
       "      <td>11</td>\n",
       "      <td>4</td>\n",
       "      <td>20</td>\n",
       "      <td>10</td>\n",
       "      <td>3</td>\n",
       "      <td>5</td>\n",
       "      <td>2</td>\n",
       "      <td>2</td>\n",
       "      <td>0</td>\n",
       "      <td>4</td>\n",
       "      <td>6</td>\n",
       "      <td>0</td>\n",
       "      <td>0</td>\n",
       "      <td>0</td>\n",
       "      <td>0</td>\n",
       "      <td>0</td>\n",
       "      <td>0</td>\n",
       "      <td>0</td>\n",
       "      <td>30</td>\n",
       "      <td>139.0</td>\n",
       "      <td>6</td>\n",
       "      <td>0.333333</td>\n",
       "      <td>23.166667</td>\n",
       "      <td>0.333333</td>\n",
       "      <td>0</td>\n",
       "      <td>0</td>\n",
       "      <td>1</td>\n",
       "      <td>0</td>\n",
       "      <td>0</td>\n",
       "      <td>0</td>\n",
       "      <td>0</td>\n",
       "      <td>0</td>\n",
       "      <td>1</td>\n",
       "      <td>0</td>\n",
       "      <td>0</td>\n",
       "      <td>1</td>\n",
       "      <td>1</td>\n",
       "      <td>0</td>\n",
       "    </tr>\n",
       "    <tr>\n",
       "      <th>4</th>\n",
       "      <td>58293</td>\n",
       "      <td>94</td>\n",
       "      <td>173</td>\n",
       "      <td>43</td>\n",
       "      <td>118</td>\n",
       "      <td>46</td>\n",
       "      <td>27</td>\n",
       "      <td>15</td>\n",
       "      <td>5</td>\n",
       "      <td>5</td>\n",
       "      <td>3</td>\n",
       "      <td>6</td>\n",
       "      <td>5</td>\n",
       "      <td>0</td>\n",
       "      <td>0</td>\n",
       "      <td>0</td>\n",
       "      <td>0</td>\n",
       "      <td>0</td>\n",
       "      <td>0</td>\n",
       "      <td>0</td>\n",
       "      <td>33</td>\n",
       "      <td>161.0</td>\n",
       "      <td>14</td>\n",
       "      <td>0.357143</td>\n",
       "      <td>11.500000</td>\n",
       "      <td>1.000000</td>\n",
       "      <td>0</td>\n",
       "      <td>0</td>\n",
       "      <td>0</td>\n",
       "      <td>0</td>\n",
       "      <td>1</td>\n",
       "      <td>0</td>\n",
       "      <td>1</td>\n",
       "      <td>0</td>\n",
       "      <td>0</td>\n",
       "      <td>0</td>\n",
       "      <td>0</td>\n",
       "      <td>1</td>\n",
       "      <td>1</td>\n",
       "      <td>0</td>\n",
       "    </tr>\n",
       "  </tbody>\n",
       "</table>\n",
       "</div>"
      ],
      "text/plain": [
       "   Income  Recency  MntWines  MntFruits  MntMeatProducts  MntFishProducts  \\\n",
       "0   58138       58       635         88              546              172   \n",
       "1   46344       38        11          1                6                2   \n",
       "2   71613       26       426         49              127              111   \n",
       "3   26646       26        11          4               20               10   \n",
       "4   58293       94       173         43              118               46   \n",
       "\n",
       "   MntSweetProducts  MntGoldProds  NumDealsPurchases  NumWebPurchases  \\\n",
       "0                88            88                  3                8   \n",
       "1                 1             6                  2                1   \n",
       "2                21            42                  1                8   \n",
       "3                 3             5                  2                2   \n",
       "4                27            15                  5                5   \n",
       "\n",
       "   NumCatalogPurchases  NumStorePurchases  NumWebVisitsMonth  AcceptedCmp3  \\\n",
       "0                   10                  4                  7             0   \n",
       "1                    1                  2                  5             0   \n",
       "2                    2                 10                  4             0   \n",
       "3                    0                  4                  6             0   \n",
       "4                    3                  6                  5             0   \n",
       "\n",
       "   AcceptedCmp4  AcceptedCmp5  AcceptedCmp1  AcceptedCmp2  Complain  Response  \\\n",
       "0             0             0             0             0         0         1   \n",
       "1             0             0             0             0         0         0   \n",
       "2             0             0             0             0         0         0   \n",
       "3             0             0             0             0         0         0   \n",
       "4             0             0             0             0         0         0   \n",
       "\n",
       "   Age  Customer_Lifetime  Frequency  PercentageDealsPurchases  \\\n",
       "0   57              663.0         22                  0.136364   \n",
       "1   60              113.0          4                  0.500000   \n",
       "2   49              312.0         20                  0.050000   \n",
       "3   30              139.0          6                  0.333333   \n",
       "4   33              161.0         14                  0.357143   \n",
       "\n",
       "   AvgTimeBetweenTransaction  AvgWebPurchases  Education_2n Cycle  \\\n",
       "0                  30.136364         1.142857                   0   \n",
       "1                  28.250000         0.200000                   0   \n",
       "2                  15.600000         2.000000                   0   \n",
       "3                  23.166667         0.333333                   0   \n",
       "4                  11.500000         1.000000                   0   \n",
       "\n",
       "   Education_Basic  Education_Graduation  Education_Master  Education_PhD  \\\n",
       "0                0                     1                 0              0   \n",
       "1                0                     1                 0              0   \n",
       "2                0                     1                 0              0   \n",
       "3                0                     1                 0              0   \n",
       "4                0                     0                 0              1   \n",
       "\n",
       "   Marital_Status_Divorced  Marital_Status_Married  Marital_Status_Single  \\\n",
       "0                        0                       0                      1   \n",
       "1                        0                       0                      1   \n",
       "2                        0                       0                      0   \n",
       "3                        0                       0                      0   \n",
       "4                        0                       1                      0   \n",
       "\n",
       "   Marital_Status_Together  Marital_Status_Widow  Kidhome_0  Kidhome_1  \\\n",
       "0                        0                     0          1          0   \n",
       "1                        0                     0          0          1   \n",
       "2                        1                     0          1          0   \n",
       "3                        1                     0          0          1   \n",
       "4                        0                     0          0          1   \n",
       "\n",
       "   Teenhome_0  Teenhome_1  \n",
       "0           1           0  \n",
       "1           0           1  \n",
       "2           1           0  \n",
       "3           1           0  \n",
       "4           1           0  "
      ]
     },
     "execution_count": 212,
     "metadata": {},
     "output_type": "execute_result"
    }
   ],
   "source": [
    "oneHotEncoded = pd.get_dummies(ds, columns=['Education','Marital_Status','Kidhome','Teenhome'])\n",
    "oneHotEncoded = oneHotEncoded.drop(columns=['PercentMntWines','PercentMntFruits','PercentMntMeatProducts','PercentMntFishProducts','PercentMntSweetProducts','PercentMntGoldProds','Marital_Status_Absurd','Marital_Status_Alone','Marital_Status_YOLO','PercentageCatalogPurchases','PercentageWebPurchases','PercentageStorePurchases','TotalMnt','PercentageDealsPurchases'])\n",
    "oneHotEncoded.head()"
   ]
  },
  {
   "cell_type": "code",
   "execution_count": null,
   "metadata": {
    "id": "wwfUAVNKa2qy"
   },
   "outputs": [],
   "source": [
    "oneHotEncoded.to_parquet('oneHotEncoded.parquet.snappy', engine='fastparquet')"
   ]
  },
  {
   "cell_type": "markdown",
   "metadata": {
    "id": "eqP-dWOva2qy"
   },
   "source": [
    "### Saving the dataset with new features with channel percentage and percentage spent"
   ]
  },
  {
   "cell_type": "markdown",
   "metadata": {
    "id": "fKsjb5KZa2qy"
   },
   "source": [
    "Logistic regression, knn, naive bayes and svm work better with this one."
   ]
  },
  {
   "cell_type": "code",
   "execution_count": null,
   "metadata": {
    "id": "n953cd6-a2qy",
    "outputId": "9580757b-4b9b-436e-d82a-101869223d68"
   },
   "outputs": [
    {
     "data": {
      "text/html": [
       "<div>\n",
       "<style scoped>\n",
       "    .dataframe tbody tr th:only-of-type {\n",
       "        vertical-align: middle;\n",
       "    }\n",
       "\n",
       "    .dataframe tbody tr th {\n",
       "        vertical-align: top;\n",
       "    }\n",
       "\n",
       "    .dataframe thead th {\n",
       "        text-align: right;\n",
       "    }\n",
       "</style>\n",
       "<table border=\"1\" class=\"dataframe\">\n",
       "  <thead>\n",
       "    <tr style=\"text-align: right;\">\n",
       "      <th></th>\n",
       "      <th>Income</th>\n",
       "      <th>Recency</th>\n",
       "      <th>NumDealsPurchases</th>\n",
       "      <th>NumWebVisitsMonth</th>\n",
       "      <th>AcceptedCmp3</th>\n",
       "      <th>AcceptedCmp4</th>\n",
       "      <th>AcceptedCmp5</th>\n",
       "      <th>AcceptedCmp1</th>\n",
       "      <th>AcceptedCmp2</th>\n",
       "      <th>Complain</th>\n",
       "      <th>Response</th>\n",
       "      <th>Age</th>\n",
       "      <th>Customer_Lifetime</th>\n",
       "      <th>TotalMnt</th>\n",
       "      <th>PercentMntWines</th>\n",
       "      <th>PercentMntFruits</th>\n",
       "      <th>PercentMntMeatProducts</th>\n",
       "      <th>PercentMntFishProducts</th>\n",
       "      <th>PercentMntSweetProducts</th>\n",
       "      <th>PercentMntGoldProds</th>\n",
       "      <th>Frequency</th>\n",
       "      <th>PercentageWebPurchases</th>\n",
       "      <th>PercentageStorePurchases</th>\n",
       "      <th>PercentageCatalogPurchases</th>\n",
       "      <th>PercentageDealsPurchases</th>\n",
       "      <th>AvgTimeBetweenTransaction</th>\n",
       "      <th>AvgWebPurchases</th>\n",
       "      <th>Education_2n Cycle</th>\n",
       "      <th>Education_Basic</th>\n",
       "      <th>Education_Graduation</th>\n",
       "      <th>Education_Master</th>\n",
       "      <th>Education_PhD</th>\n",
       "      <th>Marital_Status_Divorced</th>\n",
       "      <th>Marital_Status_Married</th>\n",
       "      <th>Marital_Status_Single</th>\n",
       "      <th>Marital_Status_Together</th>\n",
       "      <th>Marital_Status_Widow</th>\n",
       "      <th>Kidhome_0</th>\n",
       "      <th>Kidhome_1</th>\n",
       "      <th>Teenhome_0</th>\n",
       "      <th>Teenhome_1</th>\n",
       "    </tr>\n",
       "  </thead>\n",
       "  <tbody>\n",
       "    <tr>\n",
       "      <th>0</th>\n",
       "      <td>58138</td>\n",
       "      <td>58</td>\n",
       "      <td>3</td>\n",
       "      <td>7</td>\n",
       "      <td>0</td>\n",
       "      <td>0</td>\n",
       "      <td>0</td>\n",
       "      <td>0</td>\n",
       "      <td>0</td>\n",
       "      <td>0</td>\n",
       "      <td>1</td>\n",
       "      <td>57</td>\n",
       "      <td>663.0</td>\n",
       "      <td>1617</td>\n",
       "      <td>0.392703</td>\n",
       "      <td>0.054422</td>\n",
       "      <td>0.337662</td>\n",
       "      <td>0.106370</td>\n",
       "      <td>0.054422</td>\n",
       "      <td>0.054422</td>\n",
       "      <td>22</td>\n",
       "      <td>0.363636</td>\n",
       "      <td>0.181818</td>\n",
       "      <td>0.454545</td>\n",
       "      <td>0.136364</td>\n",
       "      <td>30.136364</td>\n",
       "      <td>1.142857</td>\n",
       "      <td>0</td>\n",
       "      <td>0</td>\n",
       "      <td>1</td>\n",
       "      <td>0</td>\n",
       "      <td>0</td>\n",
       "      <td>0</td>\n",
       "      <td>0</td>\n",
       "      <td>1</td>\n",
       "      <td>0</td>\n",
       "      <td>0</td>\n",
       "      <td>1</td>\n",
       "      <td>0</td>\n",
       "      <td>1</td>\n",
       "      <td>0</td>\n",
       "    </tr>\n",
       "    <tr>\n",
       "      <th>1</th>\n",
       "      <td>46344</td>\n",
       "      <td>38</td>\n",
       "      <td>2</td>\n",
       "      <td>5</td>\n",
       "      <td>0</td>\n",
       "      <td>0</td>\n",
       "      <td>0</td>\n",
       "      <td>0</td>\n",
       "      <td>0</td>\n",
       "      <td>0</td>\n",
       "      <td>0</td>\n",
       "      <td>60</td>\n",
       "      <td>113.0</td>\n",
       "      <td>27</td>\n",
       "      <td>0.407407</td>\n",
       "      <td>0.037037</td>\n",
       "      <td>0.222222</td>\n",
       "      <td>0.074074</td>\n",
       "      <td>0.037037</td>\n",
       "      <td>0.222222</td>\n",
       "      <td>4</td>\n",
       "      <td>0.250000</td>\n",
       "      <td>0.500000</td>\n",
       "      <td>0.250000</td>\n",
       "      <td>0.500000</td>\n",
       "      <td>28.250000</td>\n",
       "      <td>0.200000</td>\n",
       "      <td>0</td>\n",
       "      <td>0</td>\n",
       "      <td>1</td>\n",
       "      <td>0</td>\n",
       "      <td>0</td>\n",
       "      <td>0</td>\n",
       "      <td>0</td>\n",
       "      <td>1</td>\n",
       "      <td>0</td>\n",
       "      <td>0</td>\n",
       "      <td>0</td>\n",
       "      <td>1</td>\n",
       "      <td>0</td>\n",
       "      <td>1</td>\n",
       "    </tr>\n",
       "    <tr>\n",
       "      <th>2</th>\n",
       "      <td>71613</td>\n",
       "      <td>26</td>\n",
       "      <td>1</td>\n",
       "      <td>4</td>\n",
       "      <td>0</td>\n",
       "      <td>0</td>\n",
       "      <td>0</td>\n",
       "      <td>0</td>\n",
       "      <td>0</td>\n",
       "      <td>0</td>\n",
       "      <td>0</td>\n",
       "      <td>49</td>\n",
       "      <td>312.0</td>\n",
       "      <td>776</td>\n",
       "      <td>0.548969</td>\n",
       "      <td>0.063144</td>\n",
       "      <td>0.163660</td>\n",
       "      <td>0.143041</td>\n",
       "      <td>0.027062</td>\n",
       "      <td>0.054124</td>\n",
       "      <td>20</td>\n",
       "      <td>0.400000</td>\n",
       "      <td>0.500000</td>\n",
       "      <td>0.100000</td>\n",
       "      <td>0.050000</td>\n",
       "      <td>15.600000</td>\n",
       "      <td>2.000000</td>\n",
       "      <td>0</td>\n",
       "      <td>0</td>\n",
       "      <td>1</td>\n",
       "      <td>0</td>\n",
       "      <td>0</td>\n",
       "      <td>0</td>\n",
       "      <td>0</td>\n",
       "      <td>0</td>\n",
       "      <td>1</td>\n",
       "      <td>0</td>\n",
       "      <td>1</td>\n",
       "      <td>0</td>\n",
       "      <td>1</td>\n",
       "      <td>0</td>\n",
       "    </tr>\n",
       "    <tr>\n",
       "      <th>3</th>\n",
       "      <td>26646</td>\n",
       "      <td>26</td>\n",
       "      <td>2</td>\n",
       "      <td>6</td>\n",
       "      <td>0</td>\n",
       "      <td>0</td>\n",
       "      <td>0</td>\n",
       "      <td>0</td>\n",
       "      <td>0</td>\n",
       "      <td>0</td>\n",
       "      <td>0</td>\n",
       "      <td>30</td>\n",
       "      <td>139.0</td>\n",
       "      <td>53</td>\n",
       "      <td>0.207547</td>\n",
       "      <td>0.075472</td>\n",
       "      <td>0.377358</td>\n",
       "      <td>0.188679</td>\n",
       "      <td>0.056604</td>\n",
       "      <td>0.094340</td>\n",
       "      <td>6</td>\n",
       "      <td>0.333333</td>\n",
       "      <td>0.666667</td>\n",
       "      <td>0.000000</td>\n",
       "      <td>0.333333</td>\n",
       "      <td>23.166667</td>\n",
       "      <td>0.333333</td>\n",
       "      <td>0</td>\n",
       "      <td>0</td>\n",
       "      <td>1</td>\n",
       "      <td>0</td>\n",
       "      <td>0</td>\n",
       "      <td>0</td>\n",
       "      <td>0</td>\n",
       "      <td>0</td>\n",
       "      <td>1</td>\n",
       "      <td>0</td>\n",
       "      <td>0</td>\n",
       "      <td>1</td>\n",
       "      <td>1</td>\n",
       "      <td>0</td>\n",
       "    </tr>\n",
       "    <tr>\n",
       "      <th>4</th>\n",
       "      <td>58293</td>\n",
       "      <td>94</td>\n",
       "      <td>5</td>\n",
       "      <td>5</td>\n",
       "      <td>0</td>\n",
       "      <td>0</td>\n",
       "      <td>0</td>\n",
       "      <td>0</td>\n",
       "      <td>0</td>\n",
       "      <td>0</td>\n",
       "      <td>0</td>\n",
       "      <td>33</td>\n",
       "      <td>161.0</td>\n",
       "      <td>422</td>\n",
       "      <td>0.409953</td>\n",
       "      <td>0.101896</td>\n",
       "      <td>0.279621</td>\n",
       "      <td>0.109005</td>\n",
       "      <td>0.063981</td>\n",
       "      <td>0.035545</td>\n",
       "      <td>14</td>\n",
       "      <td>0.357143</td>\n",
       "      <td>0.428571</td>\n",
       "      <td>0.214286</td>\n",
       "      <td>0.357143</td>\n",
       "      <td>11.500000</td>\n",
       "      <td>1.000000</td>\n",
       "      <td>0</td>\n",
       "      <td>0</td>\n",
       "      <td>0</td>\n",
       "      <td>0</td>\n",
       "      <td>1</td>\n",
       "      <td>0</td>\n",
       "      <td>1</td>\n",
       "      <td>0</td>\n",
       "      <td>0</td>\n",
       "      <td>0</td>\n",
       "      <td>0</td>\n",
       "      <td>1</td>\n",
       "      <td>1</td>\n",
       "      <td>0</td>\n",
       "    </tr>\n",
       "  </tbody>\n",
       "</table>\n",
       "</div>"
      ],
      "text/plain": [
       "   Income  Recency  NumDealsPurchases  NumWebVisitsMonth  AcceptedCmp3  \\\n",
       "0   58138       58                  3                  7             0   \n",
       "1   46344       38                  2                  5             0   \n",
       "2   71613       26                  1                  4             0   \n",
       "3   26646       26                  2                  6             0   \n",
       "4   58293       94                  5                  5             0   \n",
       "\n",
       "   AcceptedCmp4  AcceptedCmp5  AcceptedCmp1  AcceptedCmp2  Complain  Response  \\\n",
       "0             0             0             0             0         0         1   \n",
       "1             0             0             0             0         0         0   \n",
       "2             0             0             0             0         0         0   \n",
       "3             0             0             0             0         0         0   \n",
       "4             0             0             0             0         0         0   \n",
       "\n",
       "   Age  Customer_Lifetime  TotalMnt  PercentMntWines  PercentMntFruits  \\\n",
       "0   57              663.0      1617         0.392703          0.054422   \n",
       "1   60              113.0        27         0.407407          0.037037   \n",
       "2   49              312.0       776         0.548969          0.063144   \n",
       "3   30              139.0        53         0.207547          0.075472   \n",
       "4   33              161.0       422         0.409953          0.101896   \n",
       "\n",
       "   PercentMntMeatProducts  PercentMntFishProducts  PercentMntSweetProducts  \\\n",
       "0                0.337662                0.106370                 0.054422   \n",
       "1                0.222222                0.074074                 0.037037   \n",
       "2                0.163660                0.143041                 0.027062   \n",
       "3                0.377358                0.188679                 0.056604   \n",
       "4                0.279621                0.109005                 0.063981   \n",
       "\n",
       "   PercentMntGoldProds  Frequency  PercentageWebPurchases  \\\n",
       "0             0.054422         22                0.363636   \n",
       "1             0.222222          4                0.250000   \n",
       "2             0.054124         20                0.400000   \n",
       "3             0.094340          6                0.333333   \n",
       "4             0.035545         14                0.357143   \n",
       "\n",
       "   PercentageStorePurchases  PercentageCatalogPurchases  \\\n",
       "0                  0.181818                    0.454545   \n",
       "1                  0.500000                    0.250000   \n",
       "2                  0.500000                    0.100000   \n",
       "3                  0.666667                    0.000000   \n",
       "4                  0.428571                    0.214286   \n",
       "\n",
       "   PercentageDealsPurchases  AvgTimeBetweenTransaction  AvgWebPurchases  \\\n",
       "0                  0.136364                  30.136364         1.142857   \n",
       "1                  0.500000                  28.250000         0.200000   \n",
       "2                  0.050000                  15.600000         2.000000   \n",
       "3                  0.333333                  23.166667         0.333333   \n",
       "4                  0.357143                  11.500000         1.000000   \n",
       "\n",
       "   Education_2n Cycle  Education_Basic  Education_Graduation  \\\n",
       "0                   0                0                     1   \n",
       "1                   0                0                     1   \n",
       "2                   0                0                     1   \n",
       "3                   0                0                     1   \n",
       "4                   0                0                     0   \n",
       "\n",
       "   Education_Master  Education_PhD  Marital_Status_Divorced  \\\n",
       "0                 0              0                        0   \n",
       "1                 0              0                        0   \n",
       "2                 0              0                        0   \n",
       "3                 0              0                        0   \n",
       "4                 0              1                        0   \n",
       "\n",
       "   Marital_Status_Married  Marital_Status_Single  Marital_Status_Together  \\\n",
       "0                       0                      1                        0   \n",
       "1                       0                      1                        0   \n",
       "2                       0                      0                        1   \n",
       "3                       0                      0                        1   \n",
       "4                       1                      0                        0   \n",
       "\n",
       "   Marital_Status_Widow  Kidhome_0  Kidhome_1  Teenhome_0  Teenhome_1  \n",
       "0                     0          1          0           1           0  \n",
       "1                     0          0          1           0           1  \n",
       "2                     0          1          0           1           0  \n",
       "3                     0          0          1           1           0  \n",
       "4                     0          0          1           1           0  "
      ]
     },
     "execution_count": 220,
     "metadata": {},
     "output_type": "execute_result"
    }
   ],
   "source": [
    "oneHotEncoded = pd.get_dummies(ds, columns=['Education','Marital_Status','Kidhome','Teenhome'])\n",
    "oneHotEncoded = oneHotEncoded.drop(columns=['MntWines','MntFruits','MntMeatProducts','MntFishProducts','MntSweetProducts','MntGoldProds','Marital_Status_Absurd','Marital_Status_YOLO','Marital_Status_Alone','NumWebPurchases','NumCatalogPurchases','NumStorePurchases'])\n",
    "oneHotEncoded.head()"
   ]
  },
  {
   "cell_type": "code",
   "execution_count": null,
   "metadata": {
    "id": "PbrXb_L0a2qz"
   },
   "outputs": [],
   "source": [
    "oneHotEncoded.to_parquet('oneHotEncoded.parquet.snappy', engine='fastparquet')"
   ]
  },
  {
   "cell_type": "markdown",
   "metadata": {
    "id": "9mNsJHica2qz"
   },
   "source": [
    "# Conclusion"
   ]
  },
  {
   "attachments": {
    "Comparison%20of%20models.png": {
     "image/png": "[encoded data removed]"
    }
   },
   "cell_type": "markdown",
   "metadata": {},
   "source": [
    "![Comparison%20of%20models.png](attachment:Comparison%20of%20models.png)"
   ]
  },
  {
   "cell_type": "markdown",
   "metadata": {},
   "source": [
    "#### First iteration:"
   ]
  },
  {
   "cell_type": "markdown",
   "metadata": {},
   "source": [
    "We explored and cleaned the data for the first set of iterations, without performing any feature engineering, only oversampling and hyper-tunning. We made tests with the following models: Support Vector Machine, Neural Network, Logistic Regression, Naïve Bayes, K-Nearest Neighbor, and Decision tree. We analyzed each model's results to understand the ones with the best performances. Based on the F1 Score and AUC results, it was possible to identify that Support Vector Machine, Neural Network, and Logistic Regression had better results, so they were selected for the second set of iterations with improvements in data preparation."
   ]
  },
  {
   "cell_type": "markdown",
   "metadata": {},
   "source": [
    "#### Second iteration:"
   ]
  },
  {
   "cell_type": "markdown",
   "metadata": {},
   "source": [
    "On the second set of iterations, the SVM had good results for F1 and AUC, but this model turned out overfitted since the differences between the training and test results of F1 and AUC were the highest compared to other models. \n",
    "Based on the F1 and AUC results of NN  it was possible to understand that the model is less overfitted than LR, but with worse results. Considering that it is a model which is more difficult to interpret, we don't consider it the best option. \n",
    "The model with the best performance is LR, which has good results of F1 and AUC, and a low difference between training and test dataset scores, indicating that it is not overfitting. The great advantages of LR are that it is a simple model easy to interpret and LR identifies the features that explain the model and shows their importance by the coefficient values. \n",
    "We identified that clients that are more likely to accept the campaign have a bigger percentage of purchases in the store, have completed purchases recently, and are buying from the company for a long time. (Note: these features attributed by LR with bigger importance were engineered during the second iteration)."
   ]
  },
  {
   "cell_type": "markdown",
   "metadata": {},
   "source": [
    "#### Choosing measures. Assumption "
   ]
  },
  {
   "cell_type": "markdown",
   "metadata": {
    "id": "RuKwzF88a2qz"
   },
   "source": [
    "The objective of the prediction is to identify the clients that are going to accept the campaign. Our assumption is that the company is using a low-cost method to promote the campaign such as sending e-mails or messages to the targeted clients. In this case, the company gets the most value by maximizing the reach of customers prone to accept the campaign, we assume that the effect of reaching out to customers not going to accept the offer is neglectable, compared to the loss of not contacting customers that were ready to accept. The model is designed to maximize the correct classification of the true positives and minimize the false negatives.\n"
   ]
  }
 ],
 "metadata": {
  "colab": {
   "provenance": []
  },
  "interpreter": {
   "hash": "d7a18bc08bf6b314cad8b0dd8f53415ad78d1015cc806d14e4873c235fb4e191"
  },
  "kernelspec": {
   "display_name": "Python 3 (ipykernel)",
   "language": "python",
   "name": "python3"
  },
  "language_info": {
   "codemirror_mode": {
    "name": "ipython",
    "version": 3
   },
   "file_extension": ".py",
   "mimetype": "text/x-python",
   "name": "python",
   "nbconvert_exporter": "python",
   "pygments_lexer": "ipython3",
   "version": "3.9.12"
  }
 },
 "nbformat": 4,
 "nbformat_minor": 1
}
