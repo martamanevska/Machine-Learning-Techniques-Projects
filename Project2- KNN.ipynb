{
 "cells": [
  {
   "cell_type": "markdown",
   "metadata": {
    "id": "WtymwHyBh2G5"
   },
   "source": [
    "# Project 2 - Classification\n",
    "## Predict customers likely to respond to a marketing campaign\n",
    "### This notebook uses the *campaign.xlsx* dataset\n",
    "\n",
    "(c) Nuno António 2022 - Rev. 1.0"
   ]
  },
  {
   "cell_type": "markdown",
   "metadata": {
    "id": "mnowUxaxh2G_"
   },
   "source": [
    "## Dataset description\n",
    "\n",
    "- **AcceptedCmp1** - 1 if customer accepted the offer in the 1st campaign, 0 otherwise \n",
    "- **AcceptedCmp2** - 1 if customer accepted the offer in the 2nd campaign, 0 otherwise \n",
    "- **AcceptedCmp3** - 1 if customer accepted the offer in the 3rd campaign, 0 otherwise \n",
    "- **AcceptedCmp4** - 1 if customer accepted the offer in the 4th campaign, 0 otherwise \n",
    "- **AcceptedCmp5** - 1 if customer accepted the offer in the 5th campaign, 0 otherwise \n",
    "- **Response (target)** - 1 if customer accepted the offer in the last campaign, 0 otherwise \n",
    "- **Complain** - 1 if customer complained in the last 2 years\n",
    "- **DtCustomer** - date of customer’s enrolment with the company\n",
    "- **Education** - customer’s level of education\n",
    "- **Marital** - customer’s marital status\n",
    "- **Kidhome** - number of small children in customer’s household\n",
    "- **Teenhome** - number of teenagers in customer’s household\n",
    "- **Income** - customer’s yearly household income\n",
    "- **MntFishProducts** - amount spent on fish products in the last 2 years\n",
    "- **MntMeatProducts** - amount spent on meat products in the last 2 years\n",
    "- **MntFruits** - amount spent on fruits products in the last 2 years\n",
    "- **MntSweetProducts** - amount spent on sweet products in the last 2 years\n",
    "- **MntWines** - amount spent on wine products in the last 2 years\n",
    "- **MntGoldProds** - amount spent on gold products in the last 2 years\n",
    "- **NumDealsPurchases** - number of purchases made with discount\n",
    "- **NumCatalogPurchases** - number of purchases made using catalogue\n",
    "- **NumStorePurchases** - number of purchases made directly in stores\n",
    "- **NumWebPurchases** - number of purchases made through company’s web site\n",
    "- **NumWebVisitsMonth** - number of visits to company’s web site in the last month\n",
    "- **Recency** - number of days since the last purchase"
   ]
  },
  {
   "cell_type": "markdown",
   "metadata": {
    "id": "q0GdSJ7Bh2HA"
   },
   "source": [
    "[Link to the original dataset](https://github.com/ifood/ifood-data-business-analyst-test)  \n",
    "[A complete solution](https://github.com/mgermy/project_model_cluster)  \n",
    "[A smaller one](https://github.com/nailson/ifood-data-business-analyst-test)  \n",
    "[Here you can find the discussion on kaggle](https://www.kaggle.com/datasets/jackdaoud/marketing-data?select=ifood_df.csv)"
   ]
  },
  {
   "cell_type": "markdown",
   "metadata": {
    "id": "rd_TXr0rh2HB"
   },
   "source": [
    "We can notice that we can build a monetary feature summing all the features related to monetary, and we can also built a frequency feature summing all the purchases features and then dividing by the dt_customer.  \n",
    "Maybe can make sense after this engineering is done to make some percentage features, like the percentage spent in one category compared to the total and also the pecentage of purchases done compared to the total."
   ]
  },
  {
   "cell_type": "markdown",
   "metadata": {
    "id": "fzTlwqXRh2HC"
   },
   "source": [
    "## Work description\n",
    "\n",
    "### Overview\n",
    "<p>You should organize into groups of 3 to 5 students, where you will assume the role of a consultant. You are asked to develop a prediction model in such a way that it will be possible for the Marketing Department of a retail company to predict which customers are likely to respond to a marketing campaing based on information from a previous campaign.</p>\n",
    "<p>A response model can provide a significant boost to the efficiency of a marketing campaign by increasing responses or reducing expenses.</p>\n",
    "\n",
    "### Questions or additional informations\n",
    "For any additional questions, don't hesitate to get in touch with the instructors. The instructors will also act as the company business/project stakeholder."
   ]
  },
  {
   "cell_type": "markdown",
   "metadata": {
    "id": "ybmVeuI4h2HD"
   },
   "source": [
    "## Initializations and data loading"
   ]
  },
  {
   "cell_type": "code",
   "execution_count": 1,
   "metadata": {
    "executionInfo": {
     "elapsed": 252,
     "status": "ok",
     "timestamp": 1682529515519,
     "user": {
      "displayName": "Antonina Filatova",
      "userId": "01515660527549186340"
     },
     "user_tz": -60
    },
    "id": "oQ3K2KfCh2HE"
   },
   "outputs": [],
   "source": [
    "# Installing the necessary packages:\n",
    "# Packages\n",
    "import numpy as np\n",
    "import pandas as pd\n",
    "import matplotlib.pyplot as plt\n",
    "import seaborn as sns #visualizations\n"
   ]
  },
  {
   "cell_type": "code",
   "execution_count": 36,
   "metadata": {
    "executionInfo": {
     "elapsed": 210,
     "status": "ok",
     "timestamp": 1682529517008,
     "user": {
      "displayName": "Antonina Filatova",
      "userId": "01515660527549186340"
     },
     "user_tz": -60
    },
    "id": "97nvXWa2h2HF"
   },
   "outputs": [],
   "source": [
    "# Modelling packages\n",
    "\n",
    "import collections\n",
    "from sklearn.preprocessing import MinMaxScaler\n",
    "from sklearn.model_selection import train_test_split\n",
    "from sklearn.neighbors import KNeighborsClassifier\n",
    "from sklearn import metrics\n",
    "from yellowbrick.classifier import ROCAUC\n",
    "from yellowbrick.classifier import PrecisionRecallCurve\n",
    "from sklearn.model_selection import GridSearchCV\n",
    "from yellowbrick.model_selection import LearningCurve"
   ]
  },
  {
   "cell_type": "code",
   "execution_count": 3,
   "metadata": {
    "executionInfo": {
     "elapsed": 6,
     "status": "ok",
     "timestamp": 1682529517009,
     "user": {
      "displayName": "Antonina Filatova",
      "userId": "01515660527549186340"
     },
     "user_tz": -60
    },
    "id": "KcIxidUMh2HG"
   },
   "outputs": [],
   "source": [
    "# Formating that will be applied in all of the notebook\n",
    "subPlots_Title_fontSize = 12\n",
    "subPlots_xAxis_fontSize = 15\n",
    "subPlots_yAxis_fontSize = 10\n",
    "subPlots_label_fontSize = 12\n",
    "heatmaps_text_fontSize = 12\n",
    "\n",
    "plots_Title_fontSize = 14\n",
    "plots_Title_textColour = 'black'\n",
    "\n",
    "plots_Legend_fontSize = 12\n",
    "plots_Legend_textColour = 'black'\n",
    "\n",
    "# increase the number of columns to display\n",
    "pd.set_option('display.max_columns', 500)"
   ]
  },
  {
   "cell_type": "code",
   "execution_count": 4,
   "metadata": {
    "colab": {
     "base_uri": "https://localhost:8080/",
     "height": 345
    },
    "executionInfo": {
     "elapsed": 464,
     "status": "error",
     "timestamp": 1682529517467,
     "user": {
      "displayName": "Antonina Filatova",
      "userId": "01515660527549186340"
     },
     "user_tz": -60
    },
    "id": "tuffutlXh2HH",
    "outputId": "33eb1ca5-2f3a-439c-d5b2-9c59f5844457"
   },
   "outputs": [
    {
     "data": {
      "text/html": [
       "<div>\n",
       "<style scoped>\n",
       "    .dataframe tbody tr th:only-of-type {\n",
       "        vertical-align: middle;\n",
       "    }\n",
       "\n",
       "    .dataframe tbody tr th {\n",
       "        vertical-align: top;\n",
       "    }\n",
       "\n",
       "    .dataframe thead th {\n",
       "        text-align: right;\n",
       "    }\n",
       "</style>\n",
       "<table border=\"1\" class=\"dataframe\">\n",
       "  <thead>\n",
       "    <tr style=\"text-align: right;\">\n",
       "      <th></th>\n",
       "      <th>count</th>\n",
       "      <th>mean</th>\n",
       "      <th>std</th>\n",
       "      <th>min</th>\n",
       "      <th>25%</th>\n",
       "      <th>50%</th>\n",
       "      <th>75%</th>\n",
       "      <th>max</th>\n",
       "    </tr>\n",
       "  </thead>\n",
       "  <tbody>\n",
       "    <tr>\n",
       "      <th>Income</th>\n",
       "      <td>1972.0</td>\n",
       "      <td>52139.991886</td>\n",
       "      <td>21470.778018</td>\n",
       "      <td>1730.0</td>\n",
       "      <td>35538.75</td>\n",
       "      <td>51741.5</td>\n",
       "      <td>68634.00</td>\n",
       "      <td>160803.0</td>\n",
       "    </tr>\n",
       "    <tr>\n",
       "      <th>Recency</th>\n",
       "      <td>1972.0</td>\n",
       "      <td>48.981744</td>\n",
       "      <td>28.947786</td>\n",
       "      <td>0.0</td>\n",
       "      <td>24.00</td>\n",
       "      <td>49.0</td>\n",
       "      <td>74.00</td>\n",
       "      <td>99.0</td>\n",
       "    </tr>\n",
       "    <tr>\n",
       "      <th>MntWines</th>\n",
       "      <td>1972.0</td>\n",
       "      <td>307.808824</td>\n",
       "      <td>338.723751</td>\n",
       "      <td>0.0</td>\n",
       "      <td>24.00</td>\n",
       "      <td>179.0</td>\n",
       "      <td>508.00</td>\n",
       "      <td>1493.0</td>\n",
       "    </tr>\n",
       "    <tr>\n",
       "      <th>MntFruits</th>\n",
       "      <td>1972.0</td>\n",
       "      <td>26.581136</td>\n",
       "      <td>39.980373</td>\n",
       "      <td>0.0</td>\n",
       "      <td>2.00</td>\n",
       "      <td>8.0</td>\n",
       "      <td>33.00</td>\n",
       "      <td>199.0</td>\n",
       "    </tr>\n",
       "    <tr>\n",
       "      <th>MntMeatProducts</th>\n",
       "      <td>1972.0</td>\n",
       "      <td>169.477688</td>\n",
       "      <td>228.297686</td>\n",
       "      <td>0.0</td>\n",
       "      <td>16.00</td>\n",
       "      <td>68.5</td>\n",
       "      <td>232.00</td>\n",
       "      <td>1725.0</td>\n",
       "    </tr>\n",
       "    <tr>\n",
       "      <th>MntFishProducts</th>\n",
       "      <td>1972.0</td>\n",
       "      <td>37.769777</td>\n",
       "      <td>55.014197</td>\n",
       "      <td>0.0</td>\n",
       "      <td>3.00</td>\n",
       "      <td>12.0</td>\n",
       "      <td>50.00</td>\n",
       "      <td>259.0</td>\n",
       "    </tr>\n",
       "    <tr>\n",
       "      <th>MntSweetProducts</th>\n",
       "      <td>1972.0</td>\n",
       "      <td>27.366633</td>\n",
       "      <td>41.572661</td>\n",
       "      <td>0.0</td>\n",
       "      <td>1.00</td>\n",
       "      <td>8.0</td>\n",
       "      <td>34.00</td>\n",
       "      <td>262.0</td>\n",
       "    </tr>\n",
       "    <tr>\n",
       "      <th>MntGoldProds</th>\n",
       "      <td>1972.0</td>\n",
       "      <td>44.034990</td>\n",
       "      <td>51.649919</td>\n",
       "      <td>0.0</td>\n",
       "      <td>9.00</td>\n",
       "      <td>25.0</td>\n",
       "      <td>57.00</td>\n",
       "      <td>321.0</td>\n",
       "    </tr>\n",
       "    <tr>\n",
       "      <th>NumDealsPurchases</th>\n",
       "      <td>1972.0</td>\n",
       "      <td>2.334178</td>\n",
       "      <td>1.923021</td>\n",
       "      <td>0.0</td>\n",
       "      <td>1.00</td>\n",
       "      <td>2.0</td>\n",
       "      <td>3.00</td>\n",
       "      <td>15.0</td>\n",
       "    </tr>\n",
       "    <tr>\n",
       "      <th>NumWebPurchases</th>\n",
       "      <td>1972.0</td>\n",
       "      <td>4.121704</td>\n",
       "      <td>2.757103</td>\n",
       "      <td>0.0</td>\n",
       "      <td>2.00</td>\n",
       "      <td>4.0</td>\n",
       "      <td>6.00</td>\n",
       "      <td>27.0</td>\n",
       "    </tr>\n",
       "    <tr>\n",
       "      <th>NumCatalogPurchases</th>\n",
       "      <td>1972.0</td>\n",
       "      <td>2.689148</td>\n",
       "      <td>2.944304</td>\n",
       "      <td>0.0</td>\n",
       "      <td>0.00</td>\n",
       "      <td>2.0</td>\n",
       "      <td>4.00</td>\n",
       "      <td>28.0</td>\n",
       "    </tr>\n",
       "    <tr>\n",
       "      <th>NumStorePurchases</th>\n",
       "      <td>1972.0</td>\n",
       "      <td>5.814402</td>\n",
       "      <td>3.242137</td>\n",
       "      <td>0.0</td>\n",
       "      <td>3.00</td>\n",
       "      <td>5.0</td>\n",
       "      <td>8.00</td>\n",
       "      <td>13.0</td>\n",
       "    </tr>\n",
       "    <tr>\n",
       "      <th>NumWebVisitsMonth</th>\n",
       "      <td>1972.0</td>\n",
       "      <td>5.312880</td>\n",
       "      <td>2.412965</td>\n",
       "      <td>0.0</td>\n",
       "      <td>3.00</td>\n",
       "      <td>6.0</td>\n",
       "      <td>7.00</td>\n",
       "      <td>20.0</td>\n",
       "    </tr>\n",
       "    <tr>\n",
       "      <th>AcceptedCmp3</th>\n",
       "      <td>1972.0</td>\n",
       "      <td>0.076065</td>\n",
       "      <td>0.265169</td>\n",
       "      <td>0.0</td>\n",
       "      <td>0.00</td>\n",
       "      <td>0.0</td>\n",
       "      <td>0.00</td>\n",
       "      <td>1.0</td>\n",
       "    </tr>\n",
       "    <tr>\n",
       "      <th>AcceptedCmp4</th>\n",
       "      <td>1972.0</td>\n",
       "      <td>0.077079</td>\n",
       "      <td>0.266785</td>\n",
       "      <td>0.0</td>\n",
       "      <td>0.00</td>\n",
       "      <td>0.0</td>\n",
       "      <td>0.00</td>\n",
       "      <td>1.0</td>\n",
       "    </tr>\n",
       "    <tr>\n",
       "      <th>AcceptedCmp5</th>\n",
       "      <td>1972.0</td>\n",
       "      <td>0.071501</td>\n",
       "      <td>0.257725</td>\n",
       "      <td>0.0</td>\n",
       "      <td>0.00</td>\n",
       "      <td>0.0</td>\n",
       "      <td>0.00</td>\n",
       "      <td>1.0</td>\n",
       "    </tr>\n",
       "    <tr>\n",
       "      <th>AcceptedCmp1</th>\n",
       "      <td>1972.0</td>\n",
       "      <td>0.066430</td>\n",
       "      <td>0.249095</td>\n",
       "      <td>0.0</td>\n",
       "      <td>0.00</td>\n",
       "      <td>0.0</td>\n",
       "      <td>0.00</td>\n",
       "      <td>1.0</td>\n",
       "    </tr>\n",
       "    <tr>\n",
       "      <th>AcceptedCmp2</th>\n",
       "      <td>1972.0</td>\n",
       "      <td>0.013185</td>\n",
       "      <td>0.114094</td>\n",
       "      <td>0.0</td>\n",
       "      <td>0.00</td>\n",
       "      <td>0.0</td>\n",
       "      <td>0.00</td>\n",
       "      <td>1.0</td>\n",
       "    </tr>\n",
       "    <tr>\n",
       "      <th>Complain</th>\n",
       "      <td>1972.0</td>\n",
       "      <td>0.009635</td>\n",
       "      <td>0.097708</td>\n",
       "      <td>0.0</td>\n",
       "      <td>0.00</td>\n",
       "      <td>0.0</td>\n",
       "      <td>0.00</td>\n",
       "      <td>1.0</td>\n",
       "    </tr>\n",
       "    <tr>\n",
       "      <th>Response</th>\n",
       "      <td>1972.0</td>\n",
       "      <td>0.152130</td>\n",
       "      <td>0.359238</td>\n",
       "      <td>0.0</td>\n",
       "      <td>0.00</td>\n",
       "      <td>0.0</td>\n",
       "      <td>0.00</td>\n",
       "      <td>1.0</td>\n",
       "    </tr>\n",
       "    <tr>\n",
       "      <th>Age</th>\n",
       "      <td>1972.0</td>\n",
       "      <td>45.080122</td>\n",
       "      <td>11.634928</td>\n",
       "      <td>18.0</td>\n",
       "      <td>37.00</td>\n",
       "      <td>44.0</td>\n",
       "      <td>55.00</td>\n",
       "      <td>74.0</td>\n",
       "    </tr>\n",
       "    <tr>\n",
       "      <th>Customer_Lifetime</th>\n",
       "      <td>1972.0</td>\n",
       "      <td>351.850406</td>\n",
       "      <td>202.174848</td>\n",
       "      <td>0.0</td>\n",
       "      <td>178.00</td>\n",
       "      <td>351.5</td>\n",
       "      <td>528.00</td>\n",
       "      <td>699.0</td>\n",
       "    </tr>\n",
       "    <tr>\n",
       "      <th>TotalMnt</th>\n",
       "      <td>1972.0</td>\n",
       "      <td>613.039047</td>\n",
       "      <td>605.427355</td>\n",
       "      <td>5.0</td>\n",
       "      <td>69.00</td>\n",
       "      <td>401.0</td>\n",
       "      <td>1054.75</td>\n",
       "      <td>2525.0</td>\n",
       "    </tr>\n",
       "    <tr>\n",
       "      <th>Education_2n Cycle</th>\n",
       "      <td>1972.0</td>\n",
       "      <td>0.090264</td>\n",
       "      <td>0.286632</td>\n",
       "      <td>0.0</td>\n",
       "      <td>0.00</td>\n",
       "      <td>0.0</td>\n",
       "      <td>0.00</td>\n",
       "      <td>1.0</td>\n",
       "    </tr>\n",
       "    <tr>\n",
       "      <th>Education_Basic</th>\n",
       "      <td>1972.0</td>\n",
       "      <td>0.024341</td>\n",
       "      <td>0.154144</td>\n",
       "      <td>0.0</td>\n",
       "      <td>0.00</td>\n",
       "      <td>0.0</td>\n",
       "      <td>0.00</td>\n",
       "      <td>1.0</td>\n",
       "    </tr>\n",
       "    <tr>\n",
       "      <th>Education_Graduation</th>\n",
       "      <td>1972.0</td>\n",
       "      <td>0.503043</td>\n",
       "      <td>0.500118</td>\n",
       "      <td>0.0</td>\n",
       "      <td>0.00</td>\n",
       "      <td>1.0</td>\n",
       "      <td>1.00</td>\n",
       "      <td>1.0</td>\n",
       "    </tr>\n",
       "    <tr>\n",
       "      <th>Education_Master</th>\n",
       "      <td>1972.0</td>\n",
       "      <td>0.164807</td>\n",
       "      <td>0.371101</td>\n",
       "      <td>0.0</td>\n",
       "      <td>0.00</td>\n",
       "      <td>0.0</td>\n",
       "      <td>0.00</td>\n",
       "      <td>1.0</td>\n",
       "    </tr>\n",
       "    <tr>\n",
       "      <th>Education_PhD</th>\n",
       "      <td>1972.0</td>\n",
       "      <td>0.217546</td>\n",
       "      <td>0.412681</td>\n",
       "      <td>0.0</td>\n",
       "      <td>0.00</td>\n",
       "      <td>0.0</td>\n",
       "      <td>0.00</td>\n",
       "      <td>1.0</td>\n",
       "    </tr>\n",
       "    <tr>\n",
       "      <th>Marital_Status_Divorced</th>\n",
       "      <td>1972.0</td>\n",
       "      <td>0.106491</td>\n",
       "      <td>0.308543</td>\n",
       "      <td>0.0</td>\n",
       "      <td>0.00</td>\n",
       "      <td>0.0</td>\n",
       "      <td>0.00</td>\n",
       "      <td>1.0</td>\n",
       "    </tr>\n",
       "    <tr>\n",
       "      <th>Marital_Status_Married</th>\n",
       "      <td>1972.0</td>\n",
       "      <td>0.389452</td>\n",
       "      <td>0.487750</td>\n",
       "      <td>0.0</td>\n",
       "      <td>0.00</td>\n",
       "      <td>0.0</td>\n",
       "      <td>1.00</td>\n",
       "      <td>1.0</td>\n",
       "    </tr>\n",
       "    <tr>\n",
       "      <th>Marital_Status_Single</th>\n",
       "      <td>1972.0</td>\n",
       "      <td>0.215517</td>\n",
       "      <td>0.411285</td>\n",
       "      <td>0.0</td>\n",
       "      <td>0.00</td>\n",
       "      <td>0.0</td>\n",
       "      <td>0.00</td>\n",
       "      <td>1.0</td>\n",
       "    </tr>\n",
       "    <tr>\n",
       "      <th>Marital_Status_Together</th>\n",
       "      <td>1972.0</td>\n",
       "      <td>0.254564</td>\n",
       "      <td>0.435726</td>\n",
       "      <td>0.0</td>\n",
       "      <td>0.00</td>\n",
       "      <td>0.0</td>\n",
       "      <td>1.00</td>\n",
       "      <td>1.0</td>\n",
       "    </tr>\n",
       "    <tr>\n",
       "      <th>Marital_Status_Widow</th>\n",
       "      <td>1972.0</td>\n",
       "      <td>0.033976</td>\n",
       "      <td>0.181212</td>\n",
       "      <td>0.0</td>\n",
       "      <td>0.00</td>\n",
       "      <td>0.0</td>\n",
       "      <td>0.00</td>\n",
       "      <td>1.0</td>\n",
       "    </tr>\n",
       "    <tr>\n",
       "      <th>Marital_Status_YOLO</th>\n",
       "      <td>1972.0</td>\n",
       "      <td>0.000000</td>\n",
       "      <td>0.000000</td>\n",
       "      <td>0.0</td>\n",
       "      <td>0.00</td>\n",
       "      <td>0.0</td>\n",
       "      <td>0.00</td>\n",
       "      <td>0.0</td>\n",
       "    </tr>\n",
       "    <tr>\n",
       "      <th>Kidhome_0</th>\n",
       "      <td>1972.0</td>\n",
       "      <td>0.577586</td>\n",
       "      <td>0.494069</td>\n",
       "      <td>0.0</td>\n",
       "      <td>0.00</td>\n",
       "      <td>1.0</td>\n",
       "      <td>1.00</td>\n",
       "      <td>1.0</td>\n",
       "    </tr>\n",
       "    <tr>\n",
       "      <th>Kidhome_1</th>\n",
       "      <td>1972.0</td>\n",
       "      <td>0.422414</td>\n",
       "      <td>0.494069</td>\n",
       "      <td>0.0</td>\n",
       "      <td>0.00</td>\n",
       "      <td>0.0</td>\n",
       "      <td>1.00</td>\n",
       "      <td>1.0</td>\n",
       "    </tr>\n",
       "    <tr>\n",
       "      <th>Teenhome_0</th>\n",
       "      <td>1972.0</td>\n",
       "      <td>0.516734</td>\n",
       "      <td>0.499847</td>\n",
       "      <td>0.0</td>\n",
       "      <td>0.00</td>\n",
       "      <td>1.0</td>\n",
       "      <td>1.00</td>\n",
       "      <td>1.0</td>\n",
       "    </tr>\n",
       "    <tr>\n",
       "      <th>Teenhome_1</th>\n",
       "      <td>1972.0</td>\n",
       "      <td>0.483266</td>\n",
       "      <td>0.499847</td>\n",
       "      <td>0.0</td>\n",
       "      <td>0.00</td>\n",
       "      <td>0.0</td>\n",
       "      <td>1.00</td>\n",
       "      <td>1.0</td>\n",
       "    </tr>\n",
       "  </tbody>\n",
       "</table>\n",
       "</div>"
      ],
      "text/plain": [
       "                          count          mean           std     min       25%  \\\n",
       "Income                   1972.0  52139.991886  21470.778018  1730.0  35538.75   \n",
       "Recency                  1972.0     48.981744     28.947786     0.0     24.00   \n",
       "MntWines                 1972.0    307.808824    338.723751     0.0     24.00   \n",
       "MntFruits                1972.0     26.581136     39.980373     0.0      2.00   \n",
       "MntMeatProducts          1972.0    169.477688    228.297686     0.0     16.00   \n",
       "MntFishProducts          1972.0     37.769777     55.014197     0.0      3.00   \n",
       "MntSweetProducts         1972.0     27.366633     41.572661     0.0      1.00   \n",
       "MntGoldProds             1972.0     44.034990     51.649919     0.0      9.00   \n",
       "NumDealsPurchases        1972.0      2.334178      1.923021     0.0      1.00   \n",
       "NumWebPurchases          1972.0      4.121704      2.757103     0.0      2.00   \n",
       "NumCatalogPurchases      1972.0      2.689148      2.944304     0.0      0.00   \n",
       "NumStorePurchases        1972.0      5.814402      3.242137     0.0      3.00   \n",
       "NumWebVisitsMonth        1972.0      5.312880      2.412965     0.0      3.00   \n",
       "AcceptedCmp3             1972.0      0.076065      0.265169     0.0      0.00   \n",
       "AcceptedCmp4             1972.0      0.077079      0.266785     0.0      0.00   \n",
       "AcceptedCmp5             1972.0      0.071501      0.257725     0.0      0.00   \n",
       "AcceptedCmp1             1972.0      0.066430      0.249095     0.0      0.00   \n",
       "AcceptedCmp2             1972.0      0.013185      0.114094     0.0      0.00   \n",
       "Complain                 1972.0      0.009635      0.097708     0.0      0.00   \n",
       "Response                 1972.0      0.152130      0.359238     0.0      0.00   \n",
       "Age                      1972.0     45.080122     11.634928    18.0     37.00   \n",
       "Customer_Lifetime        1972.0    351.850406    202.174848     0.0    178.00   \n",
       "TotalMnt                 1972.0    613.039047    605.427355     5.0     69.00   \n",
       "Education_2n Cycle       1972.0      0.090264      0.286632     0.0      0.00   \n",
       "Education_Basic          1972.0      0.024341      0.154144     0.0      0.00   \n",
       "Education_Graduation     1972.0      0.503043      0.500118     0.0      0.00   \n",
       "Education_Master         1972.0      0.164807      0.371101     0.0      0.00   \n",
       "Education_PhD            1972.0      0.217546      0.412681     0.0      0.00   \n",
       "Marital_Status_Divorced  1972.0      0.106491      0.308543     0.0      0.00   \n",
       "Marital_Status_Married   1972.0      0.389452      0.487750     0.0      0.00   \n",
       "Marital_Status_Single    1972.0      0.215517      0.411285     0.0      0.00   \n",
       "Marital_Status_Together  1972.0      0.254564      0.435726     0.0      0.00   \n",
       "Marital_Status_Widow     1972.0      0.033976      0.181212     0.0      0.00   \n",
       "Marital_Status_YOLO      1972.0      0.000000      0.000000     0.0      0.00   \n",
       "Kidhome_0                1972.0      0.577586      0.494069     0.0      0.00   \n",
       "Kidhome_1                1972.0      0.422414      0.494069     0.0      0.00   \n",
       "Teenhome_0               1972.0      0.516734      0.499847     0.0      0.00   \n",
       "Teenhome_1               1972.0      0.483266      0.499847     0.0      0.00   \n",
       "\n",
       "                             50%       75%       max  \n",
       "Income                   51741.5  68634.00  160803.0  \n",
       "Recency                     49.0     74.00      99.0  \n",
       "MntWines                   179.0    508.00    1493.0  \n",
       "MntFruits                    8.0     33.00     199.0  \n",
       "MntMeatProducts             68.5    232.00    1725.0  \n",
       "MntFishProducts             12.0     50.00     259.0  \n",
       "MntSweetProducts             8.0     34.00     262.0  \n",
       "MntGoldProds                25.0     57.00     321.0  \n",
       "NumDealsPurchases            2.0      3.00      15.0  \n",
       "NumWebPurchases              4.0      6.00      27.0  \n",
       "NumCatalogPurchases          2.0      4.00      28.0  \n",
       "NumStorePurchases            5.0      8.00      13.0  \n",
       "NumWebVisitsMonth            6.0      7.00      20.0  \n",
       "AcceptedCmp3                 0.0      0.00       1.0  \n",
       "AcceptedCmp4                 0.0      0.00       1.0  \n",
       "AcceptedCmp5                 0.0      0.00       1.0  \n",
       "AcceptedCmp1                 0.0      0.00       1.0  \n",
       "AcceptedCmp2                 0.0      0.00       1.0  \n",
       "Complain                     0.0      0.00       1.0  \n",
       "Response                     0.0      0.00       1.0  \n",
       "Age                         44.0     55.00      74.0  \n",
       "Customer_Lifetime          351.5    528.00     699.0  \n",
       "TotalMnt                   401.0   1054.75    2525.0  \n",
       "Education_2n Cycle           0.0      0.00       1.0  \n",
       "Education_Basic              0.0      0.00       1.0  \n",
       "Education_Graduation         1.0      1.00       1.0  \n",
       "Education_Master             0.0      0.00       1.0  \n",
       "Education_PhD                0.0      0.00       1.0  \n",
       "Marital_Status_Divorced      0.0      0.00       1.0  \n",
       "Marital_Status_Married       0.0      1.00       1.0  \n",
       "Marital_Status_Single        0.0      0.00       1.0  \n",
       "Marital_Status_Together      0.0      1.00       1.0  \n",
       "Marital_Status_Widow         0.0      0.00       1.0  \n",
       "Marital_Status_YOLO          0.0      0.00       0.0  \n",
       "Kidhome_0                    1.0      1.00       1.0  \n",
       "Kidhome_1                    0.0      1.00       1.0  \n",
       "Teenhome_0                   1.0      1.00       1.0  \n",
       "Teenhome_1                   0.0      1.00       1.0  "
      ]
     },
     "execution_count": 4,
     "metadata": {},
     "output_type": "execute_result"
    }
   ],
   "source": [
    "# Loading the dataset: \n",
    "ds = pd.read_parquet('oneHotEncoded.parquet_campaign.snappy')\n",
    "ds.describe().T"
   ]
  },
  {
   "cell_type": "markdown",
   "metadata": {
    "id": "rM1Tr3oUh2HI"
   },
   "source": [
    "## KNN modeling"
   ]
  },
  {
   "cell_type": "markdown",
   "metadata": {
    "id": "EF1r5cnqh2HI"
   },
   "source": [
    "#### Data preparation"
   ]
  },
  {
   "cell_type": "code",
   "execution_count": 5,
   "metadata": {
    "executionInfo": {
     "elapsed": 13,
     "status": "aborted",
     "timestamp": 1682529517468,
     "user": {
      "displayName": "Antonina Filatova",
      "userId": "01515660527549186340"
     },
     "user_tz": -60
    },
    "id": "h4F3vQd2h2HJ"
   },
   "outputs": [],
   "source": [
    "# Create a modeling dataset from the original dataset\n",
    "X = ds.copy(deep=True)"
   ]
  },
  {
   "cell_type": "code",
   "execution_count": 6,
   "metadata": {
    "executionInfo": {
     "elapsed": 13,
     "status": "aborted",
     "timestamp": 1682529517469,
     "user": {
      "displayName": "Antonina Filatova",
      "userId": "01515660527549186340"
     },
     "user_tz": -60
    },
    "id": "4g4UyfnIh2HJ"
   },
   "outputs": [
    {
     "data": {
      "text/html": [
       "<div>\n",
       "<style scoped>\n",
       "    .dataframe tbody tr th:only-of-type {\n",
       "        vertical-align: middle;\n",
       "    }\n",
       "\n",
       "    .dataframe tbody tr th {\n",
       "        vertical-align: top;\n",
       "    }\n",
       "\n",
       "    .dataframe thead th {\n",
       "        text-align: right;\n",
       "    }\n",
       "</style>\n",
       "<table border=\"1\" class=\"dataframe\">\n",
       "  <thead>\n",
       "    <tr style=\"text-align: right;\">\n",
       "      <th></th>\n",
       "      <th>Income</th>\n",
       "      <th>Recency</th>\n",
       "      <th>MntWines</th>\n",
       "      <th>MntFruits</th>\n",
       "      <th>MntMeatProducts</th>\n",
       "      <th>MntFishProducts</th>\n",
       "      <th>MntSweetProducts</th>\n",
       "      <th>MntGoldProds</th>\n",
       "      <th>NumDealsPurchases</th>\n",
       "      <th>NumWebPurchases</th>\n",
       "      <th>NumCatalogPurchases</th>\n",
       "      <th>NumStorePurchases</th>\n",
       "      <th>NumWebVisitsMonth</th>\n",
       "      <th>AcceptedCmp3</th>\n",
       "      <th>AcceptedCmp4</th>\n",
       "      <th>AcceptedCmp5</th>\n",
       "      <th>AcceptedCmp1</th>\n",
       "      <th>AcceptedCmp2</th>\n",
       "      <th>Complain</th>\n",
       "      <th>Response</th>\n",
       "      <th>Age</th>\n",
       "      <th>Customer_Lifetime</th>\n",
       "      <th>TotalMnt</th>\n",
       "      <th>Education_2n Cycle</th>\n",
       "      <th>Education_Basic</th>\n",
       "      <th>Education_Graduation</th>\n",
       "      <th>Education_Master</th>\n",
       "      <th>Education_PhD</th>\n",
       "      <th>Marital_Status_Divorced</th>\n",
       "      <th>Marital_Status_Married</th>\n",
       "      <th>Marital_Status_Single</th>\n",
       "      <th>Marital_Status_Together</th>\n",
       "      <th>Marital_Status_Widow</th>\n",
       "      <th>Marital_Status_YOLO</th>\n",
       "      <th>Kidhome_0</th>\n",
       "      <th>Kidhome_1</th>\n",
       "      <th>Teenhome_0</th>\n",
       "      <th>Teenhome_1</th>\n",
       "    </tr>\n",
       "    <tr>\n",
       "      <th>index</th>\n",
       "      <th></th>\n",
       "      <th></th>\n",
       "      <th></th>\n",
       "      <th></th>\n",
       "      <th></th>\n",
       "      <th></th>\n",
       "      <th></th>\n",
       "      <th></th>\n",
       "      <th></th>\n",
       "      <th></th>\n",
       "      <th></th>\n",
       "      <th></th>\n",
       "      <th></th>\n",
       "      <th></th>\n",
       "      <th></th>\n",
       "      <th></th>\n",
       "      <th></th>\n",
       "      <th></th>\n",
       "      <th></th>\n",
       "      <th></th>\n",
       "      <th></th>\n",
       "      <th></th>\n",
       "      <th></th>\n",
       "      <th></th>\n",
       "      <th></th>\n",
       "      <th></th>\n",
       "      <th></th>\n",
       "      <th></th>\n",
       "      <th></th>\n",
       "      <th></th>\n",
       "      <th></th>\n",
       "      <th></th>\n",
       "      <th></th>\n",
       "      <th></th>\n",
       "      <th></th>\n",
       "      <th></th>\n",
       "      <th></th>\n",
       "      <th></th>\n",
       "    </tr>\n",
       "  </thead>\n",
       "  <tbody>\n",
       "    <tr>\n",
       "      <th>0</th>\n",
       "      <td>58138</td>\n",
       "      <td>58</td>\n",
       "      <td>635</td>\n",
       "      <td>88</td>\n",
       "      <td>546</td>\n",
       "      <td>172</td>\n",
       "      <td>88</td>\n",
       "      <td>88</td>\n",
       "      <td>3</td>\n",
       "      <td>8</td>\n",
       "      <td>10</td>\n",
       "      <td>4</td>\n",
       "      <td>7</td>\n",
       "      <td>0</td>\n",
       "      <td>0</td>\n",
       "      <td>0</td>\n",
       "      <td>0</td>\n",
       "      <td>0</td>\n",
       "      <td>0</td>\n",
       "      <td>1</td>\n",
       "      <td>57</td>\n",
       "      <td>663.0</td>\n",
       "      <td>1617</td>\n",
       "      <td>0</td>\n",
       "      <td>0</td>\n",
       "      <td>1</td>\n",
       "      <td>0</td>\n",
       "      <td>0</td>\n",
       "      <td>0</td>\n",
       "      <td>0</td>\n",
       "      <td>1</td>\n",
       "      <td>0</td>\n",
       "      <td>0</td>\n",
       "      <td>0</td>\n",
       "      <td>1</td>\n",
       "      <td>0</td>\n",
       "      <td>1</td>\n",
       "      <td>0</td>\n",
       "    </tr>\n",
       "    <tr>\n",
       "      <th>1</th>\n",
       "      <td>46344</td>\n",
       "      <td>38</td>\n",
       "      <td>11</td>\n",
       "      <td>1</td>\n",
       "      <td>6</td>\n",
       "      <td>2</td>\n",
       "      <td>1</td>\n",
       "      <td>6</td>\n",
       "      <td>2</td>\n",
       "      <td>1</td>\n",
       "      <td>1</td>\n",
       "      <td>2</td>\n",
       "      <td>5</td>\n",
       "      <td>0</td>\n",
       "      <td>0</td>\n",
       "      <td>0</td>\n",
       "      <td>0</td>\n",
       "      <td>0</td>\n",
       "      <td>0</td>\n",
       "      <td>0</td>\n",
       "      <td>60</td>\n",
       "      <td>113.0</td>\n",
       "      <td>27</td>\n",
       "      <td>0</td>\n",
       "      <td>0</td>\n",
       "      <td>1</td>\n",
       "      <td>0</td>\n",
       "      <td>0</td>\n",
       "      <td>0</td>\n",
       "      <td>0</td>\n",
       "      <td>1</td>\n",
       "      <td>0</td>\n",
       "      <td>0</td>\n",
       "      <td>0</td>\n",
       "      <td>0</td>\n",
       "      <td>1</td>\n",
       "      <td>0</td>\n",
       "      <td>1</td>\n",
       "    </tr>\n",
       "    <tr>\n",
       "      <th>2</th>\n",
       "      <td>71613</td>\n",
       "      <td>26</td>\n",
       "      <td>426</td>\n",
       "      <td>49</td>\n",
       "      <td>127</td>\n",
       "      <td>111</td>\n",
       "      <td>21</td>\n",
       "      <td>42</td>\n",
       "      <td>1</td>\n",
       "      <td>8</td>\n",
       "      <td>2</td>\n",
       "      <td>10</td>\n",
       "      <td>4</td>\n",
       "      <td>0</td>\n",
       "      <td>0</td>\n",
       "      <td>0</td>\n",
       "      <td>0</td>\n",
       "      <td>0</td>\n",
       "      <td>0</td>\n",
       "      <td>0</td>\n",
       "      <td>49</td>\n",
       "      <td>312.0</td>\n",
       "      <td>776</td>\n",
       "      <td>0</td>\n",
       "      <td>0</td>\n",
       "      <td>1</td>\n",
       "      <td>0</td>\n",
       "      <td>0</td>\n",
       "      <td>0</td>\n",
       "      <td>0</td>\n",
       "      <td>0</td>\n",
       "      <td>1</td>\n",
       "      <td>0</td>\n",
       "      <td>0</td>\n",
       "      <td>1</td>\n",
       "      <td>0</td>\n",
       "      <td>1</td>\n",
       "      <td>0</td>\n",
       "    </tr>\n",
       "    <tr>\n",
       "      <th>3</th>\n",
       "      <td>26646</td>\n",
       "      <td>26</td>\n",
       "      <td>11</td>\n",
       "      <td>4</td>\n",
       "      <td>20</td>\n",
       "      <td>10</td>\n",
       "      <td>3</td>\n",
       "      <td>5</td>\n",
       "      <td>2</td>\n",
       "      <td>2</td>\n",
       "      <td>0</td>\n",
       "      <td>4</td>\n",
       "      <td>6</td>\n",
       "      <td>0</td>\n",
       "      <td>0</td>\n",
       "      <td>0</td>\n",
       "      <td>0</td>\n",
       "      <td>0</td>\n",
       "      <td>0</td>\n",
       "      <td>0</td>\n",
       "      <td>30</td>\n",
       "      <td>139.0</td>\n",
       "      <td>53</td>\n",
       "      <td>0</td>\n",
       "      <td>0</td>\n",
       "      <td>1</td>\n",
       "      <td>0</td>\n",
       "      <td>0</td>\n",
       "      <td>0</td>\n",
       "      <td>0</td>\n",
       "      <td>0</td>\n",
       "      <td>1</td>\n",
       "      <td>0</td>\n",
       "      <td>0</td>\n",
       "      <td>0</td>\n",
       "      <td>1</td>\n",
       "      <td>1</td>\n",
       "      <td>0</td>\n",
       "    </tr>\n",
       "    <tr>\n",
       "      <th>4</th>\n",
       "      <td>58293</td>\n",
       "      <td>94</td>\n",
       "      <td>173</td>\n",
       "      <td>43</td>\n",
       "      <td>118</td>\n",
       "      <td>46</td>\n",
       "      <td>27</td>\n",
       "      <td>15</td>\n",
       "      <td>5</td>\n",
       "      <td>5</td>\n",
       "      <td>3</td>\n",
       "      <td>6</td>\n",
       "      <td>5</td>\n",
       "      <td>0</td>\n",
       "      <td>0</td>\n",
       "      <td>0</td>\n",
       "      <td>0</td>\n",
       "      <td>0</td>\n",
       "      <td>0</td>\n",
       "      <td>0</td>\n",
       "      <td>33</td>\n",
       "      <td>161.0</td>\n",
       "      <td>422</td>\n",
       "      <td>0</td>\n",
       "      <td>0</td>\n",
       "      <td>0</td>\n",
       "      <td>0</td>\n",
       "      <td>1</td>\n",
       "      <td>0</td>\n",
       "      <td>1</td>\n",
       "      <td>0</td>\n",
       "      <td>0</td>\n",
       "      <td>0</td>\n",
       "      <td>0</td>\n",
       "      <td>0</td>\n",
       "      <td>1</td>\n",
       "      <td>1</td>\n",
       "      <td>0</td>\n",
       "    </tr>\n",
       "  </tbody>\n",
       "</table>\n",
       "</div>"
      ],
      "text/plain": [
       "       Income  Recency  MntWines  MntFruits  MntMeatProducts  MntFishProducts  \\\n",
       "index                                                                           \n",
       "0       58138       58       635         88              546              172   \n",
       "1       46344       38        11          1                6                2   \n",
       "2       71613       26       426         49              127              111   \n",
       "3       26646       26        11          4               20               10   \n",
       "4       58293       94       173         43              118               46   \n",
       "\n",
       "       MntSweetProducts  MntGoldProds  NumDealsPurchases  NumWebPurchases  \\\n",
       "index                                                                       \n",
       "0                    88            88                  3                8   \n",
       "1                     1             6                  2                1   \n",
       "2                    21            42                  1                8   \n",
       "3                     3             5                  2                2   \n",
       "4                    27            15                  5                5   \n",
       "\n",
       "       NumCatalogPurchases  NumStorePurchases  NumWebVisitsMonth  \\\n",
       "index                                                              \n",
       "0                       10                  4                  7   \n",
       "1                        1                  2                  5   \n",
       "2                        2                 10                  4   \n",
       "3                        0                  4                  6   \n",
       "4                        3                  6                  5   \n",
       "\n",
       "       AcceptedCmp3  AcceptedCmp4  AcceptedCmp5  AcceptedCmp1  AcceptedCmp2  \\\n",
       "index                                                                         \n",
       "0                 0             0             0             0             0   \n",
       "1                 0             0             0             0             0   \n",
       "2                 0             0             0             0             0   \n",
       "3                 0             0             0             0             0   \n",
       "4                 0             0             0             0             0   \n",
       "\n",
       "       Complain  Response  Age  Customer_Lifetime  TotalMnt  \\\n",
       "index                                                         \n",
       "0             0         1   57              663.0      1617   \n",
       "1             0         0   60              113.0        27   \n",
       "2             0         0   49              312.0       776   \n",
       "3             0         0   30              139.0        53   \n",
       "4             0         0   33              161.0       422   \n",
       "\n",
       "       Education_2n Cycle  Education_Basic  Education_Graduation  \\\n",
       "index                                                              \n",
       "0                       0                0                     1   \n",
       "1                       0                0                     1   \n",
       "2                       0                0                     1   \n",
       "3                       0                0                     1   \n",
       "4                       0                0                     0   \n",
       "\n",
       "       Education_Master  Education_PhD  Marital_Status_Divorced  \\\n",
       "index                                                             \n",
       "0                     0              0                        0   \n",
       "1                     0              0                        0   \n",
       "2                     0              0                        0   \n",
       "3                     0              0                        0   \n",
       "4                     0              1                        0   \n",
       "\n",
       "       Marital_Status_Married  Marital_Status_Single  Marital_Status_Together  \\\n",
       "index                                                                           \n",
       "0                           0                      1                        0   \n",
       "1                           0                      1                        0   \n",
       "2                           0                      0                        1   \n",
       "3                           0                      0                        1   \n",
       "4                           1                      0                        0   \n",
       "\n",
       "       Marital_Status_Widow  Marital_Status_YOLO  Kidhome_0  Kidhome_1  \\\n",
       "index                                                                    \n",
       "0                         0                    0          1          0   \n",
       "1                         0                    0          0          1   \n",
       "2                         0                    0          1          0   \n",
       "3                         0                    0          0          1   \n",
       "4                         0                    0          0          1   \n",
       "\n",
       "       Teenhome_0  Teenhome_1  \n",
       "index                          \n",
       "0               1           0  \n",
       "1               0           1  \n",
       "2               1           0  \n",
       "3               1           0  \n",
       "4               1           0  "
      ]
     },
     "execution_count": 6,
     "metadata": {},
     "output_type": "execute_result"
    }
   ],
   "source": [
    "X.head()"
   ]
  },
  {
   "cell_type": "code",
   "execution_count": 7,
   "metadata": {
    "executionInfo": {
     "elapsed": 14,
     "status": "aborted",
     "timestamp": 1682529517470,
     "user": {
      "displayName": "Antonina Filatova",
      "userId": "01515660527549186340"
     },
     "user_tz": -60
    },
    "id": "d6HkW82vh2HK"
   },
   "outputs": [],
   "source": [
    "# Create the Target\n",
    "y = X['Response']"
   ]
  },
  {
   "cell_type": "code",
   "execution_count": 8,
   "metadata": {
    "executionInfo": {
     "elapsed": 16,
     "status": "aborted",
     "timestamp": 1682529517472,
     "user": {
      "displayName": "Antonina Filatova",
      "userId": "01515660527549186340"
     },
     "user_tz": -60
    },
    "id": "5AvP9Mhjh2HK"
   },
   "outputs": [],
   "source": [
    "# Split into train and test\n",
    "X_train, X_test, y_train, y_test = train_test_split(X, y, test_size=0.25, stratify=y, random_state=123)"
   ]
  },
  {
   "cell_type": "code",
   "execution_count": 9,
   "metadata": {
    "executionInfo": {
     "elapsed": 16,
     "status": "aborted",
     "timestamp": 1682529517473,
     "user": {
      "displayName": "Antonina Filatova",
      "userId": "01515660527549186340"
     },
     "user_tz": -60
    },
    "id": "SfwAW3KUh2HK"
   },
   "outputs": [],
   "source": [
    "# Remove the Target from the training\n",
    "X_train = X_train.drop(['Response'],axis=1)\n",
    "X_test = X_test.drop(['Response'],axis=1)"
   ]
  },
  {
   "cell_type": "code",
   "execution_count": 10,
   "metadata": {
    "executionInfo": {
     "elapsed": 17,
     "status": "aborted",
     "timestamp": 1682529517474,
     "user": {
      "displayName": "Antonina Filatova",
      "userId": "01515660527549186340"
     },
     "user_tz": -60
    },
    "id": "wmjzn7p4h2HL"
   },
   "outputs": [],
   "source": [
    "# Dataframe for scaling\n",
    "tempDF = X.copy(deep=True)\n",
    "tempDF.drop(columns='Response', inplace=True)\n",
    "\n",
    "# Normalize training/test data\n",
    "scaler = MinMaxScaler(feature_range=(0, 1))\n",
    "tempDF_scaled = scaler.fit_transform(tempDF)\n",
    "X_train_scaled = scaler.transform(X_train)\n",
    "X_test_scaled = scaler.transform(X_test)"
   ]
  },
  {
   "cell_type": "markdown",
   "metadata": {
    "id": "WLXoe7_7h2HL"
   },
   "source": [
    "### KNN"
   ]
  },
  {
   "cell_type": "code",
   "execution_count": 12,
   "metadata": {},
   "outputs": [
    {
     "name": "stdout",
     "output_type": "stream",
     "text": [
      "Fitting 5 folds for each of 50 candidates, totalling 250 fits\n"
     ]
    },
    {
     "data": {
      "text/plain": [
       "GridSearchCV(estimator=KNeighborsClassifier(), n_jobs=-1,\n",
       "             param_grid={'n_neighbors': [3, 5, 7, 9, 11, 13, 15, 17, 19, 21, 23,\n",
       "                                         25, 27, 29, 31, 33, 35, 37, 39, 41, 43,\n",
       "                                         45, 47, 49, 51, 53, 55, 57, 59, 61, ...]},\n",
       "             scoring='roc_auc', verbose=3)"
      ]
     },
     "execution_count": 12,
     "metadata": {},
     "output_type": "execute_result"
    }
   ],
   "source": [
    "param_grid_nb = {\n",
    "    'n_neighbors': list(range(3,102,2))\n",
    "}\n",
    "\n",
    "grid = GridSearchCV(estimator=KNeighborsClassifier(), param_grid=param_grid_nb, verbose=3, n_jobs=-1, scoring='roc_auc')\n",
    "\n",
    "grid.fit(X_train, y_train)"
   ]
  },
  {
   "cell_type": "code",
   "execution_count": 19,
   "metadata": {},
   "outputs": [
    {
     "name": "stdout",
     "output_type": "stream",
     "text": [
      "{'n_neighbors': 5}\n"
     ]
    }
   ],
   "source": [
    "print(grid.best_params_)"
   ]
  },
  {
   "cell_type": "code",
   "execution_count": 13,
   "metadata": {
    "executionInfo": {
     "elapsed": 2437,
     "status": "aborted",
     "timestamp": 1682529517475,
     "user": {
      "displayName": "Antonina Filatova",
      "userId": "01515660527549186340"
     },
     "user_tz": -60
    },
    "id": "jWYkGmvbh2HL",
    "scrolled": true
   },
   "outputs": [
    {
     "data": {
      "text/plain": [
       "KNeighborsClassifier()"
      ]
     },
     "execution_count": 13,
     "metadata": {},
     "output_type": "execute_result"
    }
   ],
   "source": [
    "# Create object and train the model\n",
    "classModel = KNeighborsClassifier(**grid.best_params_)\n",
    "classModel.fit(X_train_scaled, y_train) # train the model (not training in reality)"
   ]
  },
  {
   "cell_type": "code",
   "execution_count": 14,
   "metadata": {
    "executionInfo": {
     "elapsed": 2433,
     "status": "aborted",
     "timestamp": 1682529517476,
     "user": {
      "displayName": "Antonina Filatova",
      "userId": "01515660527549186340"
     },
     "user_tz": -60
    },
    "id": "ETdyE3Lnh2HM"
   },
   "outputs": [],
   "source": [
    "y_pred_train = classModel.predict(X_train_scaled) \n",
    "y_pred_test = classModel.predict(X_test_scaled) "
   ]
  },
  {
   "cell_type": "code",
   "execution_count": 15,
   "metadata": {
    "executionInfo": {
     "elapsed": 2429,
     "status": "aborted",
     "timestamp": 1682529517478,
     "user": {
      "displayName": "Antonina Filatova",
      "userId": "01515660527549186340"
     },
     "user_tz": -60
    },
    "id": "mvh9SHNyh2HM"
   },
   "outputs": [],
   "source": [
    "# Function to create dataframe with metrics\n",
    "def performanceMetricsDF(metricsObj, yTrain, yPredTrain, yTest, yPredTest):\n",
    "  measures_list = ['ACCURACY','PRECISION', 'RECALL','F1 SCORE','AUC']\n",
    "  train_results = [metricsObj.accuracy_score(yTrain, yPredTrain),\n",
    "                metricsObj.precision_score(yTrain, yPredTrain),\n",
    "                metricsObj.recall_score(yTrain, yPredTrain),\n",
    "                metricsObj.f1_score(yTrain, yPredTrain),\n",
    "                metricsObj.roc_auc_score(yTrain, yPredTrain)\n",
    "                ]\n",
    "  test_results = [metricsObj.accuracy_score(yTest, yPredTest),\n",
    "               metricsObj.precision_score(yTest, yPredTest),\n",
    "               metricsObj.recall_score(yTest, yPredTest),\n",
    "               metricsObj.f1_score(yTest, yPredTest),\n",
    "               metricsObj.roc_auc_score(yTest, yPredTest)\n",
    "               ]\n",
    "  resultsDF = pd.DataFrame({'Measure': measures_list, 'Train': train_results, 'Test':test_results})\n",
    "  return(resultsDF)"
   ]
  },
  {
   "cell_type": "code",
   "execution_count": 16,
   "metadata": {
    "executionInfo": {
     "elapsed": 2425,
     "status": "aborted",
     "timestamp": 1682529517479,
     "user": {
      "displayName": "Antonina Filatova",
      "userId": "01515660527549186340"
     },
     "user_tz": -60
    },
    "id": "QmdHkpFWh2HM"
   },
   "outputs": [],
   "source": [
    "# Function to plot confusion matrix - Adapted from https://github.com/DTrimarchi10/confusion_matrix/blob/master/cf_matrix.py\n",
    "def make_confusion_matrix(cf,\n",
    "                          group_names=None,\n",
    "                          categories='auto',\n",
    "                          count=True,\n",
    "                          percent=True,\n",
    "                          cbar=True,\n",
    "                          xyticks=True,\n",
    "                          xyplotlabels=True,\n",
    "                          sum_stats=True,\n",
    "                          figsize=None,\n",
    "                          cmap='Blues',\n",
    "                          title=None):\n",
    "    '''\n",
    "    This function will make a pretty plot of an sklearn Confusion Matrix cm using a Seaborn heatmap visualization.\n",
    "    Arguments\n",
    "    ---------\n",
    "    cf:            confusion matrix to be passed in\n",
    "    group_names:   List of strings that represent the labels row by row to be shown in each square.\n",
    "    categories:    List of strings containing the categories to be displayed on the x,y axis. Default is 'auto'\n",
    "    count:         If True, show the raw number in the confusion matrix. Default is True.\n",
    "    normalize:     If True, show the proportions for each category. Default is True.\n",
    "    cbar:          If True, show the color bar. The cbar values are based off the values in the confusion matrix.\n",
    "                   Default is True.\n",
    "    xyticks:       If True, show x and y ticks. Default is True.\n",
    "    xyplotlabels:  If True, show 'True Label' and 'Predicted Label' on the figure. Default is True.\n",
    "    sum_stats:     If True, display summary statistics below the figure. Default is True.\n",
    "    figsize:       Tuple representing the figure size. Default will be the matplotlib rcParams value.\n",
    "    cmap:          Colormap of the values displayed from matplotlib.pyplot.cm. Default is 'Blues'\n",
    "                   See http://matplotlib.org/examples/color/colormaps_reference.html\n",
    "                   \n",
    "    title:         Title for the heatmap. Default is None.\n",
    "    '''\n",
    "\n",
    "\n",
    "    # CODE TO GENERATE TEXT INSIDE EACH SQUARE\n",
    "    blanks = ['' for i in range(cf.size)]\n",
    "\n",
    "    if group_names and len(group_names)==cf.size:\n",
    "        group_labels = [\"{}\\n\".format(value) for value in group_names]\n",
    "    else:\n",
    "        group_labels = blanks\n",
    "\n",
    "    if count:\n",
    "        group_counts = [\"{0:0.0f}\\n\".format(value) for value in cf.flatten()]\n",
    "    else:\n",
    "        group_counts = blanks\n",
    "\n",
    "    if percent:\n",
    "        group_percentages = [\"{0:.2%}\".format(value) for value in cf.flatten()/np.sum(cf)]\n",
    "    else:\n",
    "        group_percentages = blanks\n",
    "\n",
    "    box_labels = [f\"{v1}{v2}{v3}\".strip() for v1, v2, v3 in zip(group_labels,group_counts,group_percentages)]\n",
    "    box_labels = np.asarray(box_labels).reshape(cf.shape[0],cf.shape[1])\n",
    "\n",
    "\n",
    "    # CODE TO GENERATE SUMMARY STATISTICS & TEXT FOR SUMMARY STATS\n",
    "    if sum_stats:\n",
    "        #Accuracy is sum of diagonal divided by total observations\n",
    "        accuracy  = np.trace(cf) / float(np.sum(cf))\n",
    "\n",
    "        #if it is a binary confusion matrix, show some more stats\n",
    "        if len(cf)==2:\n",
    "            #Metrics for Binary Confusion Matrices\n",
    "            precision = cf[1,1] / sum(cf[:,1])\n",
    "            recall    = cf[1,1] / sum(cf[1,:])\n",
    "            f1_score  = 2*precision*recall / (precision + recall)\n",
    "            stats_text = \"\\n\\nAccuracy={:0.3f}\\nPrecision={:0.3f}\\nRecall={:0.3f}\\nF1 Score={:0.3f}\".format(\n",
    "                accuracy,precision,recall,f1_score)\n",
    "        else:\n",
    "            stats_text = \"\\n\\nAccuracy={:0.3f}\".format(accuracy)\n",
    "    else:\n",
    "        stats_text = \"\"\n",
    "\n",
    "\n",
    "    # SET FIGURE PARAMETERS ACCORDING TO OTHER ARGUMENTS\n",
    "    if figsize==None:\n",
    "        #Get default figure size if not set\n",
    "        figsize = plt.rcParams.get('figure.figsize')\n",
    "\n",
    "    if xyticks==False:\n",
    "        #Do not show categories if xyticks is False\n",
    "        categories=False\n",
    "\n",
    "\n",
    "    # MAKE THE HEATMAP VISUALIZATION\n",
    "    plt.figure(figsize=figsize)\n",
    "    ax = sns.heatmap(cf,annot=box_labels, fmt=\"\",cmap=cmap,cbar=cbar,xticklabels=categories,yticklabels=categories)\n",
    "\n",
    "    if xyplotlabels:\n",
    "        plt.ylabel('True label')\n",
    "        plt.xlabel('Predicted label' + stats_text)\n",
    "    else:\n",
    "        plt.xlabel(stats_text)\n",
    "    \n",
    "    if title:\n",
    "        plt.title(title)"
   ]
  },
  {
   "cell_type": "code",
   "execution_count": 20,
   "metadata": {
    "executionInfo": {
     "elapsed": 2421,
     "status": "aborted",
     "timestamp": 1682529517480,
     "user": {
      "displayName": "Antonina Filatova",
      "userId": "01515660527549186340"
     },
     "user_tz": -60
    },
    "id": "MhBPFi6Rh2HN"
   },
   "outputs": [
    {
     "data": {
      "image/png": "[encoded data removed]",
      "text/plain": [
       "<Figure size 576x396 with 2 Axes>"
      ]
     },
     "metadata": {},
     "output_type": "display_data"
    }
   ],
   "source": [
    "# Show the confusion matrix\n",
    "cf = metrics.confusion_matrix(y_test,y_pred_test)\n",
    "labels = ['True Neg','False Pos','False Neg','True Pos']\n",
    "categories = ['0', '1']\n",
    "make_confusion_matrix(cf, \n",
    "                      group_names=labels,\n",
    "                      categories=categories, \n",
    "                      cmap='Blues')"
   ]
  },
  {
   "cell_type": "code",
   "execution_count": 21,
   "metadata": {
    "executionInfo": {
     "elapsed": 2416,
     "status": "aborted",
     "timestamp": 1682529517481,
     "user": {
      "displayName": "Antonina Filatova",
      "userId": "01515660527549186340"
     },
     "user_tz": -60
    },
    "id": "dlZga4peh2HO"
   },
   "outputs": [
    {
     "data": {
      "text/html": [
       "<div>\n",
       "<style scoped>\n",
       "    .dataframe tbody tr th:only-of-type {\n",
       "        vertical-align: middle;\n",
       "    }\n",
       "\n",
       "    .dataframe tbody tr th {\n",
       "        vertical-align: top;\n",
       "    }\n",
       "\n",
       "    .dataframe thead th {\n",
       "        text-align: right;\n",
       "    }\n",
       "</style>\n",
       "<table border=\"1\" class=\"dataframe\">\n",
       "  <thead>\n",
       "    <tr style=\"text-align: right;\">\n",
       "      <th></th>\n",
       "      <th>Measure</th>\n",
       "      <th>Train</th>\n",
       "      <th>Test</th>\n",
       "    </tr>\n",
       "  </thead>\n",
       "  <tbody>\n",
       "    <tr>\n",
       "      <th>0</th>\n",
       "      <td>ACCURACY</td>\n",
       "      <td>0.892495</td>\n",
       "      <td>0.847870</td>\n",
       "    </tr>\n",
       "    <tr>\n",
       "      <th>1</th>\n",
       "      <td>PRECISION</td>\n",
       "      <td>0.836735</td>\n",
       "      <td>0.500000</td>\n",
       "    </tr>\n",
       "    <tr>\n",
       "      <th>2</th>\n",
       "      <td>RECALL</td>\n",
       "      <td>0.364444</td>\n",
       "      <td>0.253333</td>\n",
       "    </tr>\n",
       "    <tr>\n",
       "      <th>3</th>\n",
       "      <td>F1 SCORE</td>\n",
       "      <td>0.507740</td>\n",
       "      <td>0.336283</td>\n",
       "    </tr>\n",
       "    <tr>\n",
       "      <th>4</th>\n",
       "      <td>AUC</td>\n",
       "      <td>0.675843</td>\n",
       "      <td>0.603939</td>\n",
       "    </tr>\n",
       "  </tbody>\n",
       "</table>\n",
       "</div>"
      ],
      "text/plain": [
       "     Measure     Train      Test\n",
       "0   ACCURACY  0.892495  0.847870\n",
       "1  PRECISION  0.836735  0.500000\n",
       "2     RECALL  0.364444  0.253333\n",
       "3   F1 SCORE  0.507740  0.336283\n",
       "4        AUC  0.675843  0.603939"
      ]
     },
     "execution_count": 21,
     "metadata": {},
     "output_type": "execute_result"
    }
   ],
   "source": [
    "# Show performance results\n",
    "resultsDF = performanceMetricsDF(metrics, y_train, y_pred_train, y_test, y_pred_test)\n",
    "resultsDF"
   ]
  },
  {
   "cell_type": "code",
   "execution_count": 22,
   "metadata": {
    "executionInfo": {
     "elapsed": 2412,
     "status": "aborted",
     "timestamp": 1682529517482,
     "user": {
      "displayName": "Antonina Filatova",
      "userId": "01515660527549186340"
     },
     "user_tz": -60
    },
    "id": "gg2iC_3sh2HO"
   },
   "outputs": [
    {
     "data": {
      "image/png": "[encoded data removed]",
      "text/plain": [
       "<Figure size 576x396 with 1 Axes>"
      ]
     },
     "metadata": {},
     "output_type": "display_data"
    },
    {
     "data": {
      "text/plain": [
       "<AxesSubplot:title={'center':'ROC Curves for KNeighborsClassifier'}, xlabel='False Positive Rate', ylabel='True Positive Rate'>"
      ]
     },
     "execution_count": 22,
     "metadata": {},
     "output_type": "execute_result"
    }
   ],
   "source": [
    "# ROC curve\n",
    "visualizer = ROCAUC(classModel, classes=['0','1'])\n",
    "visualizer.fit(X_train_scaled, y_train)\n",
    "visualizer.score(X_test_scaled, y_test)\n",
    "visualizer.show()"
   ]
  },
  {
   "cell_type": "code",
   "execution_count": 23,
   "metadata": {
    "executionInfo": {
     "elapsed": 2408,
     "status": "aborted",
     "timestamp": 1682529517483,
     "user": {
      "displayName": "Antonina Filatova",
      "userId": "01515660527549186340"
     },
     "user_tz": -60
    },
    "id": "WZs7ePcah2HO",
    "scrolled": false
   },
   "outputs": [
    {
     "data": {
      "image/png": "[encoded data removed]",
      "text/plain": [
       "<Figure size 576x396 with 1 Axes>"
      ]
     },
     "metadata": {},
     "output_type": "display_data"
    },
    {
     "data": {
      "text/plain": [
       "<AxesSubplot:title={'center':'Precision-Recall Curve for KNeighborsClassifier'}, xlabel='Recall', ylabel='Precision'>"
      ]
     },
     "execution_count": 23,
     "metadata": {},
     "output_type": "execute_result"
    }
   ],
   "source": [
    "# Precison-Recall curve\n",
    "visualizer = PrecisionRecallCurve(classModel, classes=['0','1'])\n",
    "visualizer.fit(X_train_scaled, y_train)\n",
    "visualizer.score(X_test_scaled, y_test)\n",
    "visualizer.show()"
   ]
  },
  {
   "cell_type": "code",
   "execution_count": 38,
   "metadata": {},
   "outputs": [
    {
     "data": {
      "image/png": "[encoded data removed]",
      "text/plain": [
       "<Figure size 576x396 with 1 Axes>"
      ]
     },
     "metadata": {},
     "output_type": "display_data"
    },
    {
     "data": {
      "text/plain": [
       "<AxesSubplot:title={'center':'Learning Curve for KNeighborsClassifier'}, xlabel='Training Instances', ylabel='Score'>"
      ]
     },
     "execution_count": 38,
     "metadata": {},
     "output_type": "execute_result"
    }
   ],
   "source": [
    "# Plot the learning curve\n",
    "cv = 10\n",
    "visualizer = LearningCurve(estimator=classModel, cv=cv, scoring='roc_auc', n_jobs=-1, random_state=123)\n",
    "visualizer.fit(X_train_scaled, y_train)\n",
    "visualizer.show()"
   ]
  },
  {
   "cell_type": "markdown",
   "metadata": {
    "id": "LmDP5F8oh2HP"
   },
   "source": [
    "### Balancing dataset\n",
    "#### Oversampling"
   ]
  },
  {
   "cell_type": "code",
   "execution_count": 24,
   "metadata": {
    "executionInfo": {
     "elapsed": 2400,
     "status": "aborted",
     "timestamp": 1682529517484,
     "user": {
      "displayName": "Antonina Filatova",
      "userId": "01515660527549186340"
     },
     "user_tz": -60
    },
    "id": "cFomSPyYh2HP"
   },
   "outputs": [
    {
     "name": "stdout",
     "output_type": "stream",
     "text": [
      "Counter({0: 1254, 1: 225})\n"
     ]
    },
    {
     "data": {
      "text/plain": [
       "<AxesSubplot:xlabel='y', ylabel='count'>"
      ]
     },
     "execution_count": 24,
     "metadata": {},
     "output_type": "execute_result"
    },
    {
     "data": {
      "image/png": "[encoded data removed]",
      "text/plain": [
       "<Figure size 432x288 with 1 Axes>"
      ]
     },
     "metadata": {},
     "output_type": "display_data"
    }
   ],
   "source": [
    "# Display target balance in the training dataset\n",
    "print(collections.Counter(y_train))\n",
    "fig, ax = plt.subplots(figsize=(6,4))\n",
    "sns.countplot(x=\"y\", data=pd.DataFrame(data={'y':y_train}), ax=ax)"
   ]
  },
  {
   "cell_type": "code",
   "execution_count": 46,
   "metadata": {
    "executionInfo": {
     "elapsed": 2396,
     "status": "aborted",
     "timestamp": 1682529517485,
     "user": {
      "displayName": "Antonina Filatova",
      "userId": "01515660527549186340"
     },
     "user_tz": -60
    },
    "id": "D_4j__mah2HP"
   },
   "outputs": [
    {
     "name": "stdout",
     "output_type": "stream",
     "text": [
      "Counter({0: 1254, 1: 627})\n"
     ]
    },
    {
     "data": {
      "text/plain": [
       "<AxesSubplot:xlabel='y', ylabel='count'>"
      ]
     },
     "execution_count": 46,
     "metadata": {},
     "output_type": "execute_result"
    },
    {
     "data": {
      "image/png": "[encoded data removed]",
      "text/plain": [
       "<Figure size 432x288 with 1 Axes>"
      ]
     },
     "metadata": {},
     "output_type": "display_data"
    }
   ],
   "source": [
    "# Import package\n",
    "from imblearn.over_sampling import SMOTE\n",
    "\n",
    "# Applyting SMOTE to generare new instances (oversampling)\n",
    "sm = SMOTE(random_state=123, sampling_strategy=0.5)\n",
    "X_train_scaled2, y_train2 = sm.fit_resample(X_train_scaled, y_train)\n",
    "\n",
    "# Display target balance in the training dataset\n",
    "print(collections.Counter(y_train2))\n",
    "fig, ax = plt.subplots(figsize=(6,4))\n",
    "sns.countplot(x=\"y\", data=pd.DataFrame(data={'y':y_train2}), ax=ax)"
   ]
  },
  {
   "cell_type": "code",
   "execution_count": 47,
   "metadata": {
    "executionInfo": {
     "elapsed": 6,
     "status": "aborted",
     "timestamp": 1682529517751,
     "user": {
      "displayName": "Antonina Filatova",
      "userId": "01515660527549186340"
     },
     "user_tz": -60
    },
    "id": "HymBuwtikXPV",
    "scrolled": true
   },
   "outputs": [
    {
     "data": {
      "text/plain": [
       "KNeighborsClassifier()"
      ]
     },
     "execution_count": 47,
     "metadata": {},
     "output_type": "execute_result"
    }
   ],
   "source": [
    "# Create object and train the model\n",
    "classModel = KNeighborsClassifier(**grid.best_params_)\n",
    "classModel.fit(X_train_scaled2, y_train2) # train the model (not training in reality)"
   ]
  },
  {
   "cell_type": "code",
   "execution_count": 48,
   "metadata": {
    "executionInfo": {
     "elapsed": 7,
     "status": "aborted",
     "timestamp": 1682529517752,
     "user": {
      "displayName": "Antonina Filatova",
      "userId": "01515660527549186340"
     },
     "user_tz": -60
    },
    "id": "m2DS6-uih2HQ"
   },
   "outputs": [],
   "source": [
    "y_pred_train = classModel.predict(X_train_scaled2) \n",
    "y_pred_test = classModel.predict(X_test_scaled) "
   ]
  },
  {
   "cell_type": "code",
   "execution_count": 49,
   "metadata": {
    "executionInfo": {
     "elapsed": 10,
     "status": "aborted",
     "timestamp": 1682529517756,
     "user": {
      "displayName": "Antonina Filatova",
      "userId": "01515660527549186340"
     },
     "user_tz": -60
    },
    "id": "q4u_ZAujh2HR"
   },
   "outputs": [
    {
     "data": {
      "image/png": "[encoded data removed]",
      "text/plain": [
       "<Figure size 576x396 with 2 Axes>"
      ]
     },
     "metadata": {},
     "output_type": "display_data"
    }
   ],
   "source": [
    "# Show the confusion matrix\n",
    "cf = metrics.confusion_matrix(y_test,y_pred_test)\n",
    "labels = ['True Neg','False Pos','False Neg','True Pos']\n",
    "categories = ['0', '1']\n",
    "make_confusion_matrix(cf, \n",
    "                      group_names=labels,\n",
    "                      categories=categories, \n",
    "                      cmap='Blues')\n"
   ]
  },
  {
   "cell_type": "code",
   "execution_count": 50,
   "metadata": {
    "executionInfo": {
     "elapsed": 11,
     "status": "aborted",
     "timestamp": 1682529517757,
     "user": {
      "displayName": "Antonina Filatova",
      "userId": "01515660527549186340"
     },
     "user_tz": -60
    },
    "id": "TcyHVtVGh2HR"
   },
   "outputs": [
    {
     "data": {
      "text/html": [
       "<div>\n",
       "<style scoped>\n",
       "    .dataframe tbody tr th:only-of-type {\n",
       "        vertical-align: middle;\n",
       "    }\n",
       "\n",
       "    .dataframe tbody tr th {\n",
       "        vertical-align: top;\n",
       "    }\n",
       "\n",
       "    .dataframe thead th {\n",
       "        text-align: right;\n",
       "    }\n",
       "</style>\n",
       "<table border=\"1\" class=\"dataframe\">\n",
       "  <thead>\n",
       "    <tr style=\"text-align: right;\">\n",
       "      <th></th>\n",
       "      <th>Measure</th>\n",
       "      <th>Train</th>\n",
       "      <th>Test</th>\n",
       "    </tr>\n",
       "  </thead>\n",
       "  <tbody>\n",
       "    <tr>\n",
       "      <th>0</th>\n",
       "      <td>ACCURACY</td>\n",
       "      <td>0.917597</td>\n",
       "      <td>0.805274</td>\n",
       "    </tr>\n",
       "    <tr>\n",
       "      <th>1</th>\n",
       "      <td>PRECISION</td>\n",
       "      <td>0.849112</td>\n",
       "      <td>0.387097</td>\n",
       "    </tr>\n",
       "    <tr>\n",
       "      <th>2</th>\n",
       "      <td>RECALL</td>\n",
       "      <td>0.915470</td>\n",
       "      <td>0.480000</td>\n",
       "    </tr>\n",
       "    <tr>\n",
       "      <th>3</th>\n",
       "      <td>F1 SCORE</td>\n",
       "      <td>0.881044</td>\n",
       "      <td>0.428571</td>\n",
       "    </tr>\n",
       "    <tr>\n",
       "      <th>4</th>\n",
       "      <td>AUC</td>\n",
       "      <td>0.917065</td>\n",
       "      <td>0.671818</td>\n",
       "    </tr>\n",
       "  </tbody>\n",
       "</table>\n",
       "</div>"
      ],
      "text/plain": [
       "     Measure     Train      Test\n",
       "0   ACCURACY  0.917597  0.805274\n",
       "1  PRECISION  0.849112  0.387097\n",
       "2     RECALL  0.915470  0.480000\n",
       "3   F1 SCORE  0.881044  0.428571\n",
       "4        AUC  0.917065  0.671818"
      ]
     },
     "execution_count": 50,
     "metadata": {},
     "output_type": "execute_result"
    }
   ],
   "source": [
    "# Show performance results\n",
    "resultsDF = performanceMetricsDF(metrics, y_train2, y_pred_train, y_test, y_pred_test)\n",
    "resultsDF"
   ]
  },
  {
   "cell_type": "code",
   "execution_count": 51,
   "metadata": {
    "executionInfo": {
     "elapsed": 11,
     "status": "aborted",
     "timestamp": 1682529517757,
     "user": {
      "displayName": "Antonina Filatova",
      "userId": "01515660527549186340"
     },
     "user_tz": -60
    },
    "id": "LGoO2c7Hh2HS",
    "scrolled": true
   },
   "outputs": [
    {
     "data": {
      "image/png": "[encoded data removed]",
      "text/plain": [
       "<Figure size 576x396 with 1 Axes>"
      ]
     },
     "metadata": {},
     "output_type": "display_data"
    },
    {
     "data": {
      "text/plain": [
       "<AxesSubplot:title={'center':'ROC Curves for KNeighborsClassifier'}, xlabel='False Positive Rate', ylabel='True Positive Rate'>"
      ]
     },
     "execution_count": 51,
     "metadata": {},
     "output_type": "execute_result"
    }
   ],
   "source": [
    "# ROC curve\n",
    "visualizer = ROCAUC(classModel, classes=['0','1'])\n",
    "visualizer.fit(X_train_scaled2, y_train)\n",
    "visualizer.score(X_test_scaled, y_test)\n",
    "visualizer.show()"
   ]
  },
  {
   "cell_type": "code",
   "execution_count": 52,
   "metadata": {},
   "outputs": [
    {
     "data": {
      "image/png": "[encoded data removed]",
      "text/plain": [
       "<Figure size 576x396 with 1 Axes>"
      ]
     },
     "metadata": {},
     "output_type": "display_data"
    },
    {
     "data": {
      "text/plain": [
       "<AxesSubplot:title={'center':'Learning Curve for KNeighborsClassifier'}, xlabel='Training Instances', ylabel='Score'>"
      ]
     },
     "execution_count": 52,
     "metadata": {},
     "output_type": "execute_result"
    }
   ],
   "source": [
    "# Plot the learning curve\n",
    "cv = 10\n",
    "visualizer = LearningCurve(estimator=classModel, cv=cv, scoring='roc_auc', n_jobs=-1, random_state=123)\n",
    "visualizer.fit(X_train_scaled2, y_train2)\n",
    "visualizer.show()"
   ]
  },
  {
   "cell_type": "code",
   "execution_count": null,
   "metadata": {},
   "outputs": [],
   "source": []
  }
 ],
 "metadata": {
  "colab": {
   "provenance": []
  },
  "interpreter": {
   "hash": "d7a18bc08bf6b314cad8b0dd8f53415ad78d1015cc806d14e4873c235fb4e191"
  },
  "kernelspec": {
   "display_name": "Python 3 (ipykernel)",
   "language": "python",
   "name": "python3"
  },
  "language_info": {
   "codemirror_mode": {
    "name": "ipython",
    "version": 3
   },
   "file_extension": ".py",
   "mimetype": "text/x-python",
   "name": "python",
   "nbconvert_exporter": "python",
   "pygments_lexer": "ipython3",
   "version": "3.9.12"
  }
 },
 "nbformat": 4,
 "nbformat_minor": 1
}
